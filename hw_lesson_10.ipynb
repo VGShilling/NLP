{
  "nbformat": 4,
  "nbformat_minor": 0,
  "metadata": {
    "accelerator": "GPU",
    "colab": {
      "provenance": []
    },
    "kernelspec": {
      "display_name": "Python 3",
      "name": "python3"
    },
    "gpuClass": "standard"
  },
  "cells": [
    {
      "cell_type": "markdown",
      "source": [
        "**Тема “Перевод без механизма внимания \n",
        "SEQ2SEQ модель”**\n",
        "\n",
        "Разобраться с моделькой перевода (без механизма внимания) как она устроена, запустить для перевода с русского на английский (при желании можно взять другие пары языков)\n"
      ],
      "metadata": {
        "id": "WyIGMfR3tVfc"
      }
    },
    {
      "cell_type": "code",
      "metadata": {
        "id": "tnxXKDjq3jEL"
      },
      "source": [
        "import tensorflow as tf\n",
        "\n",
        "import matplotlib.pyplot as plt\n",
        "import matplotlib.ticker as ticker\n",
        "from sklearn.model_selection import train_test_split\n",
        "\n",
        "import unicodedata\n",
        "import re\n",
        "import numpy as np\n",
        "import os\n",
        "import io\n",
        "import time"
      ],
      "execution_count": 1,
      "outputs": []
    },
    {
      "cell_type": "code",
      "metadata": {
        "id": "CNvjhDyAKk3U",
        "colab": {
          "base_uri": "https://localhost:8080/"
        },
        "outputId": "d4082c35-a422-4b48-ff2c-055fda957118"
      },
      "source": [
        "!wget http://www.manythings.org/anki/rus-eng.zip"
      ],
      "execution_count": 2,
      "outputs": [
        {
          "output_type": "stream",
          "name": "stdout",
          "text": [
            "--2022-11-28 10:09:06--  http://www.manythings.org/anki/rus-eng.zip\n",
            "Resolving www.manythings.org (www.manythings.org)... 173.254.30.110\n",
            "Connecting to www.manythings.org (www.manythings.org)|173.254.30.110|:80... connected.\n",
            "HTTP request sent, awaiting response... 200 OK\n",
            "Length: 15011848 (14M) [application/zip]\n",
            "Saving to: ‘rus-eng.zip’\n",
            "\n",
            "rus-eng.zip         100%[===================>]  14.32M  8.56MB/s    in 1.7s    \n",
            "\n",
            "2022-11-28 10:09:09 (8.56 MB/s) - ‘rus-eng.zip’ saved [15011848/15011848]\n",
            "\n"
          ]
        }
      ]
    },
    {
      "cell_type": "code",
      "metadata": {
        "id": "83bg17Lr-7XK",
        "colab": {
          "base_uri": "https://localhost:8080/"
        },
        "outputId": "832551d4-55ef-4b4c-a4e5-25635db6e31e"
      },
      "source": [
        "!mkdir rus-eng\n",
        "!unzip rus-eng.zip -d rus-eng/"
      ],
      "execution_count": 3,
      "outputs": [
        {
          "output_type": "stream",
          "name": "stdout",
          "text": [
            "Archive:  rus-eng.zip\n",
            "  inflating: rus-eng/rus.txt         \n",
            "  inflating: rus-eng/_about.txt      \n"
          ]
        }
      ]
    },
    {
      "cell_type": "code",
      "metadata": {
        "id": "7o5L92efMMhf",
        "colab": {
          "base_uri": "https://localhost:8080/"
        },
        "outputId": "9ca213c9-b756-47ba-c5ff-a23cf6e62b96"
      },
      "source": [
        "!ls /content/rus-eng/ -lah"
      ],
      "execution_count": 4,
      "outputs": [
        {
          "output_type": "stream",
          "name": "stdout",
          "text": [
            "total 72M\n",
            "drwxr-xr-x 2 root root 4.0K Nov 28 10:09 .\n",
            "drwxr-xr-x 1 root root 4.0K Nov 28 10:09 ..\n",
            "-rw-r--r-- 1 root root 1.5K Sep  6 03:10 _about.txt\n",
            "-rw-r--r-- 1 root root  72M Sep  6 03:10 rus.txt\n"
          ]
        }
      ]
    },
    {
      "cell_type": "code",
      "metadata": {
        "id": "kRVATYOgJs1b"
      },
      "source": [
        "path_to_file = \"/content/rus-eng/rus.txt\""
      ],
      "execution_count": 5,
      "outputs": []
    },
    {
      "cell_type": "code",
      "metadata": {
        "id": "rd0jw-eC3jEh"
      },
      "source": [
        "def preprocess_sentence(w):\n",
        "  w = w.lower().strip()\n",
        "  w = re.sub(r\"([?.!,])\", r\" \\1 \", w)\n",
        "  w = re.sub(r'[\" \"]+', \" \", w)\n",
        "  w = re.sub(r\"[^a-zA-Zа-яА-Я?.!,']+\", \" \", w)\n",
        "  w = w.strip()\n",
        "  w = '<start> ' + w + ' <end>'\n",
        "  return w"
      ],
      "execution_count": 6,
      "outputs": []
    },
    {
      "cell_type": "code",
      "metadata": {
        "id": "yV9lZXQXNbnH",
        "colab": {
          "base_uri": "https://localhost:8080/",
          "height": 36
        },
        "outputId": "9c159601-143b-4a13-8e4a-49c74f4a5791"
      },
      "source": [
        "preprocess_sentence(\"I can't go.\")"
      ],
      "execution_count": 7,
      "outputs": [
        {
          "output_type": "execute_result",
          "data": {
            "text/plain": [
              "\"<start> i can't go . <end>\""
            ],
            "application/vnd.google.colaboratory.intrinsic+json": {
              "type": "string"
            }
          },
          "metadata": {},
          "execution_count": 7
        }
      ]
    },
    {
      "cell_type": "code",
      "metadata": {
        "id": "OHn4Dct23jEm"
      },
      "source": [
        "def create_dataset(path, num_examples):\n",
        "  lines = io.open(path, encoding='UTF-8').read().strip().split('\\n')\n",
        "\n",
        "  word_pairs = [[preprocess_sentence(w) for w in l.split('\\t')[:2]]  for l in lines[:num_examples]]\n",
        "\n",
        "  return zip(*word_pairs)"
      ],
      "execution_count": 8,
      "outputs": []
    },
    {
      "cell_type": "code",
      "metadata": {
        "id": "cTbSbBz55QtF",
        "colab": {
          "base_uri": "https://localhost:8080/"
        },
        "outputId": "de6b5748-02b7-47d2-876b-473019990513"
      },
      "source": [
        "en, ru = create_dataset(path_to_file, None)\n",
        "print(en[0])\n",
        "print(ru[0])"
      ],
      "execution_count": 9,
      "outputs": [
        {
          "output_type": "stream",
          "name": "stdout",
          "text": [
            "<start> go . <end>\n",
            "<start> марш ! <end>\n"
          ]
        }
      ]
    },
    {
      "cell_type": "code",
      "metadata": {
        "id": "bIOn8RCNDJXG"
      },
      "source": [
        "def tokenize(lang):\n",
        "  lang_tokenizer = tf.keras.preprocessing.text.Tokenizer(\n",
        "      filters='')\n",
        "  lang_tokenizer.fit_on_texts(lang)\n",
        "\n",
        "  tensor = lang_tokenizer.texts_to_sequences(lang)\n",
        "\n",
        "  tensor = tf.keras.preprocessing.sequence.pad_sequences(tensor,\n",
        "                                                         padding='post')\n",
        "\n",
        "  return tensor, lang_tokenizer"
      ],
      "execution_count": 10,
      "outputs": []
    },
    {
      "cell_type": "code",
      "metadata": {
        "id": "eAY9k49G3jE_"
      },
      "source": [
        "def load_dataset(path, num_examples=None):\n",
        "  targ_lang, inp_lang = create_dataset(path, num_examples)\n",
        "  input_tensor, inp_lang_tokenizer = tokenize(inp_lang)\n",
        "  target_tensor, targ_lang_tokenizer = tokenize(targ_lang)\n",
        "\n",
        "  return input_tensor, target_tensor, inp_lang_tokenizer, targ_lang_tokenizer"
      ],
      "execution_count": 11,
      "outputs": []
    },
    {
      "cell_type": "code",
      "metadata": {
        "id": "C8j9g9AnIeZV",
        "colab": {
          "base_uri": "https://localhost:8080/"
        },
        "outputId": "264b68ea-6f53-47e2-a34c-a03cdc46181a"
      },
      "source": [
        "len(en), len(ru)"
      ],
      "execution_count": 12,
      "outputs": [
        {
          "output_type": "execute_result",
          "data": {
            "text/plain": [
              "(451436, 451436)"
            ]
          },
          "metadata": {},
          "execution_count": 12
        }
      ]
    },
    {
      "cell_type": "code",
      "metadata": {
        "id": "cnxC7q-j3jFD"
      },
      "source": [
        "num_examples = 100000\n",
        "input_tensor, target_tensor, inp_lang, targ_lang = load_dataset(path_to_file, num_examples)\n",
        "\n",
        "max_length_targ, max_length_inp = target_tensor.shape[1], input_tensor.shape[1]"
      ],
      "execution_count": 13,
      "outputs": []
    },
    {
      "cell_type": "code",
      "metadata": {
        "id": "4QILQkOs3jFG",
        "colab": {
          "base_uri": "https://localhost:8080/"
        },
        "outputId": "3786036a-ffd5-454a-82a6-d3617d6bc454"
      },
      "source": [
        "input_tensor_train, input_tensor_val, target_tensor_train, target_tensor_val = train_test_split(input_tensor, target_tensor, test_size=0.2)\n",
        "\n",
        "print(len(input_tensor_train), len(target_tensor_train), len(input_tensor_val), len(target_tensor_val))"
      ],
      "execution_count": 14,
      "outputs": [
        {
          "output_type": "stream",
          "name": "stdout",
          "text": [
            "80000 80000 20000 20000\n"
          ]
        }
      ]
    },
    {
      "cell_type": "code",
      "metadata": {
        "id": "lJPmLZGMeD5q"
      },
      "source": [
        "def convert(lang, tensor):\n",
        "  for t in tensor:\n",
        "    if t!=0:\n",
        "      print (\"%d ----> %s\" % (t, lang.index_word[t]))"
      ],
      "execution_count": 15,
      "outputs": []
    },
    {
      "cell_type": "code",
      "metadata": {
        "id": "VXukARTDd7MT",
        "colab": {
          "base_uri": "https://localhost:8080/"
        },
        "outputId": "db2dee76-4520-4561-8160-03068eada52c"
      },
      "source": [
        "print (\"Input Language; index to word mapping\")\n",
        "convert(inp_lang, input_tensor_train[0])\n",
        "print ()\n",
        "print (\"Target Language; index to word mapping\")\n",
        "convert(targ_lang, target_tensor_train[0])"
      ],
      "execution_count": 16,
      "outputs": [
        {
          "output_type": "stream",
          "name": "stdout",
          "text": [
            "Input Language; index to word mapping\n",
            "1 ----> <start>\n",
            "10 ----> ты\n",
            "73 ----> можешь\n",
            "1408 ----> ответить\n",
            "5 ----> ?\n",
            "2 ----> <end>\n",
            "\n",
            "Target Language; index to word mapping\n",
            "1 ----> <start>\n",
            "25 ----> can\n",
            "7 ----> you\n",
            "327 ----> answer\n",
            "6 ----> ?\n",
            "2 ----> <end>\n"
          ]
        }
      ]
    },
    {
      "cell_type": "code",
      "metadata": {
        "id": "TqHsArVZ3jFS"
      },
      "source": [
        "BUFFER_SIZE = len(input_tensor_train)\n",
        "BATCH_SIZE = 64\n",
        "steps_per_epoch = len(input_tensor_train)//BATCH_SIZE\n",
        "embedding_dim = 300\n",
        "units = 1024\n",
        "vocab_inp_size = len(inp_lang.word_index)+1\n",
        "vocab_tar_size = len(targ_lang.word_index)+1\n",
        "\n",
        "dataset = tf.data.Dataset.from_tensor_slices((input_tensor_train, target_tensor_train)).shuffle(BUFFER_SIZE)\n",
        "dataset = dataset.batch(BATCH_SIZE, drop_remainder=True)"
      ],
      "execution_count": 17,
      "outputs": []
    },
    {
      "cell_type": "code",
      "metadata": {
        "id": "qc6-NK1GtWQt",
        "colab": {
          "base_uri": "https://localhost:8080/"
        },
        "outputId": "05eb880e-22b8-481c-fc76-2565e2503adc"
      },
      "source": [
        "example_input_batch, example_target_batch = next(iter(dataset))\n",
        "example_input_batch.shape, example_target_batch.shape"
      ],
      "execution_count": 18,
      "outputs": [
        {
          "output_type": "execute_result",
          "data": {
            "text/plain": [
              "(TensorShape([64, 15]), TensorShape([64, 11]))"
            ]
          },
          "metadata": {},
          "execution_count": 18
        }
      ]
    },
    {
      "cell_type": "code",
      "metadata": {
        "id": "nZ2rI24i3jFg"
      },
      "source": [
        "class Encoder(tf.keras.Model):\n",
        "  def __init__(self, vocab_size, embedding_dim, enc_units, batch_sz):\n",
        "    super(Encoder, self).__init__()\n",
        "    self.batch_sz = batch_sz\n",
        "    self.enc_units = enc_units\n",
        "    self.embedding = tf.keras.layers.Embedding(vocab_size, embedding_dim)\n",
        "    self.gru = tf.keras.layers.GRU(self.enc_units,\n",
        "                                   return_sequences=False,\n",
        "                                   return_state=True,\n",
        "                                   recurrent_initializer='glorot_uniform')\n",
        "    \n",
        "\n",
        "  def call(self, x, hidden):\n",
        "    x = self.embedding(x)\n",
        "    output, state = self.gru(x, initial_state = hidden)\n",
        "    return state\n",
        "\n",
        "  def initialize_hidden_state(self):\n",
        "    return tf.zeros((self.batch_sz, self.enc_units))"
      ],
      "execution_count": 19,
      "outputs": []
    },
    {
      "cell_type": "code",
      "metadata": {
        "id": "60gSVh05Jl6l",
        "colab": {
          "base_uri": "https://localhost:8080/"
        },
        "outputId": "fea60912-444b-46ec-b84d-137d9434a242"
      },
      "source": [
        "encoder = Encoder(vocab_inp_size, embedding_dim, units, BATCH_SIZE)\n",
        "\n",
        "sample_hidden = encoder.initialize_hidden_state()\n",
        "sample_hidden = encoder(example_input_batch, sample_hidden)\n",
        "# print ('Encoder output shape: (batch size, sequence length, units) {}'.format(sample_output.shape))\n",
        "print ('Encoder Hidden state shape: (batch size, units) {}'.format(sample_hidden.shape))"
      ],
      "execution_count": 20,
      "outputs": [
        {
          "output_type": "stream",
          "name": "stdout",
          "text": [
            "Encoder Hidden state shape: (batch size, units) (64, 1024)\n"
          ]
        }
      ]
    },
    {
      "cell_type": "code",
      "metadata": {
        "id": "yJ_B3mhW3jFk"
      },
      "source": [
        "class Decoder(tf.keras.Model):\n",
        "  def __init__(self, vocab_size, embedding_dim, dec_units, batch_sz):\n",
        "    super(Decoder, self).__init__()\n",
        "    self.batch_sz = batch_sz\n",
        "    self.dec_units = dec_units\n",
        "    self.embedding = tf.keras.layers.Embedding(vocab_size, embedding_dim)\n",
        "    self.gru = tf.keras.layers.GRU(self.dec_units,\n",
        "                                   return_sequences=True,\n",
        "                                   return_state=True,\n",
        "                                   recurrent_initializer='glorot_uniform')\n",
        "    self.fc = tf.keras.layers.Dense(vocab_size)\n",
        "\n",
        "  def call(self, x, hidden):\n",
        "    x = self.embedding(x)\n",
        "    output, state = self.gru(x, initial_state=hidden)\n",
        "    output = tf.reshape(output, (-1, output.shape[2]))\n",
        "    x = self.fc(output)\n",
        "\n",
        "    return x, state"
      ],
      "execution_count": 21,
      "outputs": []
    },
    {
      "cell_type": "code",
      "metadata": {
        "id": "P5UY8wko3jFp"
      },
      "source": [
        "decoder = Decoder(vocab_tar_size, embedding_dim, units, BATCH_SIZE)\n",
        "\n",
        "decoder_sample_x, decoder_sample_h = decoder(tf.random.uniform((BATCH_SIZE, 1)),\n",
        "                                      sample_hidden)"
      ],
      "execution_count": 22,
      "outputs": []
    },
    {
      "cell_type": "code",
      "metadata": {
        "colab": {
          "base_uri": "https://localhost:8080/"
        },
        "id": "XKcypC0AGeLR",
        "outputId": "b5c0421b-4d1c-4f57-e41e-527d724b0d0d"
      },
      "source": [
        "decoder_sample_x.shape"
      ],
      "execution_count": 23,
      "outputs": [
        {
          "output_type": "execute_result",
          "data": {
            "text/plain": [
              "TensorShape([64, 7335])"
            ]
          },
          "metadata": {},
          "execution_count": 23
        }
      ]
    },
    {
      "cell_type": "code",
      "metadata": {
        "id": "6y0HF-zMF_vp",
        "colab": {
          "base_uri": "https://localhost:8080/"
        },
        "outputId": "c4694e77-946a-49b8-83b5-52a78c6d68f3"
      },
      "source": [
        "decoder_sample_h.shape"
      ],
      "execution_count": 24,
      "outputs": [
        {
          "output_type": "execute_result",
          "data": {
            "text/plain": [
              "TensorShape([64, 1024])"
            ]
          },
          "metadata": {},
          "execution_count": 24
        }
      ]
    },
    {
      "cell_type": "code",
      "metadata": {
        "id": "WmTHr5iV3jFr"
      },
      "source": [
        "optimizer = tf.keras.optimizers.Adam()\n",
        "\n",
        "loss_object = tf.keras.losses.SparseCategoricalCrossentropy(\n",
        "    from_logits=True, reduction='none')\n",
        "\n",
        "def loss_function(real, pred):\n",
        "  mask = tf.math.logical_not(tf.math.equal(real, 0))\n",
        "  loss_ = loss_object(real, pred)\n",
        "\n",
        "  mask = tf.cast(mask, dtype=loss_.dtype)\n",
        "  loss_ *= mask\n",
        "\n",
        "  return tf.reduce_mean(loss_)"
      ],
      "execution_count": 25,
      "outputs": []
    },
    {
      "cell_type": "code",
      "metadata": {
        "id": "Zj8bXQTgNwrF"
      },
      "source": [
        "checkpoint_dir = './training_nmt_checkpoints'\n",
        "\n",
        "checkpoint_prefix = os.path.join(checkpoint_dir, \"ckpt\")\n",
        "\n",
        "checkpoint = tf.train.Checkpoint(optimizer=optimizer,\n",
        "                                 encoder=encoder,\n",
        "                                 decoder=decoder)"
      ],
      "execution_count": 26,
      "outputs": []
    },
    {
      "cell_type": "code",
      "metadata": {
        "id": "sC9ArXSsVfqn"
      },
      "source": [
        "@tf.function\n",
        "def train_step(inp, targ, enc_hidden):\n",
        "  loss = 0\n",
        "\n",
        "  with tf.GradientTape() as tape:\n",
        "    enc_hidden = encoder(inp, enc_hidden)\n",
        "\n",
        "    dec_hidden = enc_hidden\n",
        "\n",
        "    dec_input = tf.expand_dims([targ_lang.word_index['<start>']] * BATCH_SIZE, 1)\n",
        "\n",
        "    for t in range(1, targ.shape[1]):\n",
        "      predictions, dec_hidden = decoder(dec_input, dec_hidden)\n",
        "\n",
        "      loss += loss_function(targ[:, t], predictions)\n",
        "\n",
        "      dec_input = tf.expand_dims(targ[:, t], 1)\n",
        "\n",
        "  batch_loss = (loss / int(targ.shape[1]))\n",
        "\n",
        "  variables = encoder.trainable_variables + decoder.trainable_variables\n",
        "\n",
        "  gradients = tape.gradient(loss, variables)\n",
        "\n",
        "  optimizer.apply_gradients(zip(gradients, variables))\n",
        "\n",
        "  return batch_loss"
      ],
      "execution_count": 27,
      "outputs": []
    },
    {
      "cell_type": "code",
      "metadata": {
        "id": "ddefjBMa3jF0",
        "colab": {
          "base_uri": "https://localhost:8080/"
        },
        "outputId": "8e047229-6b00-4003-9d5e-50f51b99bc8d"
      },
      "source": [
        "EPOCHS = 50\n",
        "\n",
        "for epoch in range(EPOCHS):\n",
        "  start = time.time()\n",
        "\n",
        "  enc_hidden = encoder.initialize_hidden_state()\n",
        "  total_loss = 0\n",
        "\n",
        "  for (batch, (inp, targ)) in enumerate(dataset.take(steps_per_epoch)):\n",
        "    batch_loss = train_step(inp, targ, enc_hidden)\n",
        "    total_loss += batch_loss\n",
        "\n",
        "    if batch % 100 == 0:\n",
        "      print('Epoch {} Batch {} Loss {:.4f}'.format(epoch + 1,\n",
        "                                                   batch,\n",
        "                                                   batch_loss.numpy()))\n",
        "  if (epoch + 1) % 2 == 0:\n",
        "    checkpoint.save(file_prefix = checkpoint_prefix)\n",
        "\n",
        "  print('Epoch {} Loss {:.4f}'.format(epoch + 1,\n",
        "                                      total_loss / steps_per_epoch))\n",
        "  print('Time taken for 1 epoch {} sec\\n'.format(time.time() - start))"
      ],
      "execution_count": 28,
      "outputs": [
        {
          "output_type": "stream",
          "name": "stdout",
          "text": [
            "Epoch 1 Batch 0 Loss 4.5766\n",
            "Epoch 1 Batch 100 Loss 2.0349\n",
            "Epoch 1 Batch 200 Loss 1.9129\n",
            "Epoch 1 Batch 300 Loss 1.6688\n",
            "Epoch 1 Batch 400 Loss 1.5557\n",
            "Epoch 1 Batch 500 Loss 1.4738\n",
            "Epoch 1 Batch 600 Loss 1.1958\n",
            "Epoch 1 Batch 700 Loss 1.2528\n",
            "Epoch 1 Batch 800 Loss 1.1445\n",
            "Epoch 1 Batch 900 Loss 1.1008\n",
            "Epoch 1 Batch 1000 Loss 1.1195\n",
            "Epoch 1 Batch 1100 Loss 1.0000\n",
            "Epoch 1 Batch 1200 Loss 0.8657\n",
            "Epoch 1 Loss 1.3895\n",
            "Time taken for 1 epoch 68.96915030479431 sec\n",
            "\n",
            "Epoch 2 Batch 0 Loss 0.8476\n",
            "Epoch 2 Batch 100 Loss 0.8511\n",
            "Epoch 2 Batch 200 Loss 0.8627\n",
            "Epoch 2 Batch 300 Loss 0.7016\n",
            "Epoch 2 Batch 400 Loss 0.7249\n",
            "Epoch 2 Batch 500 Loss 0.7283\n",
            "Epoch 2 Batch 600 Loss 0.6255\n",
            "Epoch 2 Batch 700 Loss 0.6233\n",
            "Epoch 2 Batch 800 Loss 0.6251\n",
            "Epoch 2 Batch 900 Loss 0.6937\n",
            "Epoch 2 Batch 1000 Loss 0.5827\n",
            "Epoch 2 Batch 1100 Loss 0.4924\n",
            "Epoch 2 Batch 1200 Loss 0.5541\n",
            "Epoch 2 Loss 0.6696\n",
            "Time taken for 1 epoch 58.09599161148071 sec\n",
            "\n",
            "Epoch 3 Batch 0 Loss 0.4010\n",
            "Epoch 3 Batch 100 Loss 0.3153\n",
            "Epoch 3 Batch 200 Loss 0.4189\n",
            "Epoch 3 Batch 300 Loss 0.4201\n",
            "Epoch 3 Batch 400 Loss 0.3695\n",
            "Epoch 3 Batch 500 Loss 0.3885\n",
            "Epoch 3 Batch 600 Loss 0.4019\n",
            "Epoch 3 Batch 700 Loss 0.3486\n",
            "Epoch 3 Batch 800 Loss 0.3527\n",
            "Epoch 3 Batch 900 Loss 0.3856\n",
            "Epoch 3 Batch 1000 Loss 0.2970\n",
            "Epoch 3 Batch 1100 Loss 0.2720\n",
            "Epoch 3 Batch 1200 Loss 0.3826\n",
            "Epoch 3 Loss 0.3687\n",
            "Time taken for 1 epoch 56.8165225982666 sec\n",
            "\n",
            "Epoch 4 Batch 0 Loss 0.2122\n",
            "Epoch 4 Batch 100 Loss 0.2056\n",
            "Epoch 4 Batch 200 Loss 0.2074\n",
            "Epoch 4 Batch 300 Loss 0.1919\n",
            "Epoch 4 Batch 400 Loss 0.2011\n",
            "Epoch 4 Batch 500 Loss 0.2353\n",
            "Epoch 4 Batch 600 Loss 0.2146\n",
            "Epoch 4 Batch 700 Loss 0.2280\n",
            "Epoch 4 Batch 800 Loss 0.2185\n",
            "Epoch 4 Batch 900 Loss 0.2923\n",
            "Epoch 4 Batch 1000 Loss 0.2563\n",
            "Epoch 4 Batch 1100 Loss 0.2318\n",
            "Epoch 4 Batch 1200 Loss 0.2680\n",
            "Epoch 4 Loss 0.2260\n",
            "Time taken for 1 epoch 57.57388615608215 sec\n",
            "\n",
            "Epoch 5 Batch 0 Loss 0.1711\n",
            "Epoch 5 Batch 100 Loss 0.1191\n",
            "Epoch 5 Batch 200 Loss 0.1276\n",
            "Epoch 5 Batch 300 Loss 0.1462\n",
            "Epoch 5 Batch 400 Loss 0.1225\n",
            "Epoch 5 Batch 500 Loss 0.2161\n",
            "Epoch 5 Batch 600 Loss 0.2025\n",
            "Epoch 5 Batch 700 Loss 0.2088\n",
            "Epoch 5 Batch 800 Loss 0.1704\n",
            "Epoch 5 Batch 900 Loss 0.2360\n",
            "Epoch 5 Batch 1000 Loss 0.1559\n",
            "Epoch 5 Batch 1100 Loss 0.1445\n",
            "Epoch 5 Batch 1200 Loss 0.1692\n",
            "Epoch 5 Loss 0.1564\n",
            "Time taken for 1 epoch 56.94952654838562 sec\n",
            "\n",
            "Epoch 6 Batch 0 Loss 0.1237\n",
            "Epoch 6 Batch 100 Loss 0.0963\n",
            "Epoch 6 Batch 200 Loss 0.0792\n",
            "Epoch 6 Batch 300 Loss 0.1421\n",
            "Epoch 6 Batch 400 Loss 0.1120\n",
            "Epoch 6 Batch 500 Loss 0.1159\n",
            "Epoch 6 Batch 600 Loss 0.1191\n",
            "Epoch 6 Batch 700 Loss 0.1317\n",
            "Epoch 6 Batch 800 Loss 0.1624\n",
            "Epoch 6 Batch 900 Loss 0.1484\n",
            "Epoch 6 Batch 1000 Loss 0.1175\n",
            "Epoch 6 Batch 1100 Loss 0.1578\n",
            "Epoch 6 Batch 1200 Loss 0.1369\n",
            "Epoch 6 Loss 0.1215\n",
            "Time taken for 1 epoch 57.52735733985901 sec\n",
            "\n",
            "Epoch 7 Batch 0 Loss 0.0785\n",
            "Epoch 7 Batch 100 Loss 0.0733\n",
            "Epoch 7 Batch 200 Loss 0.0733\n",
            "Epoch 7 Batch 300 Loss 0.0934\n",
            "Epoch 7 Batch 400 Loss 0.0679\n",
            "Epoch 7 Batch 500 Loss 0.0643\n",
            "Epoch 7 Batch 600 Loss 0.1072\n",
            "Epoch 7 Batch 700 Loss 0.0634\n",
            "Epoch 7 Batch 800 Loss 0.1153\n",
            "Epoch 7 Batch 900 Loss 0.1381\n",
            "Epoch 7 Batch 1000 Loss 0.0880\n",
            "Epoch 7 Batch 1100 Loss 0.1032\n",
            "Epoch 7 Batch 1200 Loss 0.1378\n",
            "Epoch 7 Loss 0.1041\n",
            "Time taken for 1 epoch 56.94893145561218 sec\n",
            "\n",
            "Epoch 8 Batch 0 Loss 0.0589\n",
            "Epoch 8 Batch 100 Loss 0.0864\n",
            "Epoch 8 Batch 200 Loss 0.0866\n",
            "Epoch 8 Batch 300 Loss 0.1125\n",
            "Epoch 8 Batch 400 Loss 0.0710\n",
            "Epoch 8 Batch 500 Loss 0.0726\n",
            "Epoch 8 Batch 600 Loss 0.0910\n",
            "Epoch 8 Batch 700 Loss 0.0951\n",
            "Epoch 8 Batch 800 Loss 0.0706\n",
            "Epoch 8 Batch 900 Loss 0.1241\n",
            "Epoch 8 Batch 1000 Loss 0.0956\n",
            "Epoch 8 Batch 1100 Loss 0.0996\n",
            "Epoch 8 Batch 1200 Loss 0.1019\n",
            "Epoch 8 Loss 0.0943\n",
            "Time taken for 1 epoch 57.50147771835327 sec\n",
            "\n",
            "Epoch 9 Batch 0 Loss 0.0958\n",
            "Epoch 9 Batch 100 Loss 0.0571\n",
            "Epoch 9 Batch 200 Loss 0.0605\n",
            "Epoch 9 Batch 300 Loss 0.0861\n",
            "Epoch 9 Batch 400 Loss 0.0928\n",
            "Epoch 9 Batch 500 Loss 0.0833\n",
            "Epoch 9 Batch 600 Loss 0.0525\n",
            "Epoch 9 Batch 700 Loss 0.0803\n",
            "Epoch 9 Batch 800 Loss 0.1248\n",
            "Epoch 9 Batch 900 Loss 0.0833\n",
            "Epoch 9 Batch 1000 Loss 0.1075\n",
            "Epoch 9 Batch 1100 Loss 0.1016\n",
            "Epoch 9 Batch 1200 Loss 0.0956\n",
            "Epoch 9 Loss 0.0875\n",
            "Time taken for 1 epoch 56.891825914382935 sec\n",
            "\n",
            "Epoch 10 Batch 0 Loss 0.0747\n",
            "Epoch 10 Batch 100 Loss 0.0510\n",
            "Epoch 10 Batch 200 Loss 0.0397\n",
            "Epoch 10 Batch 300 Loss 0.0776\n",
            "Epoch 10 Batch 400 Loss 0.0861\n",
            "Epoch 10 Batch 500 Loss 0.1269\n",
            "Epoch 10 Batch 600 Loss 0.0930\n",
            "Epoch 10 Batch 700 Loss 0.1016\n",
            "Epoch 10 Batch 800 Loss 0.0457\n",
            "Epoch 10 Batch 900 Loss 0.1273\n",
            "Epoch 10 Batch 1000 Loss 0.0667\n",
            "Epoch 10 Batch 1100 Loss 0.1090\n",
            "Epoch 10 Batch 1200 Loss 0.0665\n",
            "Epoch 10 Loss 0.0834\n",
            "Time taken for 1 epoch 57.6481876373291 sec\n",
            "\n",
            "Epoch 11 Batch 0 Loss 0.0735\n",
            "Epoch 11 Batch 100 Loss 0.0570\n",
            "Epoch 11 Batch 200 Loss 0.0752\n",
            "Epoch 11 Batch 300 Loss 0.0686\n",
            "Epoch 11 Batch 400 Loss 0.1209\n",
            "Epoch 11 Batch 500 Loss 0.0522\n",
            "Epoch 11 Batch 600 Loss 0.0681\n",
            "Epoch 11 Batch 700 Loss 0.1031\n",
            "Epoch 11 Batch 800 Loss 0.1048\n",
            "Epoch 11 Batch 900 Loss 0.0829\n",
            "Epoch 11 Batch 1000 Loss 0.0947\n",
            "Epoch 11 Batch 1100 Loss 0.1253\n",
            "Epoch 11 Batch 1200 Loss 0.0829\n",
            "Epoch 11 Loss 0.0799\n",
            "Time taken for 1 epoch 56.949300050735474 sec\n",
            "\n",
            "Epoch 12 Batch 0 Loss 0.0626\n",
            "Epoch 12 Batch 100 Loss 0.0652\n",
            "Epoch 12 Batch 200 Loss 0.0527\n",
            "Epoch 12 Batch 300 Loss 0.0526\n",
            "Epoch 12 Batch 400 Loss 0.0624\n",
            "Epoch 12 Batch 500 Loss 0.0875\n",
            "Epoch 12 Batch 600 Loss 0.0793\n",
            "Epoch 12 Batch 700 Loss 0.0995\n",
            "Epoch 12 Batch 800 Loss 0.1116\n",
            "Epoch 12 Batch 900 Loss 0.0939\n",
            "Epoch 12 Batch 1000 Loss 0.0927\n",
            "Epoch 12 Batch 1100 Loss 0.0826\n",
            "Epoch 12 Batch 1200 Loss 0.1046\n",
            "Epoch 12 Loss 0.0763\n",
            "Time taken for 1 epoch 57.50650763511658 sec\n",
            "\n",
            "Epoch 13 Batch 0 Loss 0.0729\n",
            "Epoch 13 Batch 100 Loss 0.0661\n",
            "Epoch 13 Batch 200 Loss 0.0525\n",
            "Epoch 13 Batch 300 Loss 0.0619\n",
            "Epoch 13 Batch 400 Loss 0.0836\n",
            "Epoch 13 Batch 500 Loss 0.0594\n",
            "Epoch 13 Batch 600 Loss 0.0287\n",
            "Epoch 13 Batch 700 Loss 0.0803\n",
            "Epoch 13 Batch 800 Loss 0.0525\n",
            "Epoch 13 Batch 900 Loss 0.1128\n",
            "Epoch 13 Batch 1000 Loss 0.0736\n",
            "Epoch 13 Batch 1100 Loss 0.0958\n",
            "Epoch 13 Batch 1200 Loss 0.0933\n",
            "Epoch 13 Loss 0.0754\n",
            "Time taken for 1 epoch 56.918865442276 sec\n",
            "\n",
            "Epoch 14 Batch 0 Loss 0.0778\n",
            "Epoch 14 Batch 100 Loss 0.0660\n",
            "Epoch 14 Batch 200 Loss 0.0247\n",
            "Epoch 14 Batch 300 Loss 0.0623\n",
            "Epoch 14 Batch 400 Loss 0.0604\n",
            "Epoch 14 Batch 500 Loss 0.0700\n",
            "Epoch 14 Batch 600 Loss 0.0531\n",
            "Epoch 14 Batch 700 Loss 0.0972\n",
            "Epoch 14 Batch 800 Loss 0.0719\n",
            "Epoch 14 Batch 900 Loss 0.0677\n",
            "Epoch 14 Batch 1000 Loss 0.0542\n",
            "Epoch 14 Batch 1100 Loss 0.0773\n",
            "Epoch 14 Batch 1200 Loss 0.1140\n",
            "Epoch 14 Loss 0.0731\n",
            "Time taken for 1 epoch 57.67924356460571 sec\n",
            "\n",
            "Epoch 15 Batch 0 Loss 0.0382\n",
            "Epoch 15 Batch 100 Loss 0.0536\n",
            "Epoch 15 Batch 200 Loss 0.0746\n",
            "Epoch 15 Batch 300 Loss 0.0686\n",
            "Epoch 15 Batch 400 Loss 0.0721\n",
            "Epoch 15 Batch 500 Loss 0.0358\n",
            "Epoch 15 Batch 600 Loss 0.0626\n",
            "Epoch 15 Batch 700 Loss 0.0735\n",
            "Epoch 15 Batch 800 Loss 0.0721\n",
            "Epoch 15 Batch 900 Loss 0.1062\n",
            "Epoch 15 Batch 1000 Loss 0.1008\n",
            "Epoch 15 Batch 1100 Loss 0.0724\n",
            "Epoch 15 Batch 1200 Loss 0.1112\n",
            "Epoch 15 Loss 0.0707\n",
            "Time taken for 1 epoch 56.91362428665161 sec\n",
            "\n",
            "Epoch 16 Batch 0 Loss 0.0380\n",
            "Epoch 16 Batch 100 Loss 0.0578\n",
            "Epoch 16 Batch 200 Loss 0.0285\n",
            "Epoch 16 Batch 300 Loss 0.0495\n",
            "Epoch 16 Batch 400 Loss 0.0703\n",
            "Epoch 16 Batch 500 Loss 0.0531\n",
            "Epoch 16 Batch 600 Loss 0.0493\n",
            "Epoch 16 Batch 700 Loss 0.0778\n",
            "Epoch 16 Batch 800 Loss 0.0788\n",
            "Epoch 16 Batch 900 Loss 0.0634\n",
            "Epoch 16 Batch 1000 Loss 0.0476\n",
            "Epoch 16 Batch 1100 Loss 0.0467\n",
            "Epoch 16 Batch 1200 Loss 0.1094\n",
            "Epoch 16 Loss 0.0702\n",
            "Time taken for 1 epoch 57.634281158447266 sec\n",
            "\n",
            "Epoch 17 Batch 0 Loss 0.0355\n",
            "Epoch 17 Batch 100 Loss 0.0546\n",
            "Epoch 17 Batch 200 Loss 0.0518\n",
            "Epoch 17 Batch 300 Loss 0.0374\n",
            "Epoch 17 Batch 400 Loss 0.0628\n",
            "Epoch 17 Batch 500 Loss 0.0531\n",
            "Epoch 17 Batch 600 Loss 0.1052\n",
            "Epoch 17 Batch 700 Loss 0.0557\n",
            "Epoch 17 Batch 800 Loss 0.0962\n",
            "Epoch 17 Batch 900 Loss 0.0464\n",
            "Epoch 17 Batch 1000 Loss 0.0670\n",
            "Epoch 17 Batch 1100 Loss 0.0803\n",
            "Epoch 17 Batch 1200 Loss 0.0733\n",
            "Epoch 17 Loss 0.0689\n",
            "Time taken for 1 epoch 56.910659313201904 sec\n",
            "\n",
            "Epoch 18 Batch 0 Loss 0.0350\n",
            "Epoch 18 Batch 100 Loss 0.0642\n",
            "Epoch 18 Batch 200 Loss 0.0450\n",
            "Epoch 18 Batch 300 Loss 0.0569\n",
            "Epoch 18 Batch 400 Loss 0.0355\n",
            "Epoch 18 Batch 500 Loss 0.0396\n",
            "Epoch 18 Batch 600 Loss 0.0467\n",
            "Epoch 18 Batch 700 Loss 0.0484\n",
            "Epoch 18 Batch 800 Loss 0.0759\n",
            "Epoch 18 Batch 900 Loss 0.0610\n",
            "Epoch 18 Batch 1000 Loss 0.0649\n",
            "Epoch 18 Batch 1100 Loss 0.0617\n",
            "Epoch 18 Batch 1200 Loss 0.0608\n",
            "Epoch 18 Loss 0.0669\n",
            "Time taken for 1 epoch 57.634432792663574 sec\n",
            "\n",
            "Epoch 19 Batch 0 Loss 0.0517\n",
            "Epoch 19 Batch 100 Loss 0.0390\n",
            "Epoch 19 Batch 200 Loss 0.0696\n",
            "Epoch 19 Batch 300 Loss 0.0440\n",
            "Epoch 19 Batch 400 Loss 0.0755\n",
            "Epoch 19 Batch 500 Loss 0.0967\n",
            "Epoch 19 Batch 600 Loss 0.0985\n",
            "Epoch 19 Batch 700 Loss 0.0812\n",
            "Epoch 19 Batch 800 Loss 0.1184\n",
            "Epoch 19 Batch 900 Loss 0.0571\n",
            "Epoch 19 Batch 1000 Loss 0.1360\n",
            "Epoch 19 Batch 1100 Loss 0.0513\n",
            "Epoch 19 Batch 1200 Loss 0.0826\n",
            "Epoch 19 Loss 0.0665\n",
            "Time taken for 1 epoch 56.90829253196716 sec\n",
            "\n",
            "Epoch 20 Batch 0 Loss 0.0544\n",
            "Epoch 20 Batch 100 Loss 0.0304\n",
            "Epoch 20 Batch 200 Loss 0.0497\n",
            "Epoch 20 Batch 300 Loss 0.0426\n",
            "Epoch 20 Batch 400 Loss 0.0538\n",
            "Epoch 20 Batch 500 Loss 0.0420\n",
            "Epoch 20 Batch 600 Loss 0.1152\n",
            "Epoch 20 Batch 700 Loss 0.0562\n",
            "Epoch 20 Batch 800 Loss 0.0984\n",
            "Epoch 20 Batch 900 Loss 0.0797\n",
            "Epoch 20 Batch 1000 Loss 0.1376\n",
            "Epoch 20 Batch 1100 Loss 0.0736\n",
            "Epoch 20 Batch 1200 Loss 0.0406\n",
            "Epoch 20 Loss 0.0652\n",
            "Time taken for 1 epoch 57.51603293418884 sec\n",
            "\n",
            "Epoch 21 Batch 0 Loss 0.0626\n",
            "Epoch 21 Batch 100 Loss 0.0242\n",
            "Epoch 21 Batch 200 Loss 0.0511\n",
            "Epoch 21 Batch 300 Loss 0.0460\n",
            "Epoch 21 Batch 400 Loss 0.0615\n",
            "Epoch 21 Batch 500 Loss 0.0447\n",
            "Epoch 21 Batch 600 Loss 0.0375\n",
            "Epoch 21 Batch 700 Loss 0.0665\n",
            "Epoch 21 Batch 800 Loss 0.0621\n",
            "Epoch 21 Batch 900 Loss 0.0332\n",
            "Epoch 21 Batch 1000 Loss 0.0576\n",
            "Epoch 21 Batch 1100 Loss 0.0373\n",
            "Epoch 21 Batch 1200 Loss 0.0850\n",
            "Epoch 21 Loss 0.0650\n",
            "Time taken for 1 epoch 56.8398175239563 sec\n",
            "\n",
            "Epoch 22 Batch 0 Loss 0.0331\n",
            "Epoch 22 Batch 100 Loss 0.0387\n",
            "Epoch 22 Batch 200 Loss 0.0420\n",
            "Epoch 22 Batch 300 Loss 0.1018\n",
            "Epoch 22 Batch 400 Loss 0.0705\n",
            "Epoch 22 Batch 500 Loss 0.0909\n",
            "Epoch 22 Batch 600 Loss 0.0550\n",
            "Epoch 22 Batch 700 Loss 0.0470\n",
            "Epoch 22 Batch 800 Loss 0.0462\n",
            "Epoch 22 Batch 900 Loss 0.0480\n",
            "Epoch 22 Batch 1000 Loss 0.0673\n",
            "Epoch 22 Batch 1100 Loss 0.0809\n",
            "Epoch 22 Batch 1200 Loss 0.0701\n",
            "Epoch 22 Loss 0.0632\n",
            "Time taken for 1 epoch 57.43489670753479 sec\n",
            "\n",
            "Epoch 23 Batch 0 Loss 0.0454\n",
            "Epoch 23 Batch 100 Loss 0.0855\n",
            "Epoch 23 Batch 200 Loss 0.0666\n",
            "Epoch 23 Batch 300 Loss 0.0368\n",
            "Epoch 23 Batch 400 Loss 0.0386\n",
            "Epoch 23 Batch 500 Loss 0.0656\n",
            "Epoch 23 Batch 600 Loss 0.0290\n",
            "Epoch 23 Batch 700 Loss 0.0295\n",
            "Epoch 23 Batch 800 Loss 0.0678\n",
            "Epoch 23 Batch 900 Loss 0.0674\n",
            "Epoch 23 Batch 1000 Loss 0.0811\n",
            "Epoch 23 Batch 1100 Loss 0.0440\n",
            "Epoch 23 Batch 1200 Loss 0.0869\n",
            "Epoch 23 Loss 0.0629\n",
            "Time taken for 1 epoch 56.87946820259094 sec\n",
            "\n",
            "Epoch 24 Batch 0 Loss 0.0249\n",
            "Epoch 24 Batch 100 Loss 0.0737\n",
            "Epoch 24 Batch 200 Loss 0.0835\n",
            "Epoch 24 Batch 300 Loss 0.0388\n",
            "Epoch 24 Batch 400 Loss 0.0157\n",
            "Epoch 24 Batch 500 Loss 0.0778\n",
            "Epoch 24 Batch 600 Loss 0.0985\n",
            "Epoch 24 Batch 700 Loss 0.0354\n",
            "Epoch 24 Batch 800 Loss 0.1109\n",
            "Epoch 24 Batch 900 Loss 0.0612\n",
            "Epoch 24 Batch 1000 Loss 0.0614\n",
            "Epoch 24 Batch 1100 Loss 0.0926\n",
            "Epoch 24 Batch 1200 Loss 0.0855\n",
            "Epoch 24 Loss 0.0620\n",
            "Time taken for 1 epoch 57.54697775840759 sec\n",
            "\n",
            "Epoch 25 Batch 0 Loss 0.0682\n",
            "Epoch 25 Batch 100 Loss 0.0542\n",
            "Epoch 25 Batch 200 Loss 0.0471\n",
            "Epoch 25 Batch 300 Loss 0.0424\n",
            "Epoch 25 Batch 400 Loss 0.0677\n",
            "Epoch 25 Batch 500 Loss 0.0561\n",
            "Epoch 25 Batch 600 Loss 0.0688\n",
            "Epoch 25 Batch 700 Loss 0.0465\n",
            "Epoch 25 Batch 800 Loss 0.0438\n",
            "Epoch 25 Batch 900 Loss 0.0754\n",
            "Epoch 25 Batch 1000 Loss 0.0750\n",
            "Epoch 25 Batch 1100 Loss 0.0772\n",
            "Epoch 25 Batch 1200 Loss 0.0908\n",
            "Epoch 25 Loss 0.0614\n",
            "Time taken for 1 epoch 56.94059133529663 sec\n",
            "\n",
            "Epoch 26 Batch 0 Loss 0.0442\n",
            "Epoch 26 Batch 100 Loss 0.0253\n",
            "Epoch 26 Batch 200 Loss 0.0676\n",
            "Epoch 26 Batch 300 Loss 0.0657\n",
            "Epoch 26 Batch 400 Loss 0.0737\n",
            "Epoch 26 Batch 500 Loss 0.0408\n",
            "Epoch 26 Batch 600 Loss 0.0445\n",
            "Epoch 26 Batch 700 Loss 0.0562\n",
            "Epoch 26 Batch 800 Loss 0.0901\n",
            "Epoch 26 Batch 900 Loss 0.0791\n",
            "Epoch 26 Batch 1000 Loss 0.0810\n",
            "Epoch 26 Batch 1100 Loss 0.0731\n",
            "Epoch 26 Batch 1200 Loss 0.0664\n",
            "Epoch 26 Loss 0.0606\n",
            "Time taken for 1 epoch 57.58727407455444 sec\n",
            "\n",
            "Epoch 27 Batch 0 Loss 0.0457\n",
            "Epoch 27 Batch 100 Loss 0.0684\n",
            "Epoch 27 Batch 200 Loss 0.0573\n",
            "Epoch 27 Batch 300 Loss 0.0561\n",
            "Epoch 27 Batch 400 Loss 0.0308\n",
            "Epoch 27 Batch 500 Loss 0.0585\n",
            "Epoch 27 Batch 600 Loss 0.0530\n",
            "Epoch 27 Batch 700 Loss 0.0686\n",
            "Epoch 27 Batch 800 Loss 0.0613\n",
            "Epoch 27 Batch 900 Loss 0.0704\n",
            "Epoch 27 Batch 1000 Loss 0.0690\n",
            "Epoch 27 Batch 1100 Loss 0.0484\n",
            "Epoch 27 Batch 1200 Loss 0.0448\n",
            "Epoch 27 Loss 0.0598\n",
            "Time taken for 1 epoch 56.96759629249573 sec\n",
            "\n",
            "Epoch 28 Batch 0 Loss 0.0312\n",
            "Epoch 28 Batch 100 Loss 0.0368\n",
            "Epoch 28 Batch 200 Loss 0.0435\n",
            "Epoch 28 Batch 300 Loss 0.0544\n",
            "Epoch 28 Batch 400 Loss 0.0631\n",
            "Epoch 28 Batch 500 Loss 0.0342\n",
            "Epoch 28 Batch 600 Loss 0.0541\n",
            "Epoch 28 Batch 700 Loss 0.0752\n",
            "Epoch 28 Batch 800 Loss 0.0240\n",
            "Epoch 28 Batch 900 Loss 0.0541\n",
            "Epoch 28 Batch 1000 Loss 0.0865\n",
            "Epoch 28 Batch 1100 Loss 0.0865\n",
            "Epoch 28 Batch 1200 Loss 0.0724\n",
            "Epoch 28 Loss 0.0597\n",
            "Time taken for 1 epoch 57.55440902709961 sec\n",
            "\n",
            "Epoch 29 Batch 0 Loss 0.0217\n",
            "Epoch 29 Batch 100 Loss 0.0601\n",
            "Epoch 29 Batch 200 Loss 0.0495\n",
            "Epoch 29 Batch 300 Loss 0.0374\n",
            "Epoch 29 Batch 400 Loss 0.0671\n",
            "Epoch 29 Batch 500 Loss 0.0717\n",
            "Epoch 29 Batch 600 Loss 0.0739\n",
            "Epoch 29 Batch 700 Loss 0.0607\n",
            "Epoch 29 Batch 800 Loss 0.0472\n",
            "Epoch 29 Batch 900 Loss 0.0563\n",
            "Epoch 29 Batch 1000 Loss 0.0786\n",
            "Epoch 29 Batch 1100 Loss 0.1217\n",
            "Epoch 29 Batch 1200 Loss 0.0574\n",
            "Epoch 29 Loss 0.0588\n",
            "Time taken for 1 epoch 56.816718101501465 sec\n",
            "\n",
            "Epoch 30 Batch 0 Loss 0.0426\n",
            "Epoch 30 Batch 100 Loss 0.0285\n",
            "Epoch 30 Batch 200 Loss 0.0412\n",
            "Epoch 30 Batch 300 Loss 0.0314\n",
            "Epoch 30 Batch 400 Loss 0.0871\n",
            "Epoch 30 Batch 500 Loss 0.0597\n",
            "Epoch 30 Batch 600 Loss 0.0668\n",
            "Epoch 30 Batch 700 Loss 0.0708\n",
            "Epoch 30 Batch 800 Loss 0.0520\n",
            "Epoch 30 Batch 900 Loss 0.0993\n",
            "Epoch 30 Batch 1000 Loss 0.0814\n",
            "Epoch 30 Batch 1100 Loss 0.0320\n",
            "Epoch 30 Batch 1200 Loss 0.0618\n",
            "Epoch 30 Loss 0.0586\n",
            "Time taken for 1 epoch 57.51297068595886 sec\n",
            "\n",
            "Epoch 31 Batch 0 Loss 0.0255\n",
            "Epoch 31 Batch 100 Loss 0.0430\n",
            "Epoch 31 Batch 200 Loss 0.0385\n",
            "Epoch 31 Batch 300 Loss 0.0394\n",
            "Epoch 31 Batch 400 Loss 0.0358\n",
            "Epoch 31 Batch 500 Loss 0.0380\n",
            "Epoch 31 Batch 600 Loss 0.0371\n",
            "Epoch 31 Batch 700 Loss 0.0565\n",
            "Epoch 31 Batch 800 Loss 0.0686\n",
            "Epoch 31 Batch 900 Loss 0.0597\n",
            "Epoch 31 Batch 1000 Loss 0.0376\n",
            "Epoch 31 Batch 1100 Loss 0.0828\n",
            "Epoch 31 Batch 1200 Loss 0.0527\n",
            "Epoch 31 Loss 0.0581\n",
            "Time taken for 1 epoch 56.86099910736084 sec\n",
            "\n",
            "Epoch 32 Batch 0 Loss 0.0416\n",
            "Epoch 32 Batch 100 Loss 0.0388\n",
            "Epoch 32 Batch 200 Loss 0.0365\n",
            "Epoch 32 Batch 300 Loss 0.0152\n",
            "Epoch 32 Batch 400 Loss 0.0496\n",
            "Epoch 32 Batch 500 Loss 0.1016\n",
            "Epoch 32 Batch 600 Loss 0.0385\n",
            "Epoch 32 Batch 700 Loss 0.0672\n",
            "Epoch 32 Batch 800 Loss 0.0404\n",
            "Epoch 32 Batch 900 Loss 0.0864\n",
            "Epoch 32 Batch 1000 Loss 0.1156\n",
            "Epoch 32 Batch 1100 Loss 0.0765\n",
            "Epoch 32 Batch 1200 Loss 0.0856\n",
            "Epoch 32 Loss 0.0568\n",
            "Time taken for 1 epoch 57.52439856529236 sec\n",
            "\n",
            "Epoch 33 Batch 0 Loss 0.0681\n",
            "Epoch 33 Batch 100 Loss 0.0470\n",
            "Epoch 33 Batch 200 Loss 0.0471\n",
            "Epoch 33 Batch 300 Loss 0.0609\n",
            "Epoch 33 Batch 400 Loss 0.0248\n",
            "Epoch 33 Batch 500 Loss 0.0576\n",
            "Epoch 33 Batch 600 Loss 0.0493\n",
            "Epoch 33 Batch 700 Loss 0.0498\n",
            "Epoch 33 Batch 800 Loss 0.0544\n",
            "Epoch 33 Batch 900 Loss 0.0693\n",
            "Epoch 33 Batch 1000 Loss 0.0798\n",
            "Epoch 33 Batch 1100 Loss 0.0580\n",
            "Epoch 33 Batch 1200 Loss 0.0896\n",
            "Epoch 33 Loss 0.0563\n",
            "Time taken for 1 epoch 56.895206451416016 sec\n",
            "\n",
            "Epoch 34 Batch 0 Loss 0.0384\n",
            "Epoch 34 Batch 100 Loss 0.0504\n",
            "Epoch 34 Batch 200 Loss 0.0313\n",
            "Epoch 34 Batch 300 Loss 0.0332\n",
            "Epoch 34 Batch 400 Loss 0.0720\n",
            "Epoch 34 Batch 500 Loss 0.0483\n",
            "Epoch 34 Batch 600 Loss 0.0394\n",
            "Epoch 34 Batch 700 Loss 0.0614\n",
            "Epoch 34 Batch 800 Loss 0.0392\n",
            "Epoch 34 Batch 900 Loss 0.0417\n",
            "Epoch 34 Batch 1000 Loss 0.0463\n",
            "Epoch 34 Batch 1100 Loss 0.1205\n",
            "Epoch 34 Batch 1200 Loss 0.0732\n",
            "Epoch 34 Loss 0.0560\n",
            "Time taken for 1 epoch 57.518471002578735 sec\n",
            "\n",
            "Epoch 35 Batch 0 Loss 0.0593\n",
            "Epoch 35 Batch 100 Loss 0.0408\n",
            "Epoch 35 Batch 200 Loss 0.0411\n",
            "Epoch 35 Batch 300 Loss 0.0451\n",
            "Epoch 35 Batch 400 Loss 0.0935\n",
            "Epoch 35 Batch 500 Loss 0.0558\n",
            "Epoch 35 Batch 600 Loss 0.0430\n",
            "Epoch 35 Batch 700 Loss 0.0255\n",
            "Epoch 35 Batch 800 Loss 0.0901\n",
            "Epoch 35 Batch 900 Loss 0.0659\n",
            "Epoch 35 Batch 1000 Loss 0.0400\n",
            "Epoch 35 Batch 1100 Loss 0.0453\n",
            "Epoch 35 Batch 1200 Loss 0.0472\n",
            "Epoch 35 Loss 0.0552\n",
            "Time taken for 1 epoch 56.90030646324158 sec\n",
            "\n",
            "Epoch 36 Batch 0 Loss 0.0453\n",
            "Epoch 36 Batch 100 Loss 0.0424\n",
            "Epoch 36 Batch 200 Loss 0.0386\n",
            "Epoch 36 Batch 300 Loss 0.0341\n",
            "Epoch 36 Batch 400 Loss 0.0325\n",
            "Epoch 36 Batch 500 Loss 0.0337\n",
            "Epoch 36 Batch 600 Loss 0.0421\n",
            "Epoch 36 Batch 700 Loss 0.0640\n",
            "Epoch 36 Batch 800 Loss 0.0305\n",
            "Epoch 36 Batch 900 Loss 0.0417\n",
            "Epoch 36 Batch 1000 Loss 0.0681\n",
            "Epoch 36 Batch 1100 Loss 0.0485\n",
            "Epoch 36 Batch 1200 Loss 0.0517\n",
            "Epoch 36 Loss 0.0551\n",
            "Time taken for 1 epoch 57.52102017402649 sec\n",
            "\n",
            "Epoch 37 Batch 0 Loss 0.0277\n",
            "Epoch 37 Batch 100 Loss 0.0490\n",
            "Epoch 37 Batch 200 Loss 0.0591\n",
            "Epoch 37 Batch 300 Loss 0.0479\n",
            "Epoch 37 Batch 400 Loss 0.0706\n",
            "Epoch 37 Batch 500 Loss 0.0187\n",
            "Epoch 37 Batch 600 Loss 0.0831\n",
            "Epoch 37 Batch 700 Loss 0.0565\n",
            "Epoch 37 Batch 800 Loss 0.0790\n",
            "Epoch 37 Batch 900 Loss 0.0652\n",
            "Epoch 37 Batch 1000 Loss 0.0662\n",
            "Epoch 37 Batch 1100 Loss 0.0665\n",
            "Epoch 37 Batch 1200 Loss 0.0608\n",
            "Epoch 37 Loss 0.0542\n",
            "Time taken for 1 epoch 56.91509985923767 sec\n",
            "\n",
            "Epoch 38 Batch 0 Loss 0.0601\n",
            "Epoch 38 Batch 100 Loss 0.0855\n",
            "Epoch 38 Batch 200 Loss 0.0199\n",
            "Epoch 38 Batch 300 Loss 0.0561\n",
            "Epoch 38 Batch 400 Loss 0.0342\n",
            "Epoch 38 Batch 500 Loss 0.0593\n",
            "Epoch 38 Batch 600 Loss 0.0457\n",
            "Epoch 38 Batch 700 Loss 0.0755\n",
            "Epoch 38 Batch 800 Loss 0.0462\n",
            "Epoch 38 Batch 900 Loss 0.0568\n",
            "Epoch 38 Batch 1000 Loss 0.0535\n",
            "Epoch 38 Batch 1100 Loss 0.0669\n",
            "Epoch 38 Batch 1200 Loss 0.0453\n",
            "Epoch 38 Loss 0.0541\n",
            "Time taken for 1 epoch 57.604835510253906 sec\n",
            "\n",
            "Epoch 39 Batch 0 Loss 0.0241\n",
            "Epoch 39 Batch 100 Loss 0.0354\n",
            "Epoch 39 Batch 200 Loss 0.0232\n",
            "Epoch 39 Batch 300 Loss 0.0363\n",
            "Epoch 39 Batch 400 Loss 0.0552\n",
            "Epoch 39 Batch 500 Loss 0.0222\n",
            "Epoch 39 Batch 600 Loss 0.0588\n",
            "Epoch 39 Batch 700 Loss 0.0967\n",
            "Epoch 39 Batch 800 Loss 0.0646\n",
            "Epoch 39 Batch 900 Loss 0.0286\n",
            "Epoch 39 Batch 1000 Loss 0.0424\n",
            "Epoch 39 Batch 1100 Loss 0.0728\n",
            "Epoch 39 Batch 1200 Loss 0.0649\n",
            "Epoch 39 Loss 0.0537\n",
            "Time taken for 1 epoch 56.94120907783508 sec\n",
            "\n",
            "Epoch 40 Batch 0 Loss 0.0405\n",
            "Epoch 40 Batch 100 Loss 0.0435\n",
            "Epoch 40 Batch 200 Loss 0.0507\n",
            "Epoch 40 Batch 300 Loss 0.0298\n",
            "Epoch 40 Batch 400 Loss 0.0666\n",
            "Epoch 40 Batch 500 Loss 0.0862\n",
            "Epoch 40 Batch 600 Loss 0.0489\n",
            "Epoch 40 Batch 700 Loss 0.1022\n",
            "Epoch 40 Batch 800 Loss 0.0648\n",
            "Epoch 40 Batch 900 Loss 0.0542\n",
            "Epoch 40 Batch 1000 Loss 0.0443\n",
            "Epoch 40 Batch 1100 Loss 0.0871\n",
            "Epoch 40 Batch 1200 Loss 0.0534\n",
            "Epoch 40 Loss 0.0534\n",
            "Time taken for 1 epoch 57.54810690879822 sec\n",
            "\n",
            "Epoch 41 Batch 0 Loss 0.0505\n",
            "Epoch 41 Batch 100 Loss 0.0639\n",
            "Epoch 41 Batch 200 Loss 0.0576\n",
            "Epoch 41 Batch 300 Loss 0.0528\n",
            "Epoch 41 Batch 400 Loss 0.0381\n",
            "Epoch 41 Batch 500 Loss 0.0501\n",
            "Epoch 41 Batch 600 Loss 0.0374\n",
            "Epoch 41 Batch 700 Loss 0.0382\n",
            "Epoch 41 Batch 800 Loss 0.0713\n",
            "Epoch 41 Batch 900 Loss 0.0389\n",
            "Epoch 41 Batch 1000 Loss 0.0779\n",
            "Epoch 41 Batch 1100 Loss 0.0843\n",
            "Epoch 41 Batch 1200 Loss 0.0546\n",
            "Epoch 41 Loss 0.0531\n",
            "Time taken for 1 epoch 56.886314153671265 sec\n",
            "\n",
            "Epoch 42 Batch 0 Loss 0.0379\n",
            "Epoch 42 Batch 100 Loss 0.0265\n",
            "Epoch 42 Batch 200 Loss 0.0325\n",
            "Epoch 42 Batch 300 Loss 0.0761\n",
            "Epoch 42 Batch 400 Loss 0.0610\n",
            "Epoch 42 Batch 500 Loss 0.0437\n",
            "Epoch 42 Batch 600 Loss 0.0234\n",
            "Epoch 42 Batch 700 Loss 0.0542\n",
            "Epoch 42 Batch 800 Loss 0.0581\n",
            "Epoch 42 Batch 900 Loss 0.0714\n",
            "Epoch 42 Batch 1000 Loss 0.0692\n",
            "Epoch 42 Batch 1100 Loss 0.1108\n",
            "Epoch 42 Batch 1200 Loss 0.0618\n",
            "Epoch 42 Loss 0.0528\n",
            "Time taken for 1 epoch 57.57140588760376 sec\n",
            "\n",
            "Epoch 43 Batch 0 Loss 0.0157\n",
            "Epoch 43 Batch 100 Loss 0.0575\n",
            "Epoch 43 Batch 200 Loss 0.0788\n",
            "Epoch 43 Batch 300 Loss 0.0653\n",
            "Epoch 43 Batch 400 Loss 0.0543\n",
            "Epoch 43 Batch 500 Loss 0.0707\n",
            "Epoch 43 Batch 600 Loss 0.0656\n",
            "Epoch 43 Batch 700 Loss 0.0349\n",
            "Epoch 43 Batch 800 Loss 0.0682\n",
            "Epoch 43 Batch 900 Loss 0.0649\n",
            "Epoch 43 Batch 1000 Loss 0.0583\n",
            "Epoch 43 Batch 1100 Loss 0.0403\n",
            "Epoch 43 Batch 1200 Loss 0.0736\n",
            "Epoch 43 Loss 0.0526\n",
            "Time taken for 1 epoch 56.984761238098145 sec\n",
            "\n",
            "Epoch 44 Batch 0 Loss 0.0526\n",
            "Epoch 44 Batch 100 Loss 0.0440\n",
            "Epoch 44 Batch 200 Loss 0.0389\n",
            "Epoch 44 Batch 300 Loss 0.0376\n",
            "Epoch 44 Batch 400 Loss 0.0730\n",
            "Epoch 44 Batch 500 Loss 0.0685\n",
            "Epoch 44 Batch 600 Loss 0.0809\n",
            "Epoch 44 Batch 700 Loss 0.0627\n",
            "Epoch 44 Batch 800 Loss 0.0475\n",
            "Epoch 44 Batch 900 Loss 0.0769\n",
            "Epoch 44 Batch 1000 Loss 0.0558\n",
            "Epoch 44 Batch 1100 Loss 0.0511\n",
            "Epoch 44 Batch 1200 Loss 0.1019\n",
            "Epoch 44 Loss 0.0518\n",
            "Time taken for 1 epoch 57.55727934837341 sec\n",
            "\n",
            "Epoch 45 Batch 0 Loss 0.0374\n",
            "Epoch 45 Batch 100 Loss 0.0266\n",
            "Epoch 45 Batch 200 Loss 0.0212\n",
            "Epoch 45 Batch 300 Loss 0.0461\n",
            "Epoch 45 Batch 400 Loss 0.0674\n",
            "Epoch 45 Batch 500 Loss 0.0204\n",
            "Epoch 45 Batch 600 Loss 0.0282\n",
            "Epoch 45 Batch 700 Loss 0.0368\n",
            "Epoch 45 Batch 800 Loss 0.0824\n",
            "Epoch 45 Batch 900 Loss 0.0750\n",
            "Epoch 45 Batch 1000 Loss 0.0585\n",
            "Epoch 45 Batch 1100 Loss 0.0776\n",
            "Epoch 45 Batch 1200 Loss 0.0483\n",
            "Epoch 45 Loss 0.0512\n",
            "Time taken for 1 epoch 56.83835744857788 sec\n",
            "\n",
            "Epoch 46 Batch 0 Loss 0.0648\n",
            "Epoch 46 Batch 100 Loss 0.0495\n",
            "Epoch 46 Batch 200 Loss 0.0132\n",
            "Epoch 46 Batch 300 Loss 0.0348\n",
            "Epoch 46 Batch 400 Loss 0.0376\n",
            "Epoch 46 Batch 500 Loss 0.0695\n",
            "Epoch 46 Batch 600 Loss 0.0565\n",
            "Epoch 46 Batch 700 Loss 0.0612\n",
            "Epoch 46 Batch 800 Loss 0.0560\n",
            "Epoch 46 Batch 900 Loss 0.0529\n",
            "Epoch 46 Batch 1000 Loss 0.0686\n",
            "Epoch 46 Batch 1100 Loss 0.0708\n",
            "Epoch 46 Batch 1200 Loss 0.0499\n",
            "Epoch 46 Loss 0.0516\n",
            "Time taken for 1 epoch 57.48772835731506 sec\n",
            "\n",
            "Epoch 47 Batch 0 Loss 0.0305\n",
            "Epoch 47 Batch 100 Loss 0.0235\n",
            "Epoch 47 Batch 200 Loss 0.0729\n",
            "Epoch 47 Batch 300 Loss 0.0207\n",
            "Epoch 47 Batch 400 Loss 0.0225\n",
            "Epoch 47 Batch 500 Loss 0.0383\n",
            "Epoch 47 Batch 600 Loss 0.0630\n",
            "Epoch 47 Batch 700 Loss 0.0413\n",
            "Epoch 47 Batch 800 Loss 0.0540\n",
            "Epoch 47 Batch 900 Loss 0.0429\n",
            "Epoch 47 Batch 1000 Loss 0.0209\n",
            "Epoch 47 Batch 1100 Loss 0.0746\n",
            "Epoch 47 Batch 1200 Loss 0.0455\n",
            "Epoch 47 Loss 0.0511\n",
            "Time taken for 1 epoch 56.84144067764282 sec\n",
            "\n",
            "Epoch 48 Batch 0 Loss 0.0277\n",
            "Epoch 48 Batch 100 Loss 0.0407\n",
            "Epoch 48 Batch 200 Loss 0.0453\n",
            "Epoch 48 Batch 300 Loss 0.0329\n",
            "Epoch 48 Batch 400 Loss 0.0283\n",
            "Epoch 48 Batch 500 Loss 0.0465\n",
            "Epoch 48 Batch 600 Loss 0.0238\n",
            "Epoch 48 Batch 700 Loss 0.0566\n",
            "Epoch 48 Batch 800 Loss 0.0307\n",
            "Epoch 48 Batch 900 Loss 0.0453\n",
            "Epoch 48 Batch 1000 Loss 0.0430\n",
            "Epoch 48 Batch 1100 Loss 0.0478\n",
            "Epoch 48 Batch 1200 Loss 0.0526\n",
            "Epoch 48 Loss 0.0509\n",
            "Time taken for 1 epoch 57.43508172035217 sec\n",
            "\n",
            "Epoch 49 Batch 0 Loss 0.0297\n",
            "Epoch 49 Batch 100 Loss 0.0264\n",
            "Epoch 49 Batch 200 Loss 0.0347\n",
            "Epoch 49 Batch 300 Loss 0.0657\n",
            "Epoch 49 Batch 400 Loss 0.0424\n",
            "Epoch 49 Batch 500 Loss 0.0248\n",
            "Epoch 49 Batch 600 Loss 0.0512\n",
            "Epoch 49 Batch 700 Loss 0.0481\n",
            "Epoch 49 Batch 800 Loss 0.0402\n",
            "Epoch 49 Batch 900 Loss 0.0755\n",
            "Epoch 49 Batch 1000 Loss 0.0422\n",
            "Epoch 49 Batch 1100 Loss 0.0641\n",
            "Epoch 49 Batch 1200 Loss 0.0668\n",
            "Epoch 49 Loss 0.0496\n",
            "Time taken for 1 epoch 56.83578419685364 sec\n",
            "\n",
            "Epoch 50 Batch 0 Loss 0.0792\n",
            "Epoch 50 Batch 100 Loss 0.0247\n",
            "Epoch 50 Batch 200 Loss 0.0663\n",
            "Epoch 50 Batch 300 Loss 0.0286\n",
            "Epoch 50 Batch 400 Loss 0.0741\n",
            "Epoch 50 Batch 500 Loss 0.0275\n",
            "Epoch 50 Batch 600 Loss 0.0259\n",
            "Epoch 50 Batch 700 Loss 0.0327\n",
            "Epoch 50 Batch 800 Loss 0.0281\n",
            "Epoch 50 Batch 900 Loss 0.0537\n",
            "Epoch 50 Batch 1000 Loss 0.0684\n",
            "Epoch 50 Batch 1100 Loss 0.0365\n",
            "Epoch 50 Batch 1200 Loss 0.0899\n",
            "Epoch 50 Loss 0.0507\n",
            "Time taken for 1 epoch 57.50437521934509 sec\n",
            "\n"
          ]
        }
      ]
    },
    {
      "cell_type": "code",
      "metadata": {
        "id": "EbQpyYs13jF_"
      },
      "source": [
        "def evaluate(sentence):\n",
        "  attention_plot = np.zeros((max_length_targ, max_length_inp))\n",
        "\n",
        "  sentence = preprocess_sentence(sentence)\n",
        "\n",
        "  inputs = [inp_lang.word_index[i] for i in sentence.split(' ')]\n",
        "  inputs = tf.keras.preprocessing.sequence.pad_sequences([inputs],\n",
        "                                                         maxlen=max_length_inp,\n",
        "                                                         padding='post')\n",
        "  inputs = tf.convert_to_tensor(inputs)\n",
        "\n",
        "  result = ''\n",
        "\n",
        "  hidden = [tf.zeros((1, units))]\n",
        "  enc_hidden = encoder(inputs, hidden)\n",
        "\n",
        "  dec_hidden = enc_hidden\n",
        "  dec_input = tf.expand_dims([targ_lang.word_index['<start>']], 0)\n",
        "\n",
        "  for t in range(max_length_targ):\n",
        "    predictions, dec_hidden = decoder(dec_input, dec_hidden)\n",
        "\n",
        "    # storing the attention weights to plot later on\n",
        "    predicted_id = tf.argmax(predictions[0]).numpy()\n",
        "    result += targ_lang.index_word[predicted_id] + ' '\n",
        "\n",
        "    if targ_lang.index_word[predicted_id] == '<end>':\n",
        "      return result, sentence\n",
        "\n",
        "    # the predicted ID is fed back into the model\n",
        "    dec_input = tf.expand_dims([predicted_id], 0)\n",
        "\n",
        "  return result, sentence"
      ],
      "execution_count": 29,
      "outputs": []
    },
    {
      "cell_type": "code",
      "metadata": {
        "id": "sl9zUHzg3jGI"
      },
      "source": [
        "def translate(sentence):\n",
        "  result, sentence = evaluate(sentence)\n",
        "\n",
        "  print('Input: %s' % (sentence))\n",
        "  print('Predicted translation: {}'.format(result))"
      ],
      "execution_count": 30,
      "outputs": []
    },
    {
      "cell_type": "code",
      "metadata": {
        "id": "UJpT9D5_OgP6",
        "colab": {
          "base_uri": "https://localhost:8080/"
        },
        "outputId": "c2e9e3ac-d668-4051-aaba-bfd4ff529d74"
      },
      "source": [
        "checkpoint.restore(tf.train.latest_checkpoint(checkpoint_dir))"
      ],
      "execution_count": 31,
      "outputs": [
        {
          "output_type": "execute_result",
          "data": {
            "text/plain": [
              "<tensorflow.python.training.tracking.util.CheckpointLoadStatus at 0x7f2ede182fd0>"
            ]
          },
          "metadata": {},
          "execution_count": 31
        }
      ]
    },
    {
      "cell_type": "code",
      "metadata": {
        "id": "WrAM0FDomq3E",
        "colab": {
          "base_uri": "https://localhost:8080/"
        },
        "outputId": "0f710626-fdfc-4c19-ebaa-4b301fe8eb24"
      },
      "source": [
        "translate('Здесь хорошо.')"
      ],
      "execution_count": 32,
      "outputs": [
        {
          "output_type": "stream",
          "name": "stdout",
          "text": [
            "Input: <start> здесь хорошо . <end>\n",
            "Predicted translation: it's good here . <end> \n"
          ]
        }
      ]
    },
    {
      "cell_type": "code",
      "metadata": {
        "id": "5bhFfwcIMX5i",
        "colab": {
          "base_uri": "https://localhost:8080/"
        },
        "outputId": "47a5d349-3a34-4dbe-863b-24760efd5399"
      },
      "source": [
        "translate('Я не смогу поехать.')"
      ],
      "execution_count": 33,
      "outputs": [
        {
          "output_type": "stream",
          "name": "stdout",
          "text": [
            "Input: <start> я не смогу поехать . <end>\n",
            "Predicted translation: i can't go . <end> \n"
          ]
        }
      ]
    },
    {
      "cell_type": "code",
      "metadata": {
        "id": "zSx2iM36EZQZ",
        "colab": {
          "base_uri": "https://localhost:8080/"
        },
        "outputId": "5f1820a2-59ec-4f3b-d43e-3612b1e67fb4"
      },
      "source": [
        "translate(u'Вы еще дома?')"
      ],
      "execution_count": 34,
      "outputs": [
        {
          "output_type": "stream",
          "name": "stdout",
          "text": [
            "Input: <start> вы еще дома ? <end>\n",
            "Predicted translation: are you still at home ? <end> \n"
          ]
        }
      ]
    },
    {
      "cell_type": "code",
      "metadata": {
        "id": "DUQVLVqUE1YW",
        "colab": {
          "base_uri": "https://localhost:8080/"
        },
        "outputId": "917ca56b-b13b-467c-bdaf-daf68d0ddbab"
      },
      "source": [
        "translate(u'Попробуй сделать это.')"
      ],
      "execution_count": 35,
      "outputs": [
        {
          "output_type": "stream",
          "name": "stdout",
          "text": [
            "Input: <start> попробуй сделать это . <end>\n",
            "Predicted translation: try to do it . <end> \n"
          ]
        }
      ]
    },
    {
      "cell_type": "code",
      "source": [
        "translate('Мы можем поехать в отпуск на машине')"
      ],
      "metadata": {
        "colab": {
          "base_uri": "https://localhost:8080/"
        },
        "id": "Eq4nfPVf7-2p",
        "outputId": "812ceccc-8621-4dd1-9b45-094cee6888f2"
      },
      "execution_count": 47,
      "outputs": [
        {
          "output_type": "stream",
          "name": "stdout",
          "text": [
            "Input: <start> мы можем поехать в отпуск на машине <end>\n",
            "Predicted translation: we can go to the car . <end> \n"
          ]
        }
      ]
    },
    {
      "cell_type": "markdown",
      "source": [
        "С переводом коротких предложений всё не плохо, но с предложениями подлиньше получается хуже."
      ],
      "metadata": {
        "id": "epc0fgI2935Y"
      }
    }
  ]
}