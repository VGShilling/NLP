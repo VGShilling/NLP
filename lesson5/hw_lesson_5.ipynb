{
  "nbformat": 4,
  "nbformat_minor": 0,
  "metadata": {
    "colab": {
      "provenance": [],
      "collapsed_sections": [
        "QusHvb6qM-7_",
        "bAmCiJs7NbgS",
        "WyEpL00-QN5V",
        "hjDiUCwEODsb"
      ]
    },
    "kernelspec": {
      "name": "python3",
      "display_name": "Python 3"
    },
    "language_info": {
      "name": "python"
    }
  },
  "cells": [
    {
      "cell_type": "markdown",
      "source": [
        "###Задание 1. Написать теггер на данных с русским языком\n",
        "- проверить UnigramTagger, BigramTagger, TrigramTagger и их комбинации\n",
        "\n",
        "\n",
        "- написать свой теггер как на занятии, попробовать разные векторайзеры, добавить знание не только букв но и слов\n",
        "\n",
        "\n",
        "- сравнить все реализованные методы, сделать выводы\n"
      ],
      "metadata": {
        "id": "BukiVJLRu-7C"
      }
    },
    {
      "cell_type": "code",
      "source": [
        "!pip install pyconll"
      ],
      "metadata": {
        "colab": {
          "base_uri": "https://localhost:8080/"
        },
        "id": "sNvE0HkBr08Y",
        "outputId": "dff8e3bc-1e8e-4625-fa62-b708ed68e95b"
      },
      "execution_count": 1,
      "outputs": [
        {
          "output_type": "stream",
          "name": "stdout",
          "text": [
            "Looking in indexes: https://pypi.org/simple, https://us-python.pkg.dev/colab-wheels/public/simple/\n",
            "Collecting pyconll\n",
            "  Downloading pyconll-3.1.0-py3-none-any.whl (26 kB)\n",
            "Installing collected packages: pyconll\n",
            "Successfully installed pyconll-3.1.0\n"
          ]
        }
      ]
    },
    {
      "cell_type": "code",
      "execution_count": 2,
      "metadata": {
        "id": "7U5nm42ZrSzE"
      },
      "outputs": [],
      "source": [
        "import pandas as pd\n",
        "# import re\n",
        "import numpy as np\n",
        "# from nltk.corpus import stopwords\n",
        "# from tqdm.notebook import tqdm\n",
        "# from multiprocessing import Pool\n",
        "# import pymorphy2\n",
        "# import matplotlib.pyplot as plt\n",
        "import pyconll\n",
        "from nltk.tag import DefaultTagger, UnigramTagger, BigramTagger, TrigramTagger"
      ]
    },
    {
      "cell_type": "code",
      "source": [
        "from sklearn.feature_extraction.text import CountVectorizer, HashingVectorizer, TfidfVectorizer\n",
        "from sklearn.linear_model import LogisticRegression\n",
        "from sklearn.metrics import accuracy_score, f1_score, classification_report\n",
        "from sklearn.preprocessing import LabelEncoder"
      ],
      "metadata": {
        "id": "setljrz3Fjxs"
      },
      "execution_count": 3,
      "outputs": []
    },
    {
      "cell_type": "code",
      "source": [
        "!wget -O /content/sample_data/ru_syntagrus-ud-train.conllu https://raw.githubusercontent.com/UniversalDependencies/UD_Russian-Taiga/master/ru_taiga-ud-train.conllu\n",
        "!wget -O /content/sample_data/ru_syntagrus-ud-dev.conllu https://raw.githubusercontent.com/UniversalDependencies/UD_Russian-Taiga/master/ru_taiga-ud-dev.conllu"
      ],
      "metadata": {
        "colab": {
          "base_uri": "https://localhost:8080/"
        },
        "id": "p0n27kxAsFJy",
        "outputId": "21b5bdcb-3fa8-46ac-f89f-9987e2625832"
      },
      "execution_count": 4,
      "outputs": [
        {
          "output_type": "stream",
          "name": "stdout",
          "text": [
            "--2022-10-26 09:49:39--  https://raw.githubusercontent.com/UniversalDependencies/UD_Russian-Taiga/master/ru_taiga-ud-train.conllu\n",
            "Resolving raw.githubusercontent.com (raw.githubusercontent.com)... 185.199.108.133, 185.199.109.133, 185.199.110.133, ...\n",
            "Connecting to raw.githubusercontent.com (raw.githubusercontent.com)|185.199.108.133|:443... connected.\n",
            "HTTP request sent, awaiting response... 200 OK\n",
            "Length: 17229332 (16M) [text/plain]\n",
            "Saving to: ‘/content/sample_data/ru_syntagrus-ud-train.conllu’\n",
            "\n",
            "/content/sample_dat 100%[===================>]  16.43M  --.-KB/s    in 0.1s    \n",
            "\n",
            "2022-10-26 09:49:39 (136 MB/s) - ‘/content/sample_data/ru_syntagrus-ud-train.conllu’ saved [17229332/17229332]\n",
            "\n",
            "--2022-10-26 09:49:40--  https://raw.githubusercontent.com/UniversalDependencies/UD_Russian-Taiga/master/ru_taiga-ud-dev.conllu\n",
            "Resolving raw.githubusercontent.com (raw.githubusercontent.com)... 185.199.108.133, 185.199.109.133, 185.199.111.133, ...\n",
            "Connecting to raw.githubusercontent.com (raw.githubusercontent.com)|185.199.108.133|:443... connected.\n",
            "HTTP request sent, awaiting response... 200 OK\n",
            "Length: 910013 (889K) [text/plain]\n",
            "Saving to: ‘/content/sample_data/ru_syntagrus-ud-dev.conllu’\n",
            "\n",
            "/content/sample_dat 100%[===================>] 888.68K  --.-KB/s    in 0.05s   \n",
            "\n",
            "2022-10-26 09:49:40 (18.4 MB/s) - ‘/content/sample_data/ru_syntagrus-ud-dev.conllu’ saved [910013/910013]\n",
            "\n"
          ]
        }
      ]
    },
    {
      "cell_type": "code",
      "source": [
        "full_train = pyconll.load_from_file('/content/sample_data/ru_syntagrus-ud-train.conllu')\n",
        "full_test = pyconll.load_from_file('/content/sample_data/ru_syntagrus-ud-dev.conllu')"
      ],
      "metadata": {
        "id": "VUq69c4Nst8p"
      },
      "execution_count": 5,
      "outputs": []
    },
    {
      "cell_type": "code",
      "source": [
        "for sent in full_train[:2]:\n",
        "    for token in sent:\n",
        "        print(token.form, token.upos)\n",
        "    print()"
      ],
      "metadata": {
        "colab": {
          "base_uri": "https://localhost:8080/"
        },
        "id": "1RQKFur9tBaI",
        "outputId": "1be669e8-5a16-44eb-93ad-061fb052d1ae"
      },
      "execution_count": 11,
      "outputs": [
        {
          "output_type": "stream",
          "name": "stdout",
          "text": [
            "Снова ADV\n",
            "приобрел VERB\n",
            "дозу NOUN\n",
            ", PUNCT\n",
            "\n",
            "В ADP\n",
            "женщине NOUN\n",
            "важна ADJ\n",
            "верность NOUN\n",
            ", PUNCT\n",
            "а CCONJ\n",
            "не PART\n",
            "красота NOUN\n",
            ". PUNCT\n",
            "\n"
          ]
        }
      ]
    },
    {
      "cell_type": "code",
      "source": [
        "fdata_train = []\n",
        "for sent in full_train[:]:\n",
        "    fdata_train.append([(token.form, token.upos) for token in sent])\n",
        "    \n",
        "fdata_test = []\n",
        "for sent in full_test[:]:\n",
        "    fdata_test.append([(token.form, token.upos) for token in sent])\n",
        "    \n",
        "fdata_sent_test = []\n",
        "for sent in full_test[:]:\n",
        "    fdata_sent_test.append([token.form for token in sent])"
      ],
      "metadata": {
        "id": "efWIXBQktk-n"
      },
      "execution_count": 12,
      "outputs": []
    },
    {
      "cell_type": "code",
      "source": [
        "fdata_train[:2]"
      ],
      "metadata": {
        "colab": {
          "base_uri": "https://localhost:8080/"
        },
        "id": "6bqMjexftt1O",
        "outputId": "83787829-d24a-488b-95f1-2933ac6e58ac"
      },
      "execution_count": 15,
      "outputs": [
        {
          "output_type": "execute_result",
          "data": {
            "text/plain": [
              "[[('Снова', 'ADV'), ('приобрел', 'VERB'), ('дозу', 'NOUN'), (',', 'PUNCT')],\n",
              " [('В', 'ADP'),\n",
              "  ('женщине', 'NOUN'),\n",
              "  ('важна', 'ADJ'),\n",
              "  ('верность', 'NOUN'),\n",
              "  (',', 'PUNCT'),\n",
              "  ('а', 'CCONJ'),\n",
              "  ('не', 'PART'),\n",
              "  ('красота', 'NOUN'),\n",
              "  ('.', 'PUNCT')]]"
            ]
          },
          "metadata": {},
          "execution_count": 15
        }
      ]
    },
    {
      "cell_type": "code",
      "source": [
        "fdata_sent_test[:2]"
      ],
      "metadata": {
        "colab": {
          "base_uri": "https://localhost:8080/"
        },
        "id": "p27va3E4t9QU",
        "outputId": "1a633d45-cc27-4a08-be1c-e1e1ac01bf8b"
      },
      "execution_count": 16,
      "outputs": [
        {
          "output_type": "execute_result",
          "data": {
            "text/plain": [
              "[['🤘', 'Хей', '!'], ['Ставь', '❤️']]"
            ]
          },
          "metadata": {},
          "execution_count": 16
        }
      ]
    },
    {
      "cell_type": "code",
      "source": [
        "taggers_scores = {'unigram_tagger': [],\n",
        "                  'bigram_tagger': [], \n",
        "                  'bi_unigram_tagger': [],\n",
        "                  'trigram_tagger': [],\n",
        "                  'tri_unigram_tagger': [],\n",
        "                  'tri_bi_unigram_tagger': []}"
      ],
      "metadata": {
        "id": "qp84Jicnz8eR"
      },
      "execution_count": 36,
      "outputs": []
    },
    {
      "cell_type": "code",
      "source": [
        "unigram_tagger = UnigramTagger(fdata_train)\n",
        "taggers_scores['unigram_tagger']=unigram_tagger.evaluate(fdata_test)\n",
        "\n",
        "bigram_tagger = BigramTagger(fdata_train)\n",
        "taggers_scores['bigram_tagger']=bigram_tagger.evaluate(fdata_test)\n",
        "\n",
        "bi_unigram_tagger = BigramTagger(fdata_train, backoff=UnigramTagger(fdata_train))\n",
        "taggers_scores['bi_unigram_tagger']=bi_unigram_tagger.evaluate(fdata_test)\n",
        "\n",
        "trigram_tagger = TrigramTagger(fdata_train)\n",
        "taggers_scores['trigram_tagger']=trigram_tagger.evaluate(fdata_test)\n",
        "\n",
        "tri_unigram_tagger = TrigramTagger(fdata_train, backoff=UnigramTagger(fdata_train))\n",
        "taggers_scores['tri_unigram_tagger']=tri_unigram_tagger.evaluate(fdata_test)\n",
        "\n",
        "tri_bi_unigram_tagger = TrigramTagger(fdata_train,\n",
        "                                     backoff=BigramTagger(fdata_train,\n",
        "                                                          backoff=UnigramTagger(fdata_train)))\n",
        "taggers_scores['tri_bi_unigram_tagger']=tri_bi_unigram_tagger.evaluate(fdata_test)"
      ],
      "metadata": {
        "colab": {
          "base_uri": "https://localhost:8080/"
        },
        "id": "wPEdgsWO1HXZ",
        "outputId": "aecb3fa1-56cc-4ad1-f3a4-bfcf730f97f6"
      },
      "execution_count": 37,
      "outputs": [
        {
          "output_type": "stream",
          "name": "stderr",
          "text": [
            "/usr/local/lib/python3.7/dist-packages/ipykernel_launcher.py:2: DeprecationWarning: \n",
            "  Function evaluate() has been deprecated.  Use accuracy(gold)\n",
            "  instead.\n",
            "  \n",
            "/usr/local/lib/python3.7/dist-packages/ipykernel_launcher.py:5: DeprecationWarning: \n",
            "  Function evaluate() has been deprecated.  Use accuracy(gold)\n",
            "  instead.\n",
            "  \"\"\"\n",
            "/usr/local/lib/python3.7/dist-packages/ipykernel_launcher.py:8: DeprecationWarning: \n",
            "  Function evaluate() has been deprecated.  Use accuracy(gold)\n",
            "  instead.\n",
            "  \n",
            "/usr/local/lib/python3.7/dist-packages/ipykernel_launcher.py:11: DeprecationWarning: \n",
            "  Function evaluate() has been deprecated.  Use accuracy(gold)\n",
            "  instead.\n",
            "  # This is added back by InteractiveShellApp.init_path()\n",
            "/usr/local/lib/python3.7/dist-packages/ipykernel_launcher.py:14: DeprecationWarning: \n",
            "  Function evaluate() has been deprecated.  Use accuracy(gold)\n",
            "  instead.\n",
            "  \n",
            "/usr/local/lib/python3.7/dist-packages/ipykernel_launcher.py:19: DeprecationWarning: \n",
            "  Function evaluate() has been deprecated.  Use accuracy(gold)\n",
            "  instead.\n"
          ]
        }
      ]
    },
    {
      "cell_type": "code",
      "source": [
        "pd.DataFrame(taggers_scores, index=['score']).T.sort_values('score', ascending=False)"
      ],
      "metadata": {
        "colab": {
          "base_uri": "https://localhost:8080/",
          "height": 237
        },
        "id": "7Wqk7VSm54-D",
        "outputId": "416a980d-1b54-481c-bd9b-045d69c0f890"
      },
      "execution_count": 44,
      "outputs": [
        {
          "output_type": "execute_result",
          "data": {
            "text/plain": [
              "                          score\n",
              "tri_bi_unigram_tagger  0.686708\n",
              "tri_unigram_tagger     0.686510\n",
              "bi_unigram_tagger      0.685915\n",
              "unigram_tagger         0.683142\n",
              "bigram_tagger          0.135994\n",
              "trigram_tagger         0.096177"
            ],
            "text/html": [
              "\n",
              "  <div id=\"df-845e13df-8223-4c37-827f-e029b579624e\">\n",
              "    <div class=\"colab-df-container\">\n",
              "      <div>\n",
              "<style scoped>\n",
              "    .dataframe tbody tr th:only-of-type {\n",
              "        vertical-align: middle;\n",
              "    }\n",
              "\n",
              "    .dataframe tbody tr th {\n",
              "        vertical-align: top;\n",
              "    }\n",
              "\n",
              "    .dataframe thead th {\n",
              "        text-align: right;\n",
              "    }\n",
              "</style>\n",
              "<table border=\"1\" class=\"dataframe\">\n",
              "  <thead>\n",
              "    <tr style=\"text-align: right;\">\n",
              "      <th></th>\n",
              "      <th>score</th>\n",
              "    </tr>\n",
              "  </thead>\n",
              "  <tbody>\n",
              "    <tr>\n",
              "      <th>tri_bi_unigram_tagger</th>\n",
              "      <td>0.686708</td>\n",
              "    </tr>\n",
              "    <tr>\n",
              "      <th>tri_unigram_tagger</th>\n",
              "      <td>0.686510</td>\n",
              "    </tr>\n",
              "    <tr>\n",
              "      <th>bi_unigram_tagger</th>\n",
              "      <td>0.685915</td>\n",
              "    </tr>\n",
              "    <tr>\n",
              "      <th>unigram_tagger</th>\n",
              "      <td>0.683142</td>\n",
              "    </tr>\n",
              "    <tr>\n",
              "      <th>bigram_tagger</th>\n",
              "      <td>0.135994</td>\n",
              "    </tr>\n",
              "    <tr>\n",
              "      <th>trigram_tagger</th>\n",
              "      <td>0.096177</td>\n",
              "    </tr>\n",
              "  </tbody>\n",
              "</table>\n",
              "</div>\n",
              "      <button class=\"colab-df-convert\" onclick=\"convertToInteractive('df-845e13df-8223-4c37-827f-e029b579624e')\"\n",
              "              title=\"Convert this dataframe to an interactive table.\"\n",
              "              style=\"display:none;\">\n",
              "        \n",
              "  <svg xmlns=\"http://www.w3.org/2000/svg\" height=\"24px\"viewBox=\"0 0 24 24\"\n",
              "       width=\"24px\">\n",
              "    <path d=\"M0 0h24v24H0V0z\" fill=\"none\"/>\n",
              "    <path d=\"M18.56 5.44l.94 2.06.94-2.06 2.06-.94-2.06-.94-.94-2.06-.94 2.06-2.06.94zm-11 1L8.5 8.5l.94-2.06 2.06-.94-2.06-.94L8.5 2.5l-.94 2.06-2.06.94zm10 10l.94 2.06.94-2.06 2.06-.94-2.06-.94-.94-2.06-.94 2.06-2.06.94z\"/><path d=\"M17.41 7.96l-1.37-1.37c-.4-.4-.92-.59-1.43-.59-.52 0-1.04.2-1.43.59L10.3 9.45l-7.72 7.72c-.78.78-.78 2.05 0 2.83L4 21.41c.39.39.9.59 1.41.59.51 0 1.02-.2 1.41-.59l7.78-7.78 2.81-2.81c.8-.78.8-2.07 0-2.86zM5.41 20L4 18.59l7.72-7.72 1.47 1.35L5.41 20z\"/>\n",
              "  </svg>\n",
              "      </button>\n",
              "      \n",
              "  <style>\n",
              "    .colab-df-container {\n",
              "      display:flex;\n",
              "      flex-wrap:wrap;\n",
              "      gap: 12px;\n",
              "    }\n",
              "\n",
              "    .colab-df-convert {\n",
              "      background-color: #E8F0FE;\n",
              "      border: none;\n",
              "      border-radius: 50%;\n",
              "      cursor: pointer;\n",
              "      display: none;\n",
              "      fill: #1967D2;\n",
              "      height: 32px;\n",
              "      padding: 0 0 0 0;\n",
              "      width: 32px;\n",
              "    }\n",
              "\n",
              "    .colab-df-convert:hover {\n",
              "      background-color: #E2EBFA;\n",
              "      box-shadow: 0px 1px 2px rgba(60, 64, 67, 0.3), 0px 1px 3px 1px rgba(60, 64, 67, 0.15);\n",
              "      fill: #174EA6;\n",
              "    }\n",
              "\n",
              "    [theme=dark] .colab-df-convert {\n",
              "      background-color: #3B4455;\n",
              "      fill: #D2E3FC;\n",
              "    }\n",
              "\n",
              "    [theme=dark] .colab-df-convert:hover {\n",
              "      background-color: #434B5C;\n",
              "      box-shadow: 0px 1px 3px 1px rgba(0, 0, 0, 0.15);\n",
              "      filter: drop-shadow(0px 1px 2px rgba(0, 0, 0, 0.3));\n",
              "      fill: #FFFFFF;\n",
              "    }\n",
              "  </style>\n",
              "\n",
              "      <script>\n",
              "        const buttonEl =\n",
              "          document.querySelector('#df-845e13df-8223-4c37-827f-e029b579624e button.colab-df-convert');\n",
              "        buttonEl.style.display =\n",
              "          google.colab.kernel.accessAllowed ? 'block' : 'none';\n",
              "\n",
              "        async function convertToInteractive(key) {\n",
              "          const element = document.querySelector('#df-845e13df-8223-4c37-827f-e029b579624e');\n",
              "          const dataTable =\n",
              "            await google.colab.kernel.invokeFunction('convertToInteractive',\n",
              "                                                     [key], {});\n",
              "          if (!dataTable) return;\n",
              "\n",
              "          const docLinkHtml = 'Like what you see? Visit the ' +\n",
              "            '<a target=\"_blank\" href=https://colab.research.google.com/notebooks/data_table.ipynb>data table notebook</a>'\n",
              "            + ' to learn more about interactive tables.';\n",
              "          element.innerHTML = '';\n",
              "          dataTable['output_type'] = 'display_data';\n",
              "          await google.colab.output.renderOutput(dataTable, element);\n",
              "          const docLink = document.createElement('div');\n",
              "          docLink.innerHTML = docLinkHtml;\n",
              "          element.appendChild(docLink);\n",
              "        }\n",
              "      </script>\n",
              "    </div>\n",
              "  </div>\n",
              "  "
            ]
          },
          "metadata": {},
          "execution_count": 44
        }
      ]
    },
    {
      "cell_type": "code",
      "source": [
        "train_tok = []\n",
        "train_label = []\n",
        "for sent in fdata_train[:]:\n",
        "    for tok in sent:\n",
        "        train_tok.append(tok[0])\n",
        "        train_label.append('NO_TAG' if tok[1] is None else tok[1])\n",
        "        \n",
        "test_tok = []\n",
        "test_label = []\n",
        "for sent in fdata_test[:]:\n",
        "    for tok in sent:\n",
        "        test_tok.append(tok[0])\n",
        "        test_label.append('NO_TAG' if tok[1] is None else tok[1])"
      ],
      "metadata": {
        "id": "OiTvKsZOFrF2"
      },
      "execution_count": 47,
      "outputs": []
    },
    {
      "cell_type": "code",
      "source": [
        "le = LabelEncoder()\n",
        "train_enc_labels = le.fit_transform(train_label)\n",
        "\n",
        "test_enc_labels = le.transform(test_label)"
      ],
      "metadata": {
        "id": "UROfxgW6F-ns"
      },
      "execution_count": 78,
      "outputs": []
    },
    {
      "cell_type": "code",
      "source": [
        "scores = {'vectorizer': [],\n",
        "          'f1_score': [],\n",
        "          'accuracy': []}"
      ],
      "metadata": {
        "id": "C2IRJjoJTbcx"
      },
      "execution_count": 80,
      "outputs": []
    },
    {
      "cell_type": "code",
      "source": [
        "analyzers = ['word', 'char']\n",
        "n_feats = [1000, 5000, 10000, 15000]\n",
        "vectorizers = [CountVectorizer, TfidfVectorizer, HashingVectorizer]"
      ],
      "metadata": {
        "id": "HxEDl4tEHVSS"
      },
      "execution_count": 79,
      "outputs": []
    },
    {
      "cell_type": "code",
      "source": [
        "def prepare_fit_predict(vec):\n",
        "    X_train = vec.fit_transform(train_tok)\n",
        "    X_test = vec.transform(test_tok)\n",
        "    lr = LogisticRegression(random_state=0, max_iter=100)\n",
        "    lr.fit(X_train, train_enc_labels)\n",
        "    return lr.predict(X_test)"
      ],
      "metadata": {
        "id": "Yv-hM9koWEtD"
      },
      "execution_count": 82,
      "outputs": []
    },
    {
      "cell_type": "code",
      "source": [
        "for vect_cls in vectorizers:\n",
        "    for analyzer in analyzers:\n",
        "        if vect_cls == HashingVectorizer:\n",
        "            for n_feat in n_feats:\n",
        "                vectorizer = vect_cls(ngram_range=(1, 3), analyzer=analyzer, n_features=n_feat)\n",
        "                scores['vectorizer'].append(vectorizer)\n",
        "                pred = prepare_fit_predict(vectorizer)\n",
        "                scores['f1_score'].append(f1_score(test_enc_labels, pred, average='weighted'))\n",
        "                scores['accuracy'].append(accuracy_score(test_enc_labels, pred))\n",
        "                \n",
        "        else:\n",
        "            vectorizer = vect_cls(ngram_range=(1, 3), analyzer=analyzer)\n",
        "            scores['vectorizer'].append(vectorizer)\n",
        "            pred = prepare_fit_predict(vectorizer)\n",
        "            scores['f1_score'].append(f1_score(test_enc_labels, pred, average='weighted'))\n",
        "            scores['accuracy'].append(accuracy_score(test_enc_labels, pred)) "
      ],
      "metadata": {
        "colab": {
          "base_uri": "https://localhost:8080/"
        },
        "id": "LnAcxltcIga4",
        "outputId": "3f319126-d78c-4879-efc3-3fa1bf09a707"
      },
      "execution_count": 83,
      "outputs": [
        {
          "output_type": "stream",
          "name": "stderr",
          "text": [
            "/usr/local/lib/python3.7/dist-packages/sklearn/linear_model/_logistic.py:818: ConvergenceWarning: lbfgs failed to converge (status=1):\n",
            "STOP: TOTAL NO. of ITERATIONS REACHED LIMIT.\n",
            "\n",
            "Increase the number of iterations (max_iter) or scale the data as shown in:\n",
            "    https://scikit-learn.org/stable/modules/preprocessing.html\n",
            "Please also refer to the documentation for alternative solver options:\n",
            "    https://scikit-learn.org/stable/modules/linear_model.html#logistic-regression\n",
            "  extra_warning_msg=_LOGISTIC_SOLVER_CONVERGENCE_MSG,\n",
            "/usr/local/lib/python3.7/dist-packages/sklearn/linear_model/_logistic.py:818: ConvergenceWarning: lbfgs failed to converge (status=1):\n",
            "STOP: TOTAL NO. of ITERATIONS REACHED LIMIT.\n",
            "\n",
            "Increase the number of iterations (max_iter) or scale the data as shown in:\n",
            "    https://scikit-learn.org/stable/modules/preprocessing.html\n",
            "Please also refer to the documentation for alternative solver options:\n",
            "    https://scikit-learn.org/stable/modules/linear_model.html#logistic-regression\n",
            "  extra_warning_msg=_LOGISTIC_SOLVER_CONVERGENCE_MSG,\n",
            "/usr/local/lib/python3.7/dist-packages/sklearn/linear_model/_logistic.py:818: ConvergenceWarning: lbfgs failed to converge (status=1):\n",
            "STOP: TOTAL NO. of ITERATIONS REACHED LIMIT.\n",
            "\n",
            "Increase the number of iterations (max_iter) or scale the data as shown in:\n",
            "    https://scikit-learn.org/stable/modules/preprocessing.html\n",
            "Please also refer to the documentation for alternative solver options:\n",
            "    https://scikit-learn.org/stable/modules/linear_model.html#logistic-regression\n",
            "  extra_warning_msg=_LOGISTIC_SOLVER_CONVERGENCE_MSG,\n",
            "/usr/local/lib/python3.7/dist-packages/sklearn/linear_model/_logistic.py:818: ConvergenceWarning: lbfgs failed to converge (status=1):\n",
            "STOP: TOTAL NO. of ITERATIONS REACHED LIMIT.\n",
            "\n",
            "Increase the number of iterations (max_iter) or scale the data as shown in:\n",
            "    https://scikit-learn.org/stable/modules/preprocessing.html\n",
            "Please also refer to the documentation for alternative solver options:\n",
            "    https://scikit-learn.org/stable/modules/linear_model.html#logistic-regression\n",
            "  extra_warning_msg=_LOGISTIC_SOLVER_CONVERGENCE_MSG,\n",
            "/usr/local/lib/python3.7/dist-packages/sklearn/linear_model/_logistic.py:818: ConvergenceWarning: lbfgs failed to converge (status=1):\n",
            "STOP: TOTAL NO. of ITERATIONS REACHED LIMIT.\n",
            "\n",
            "Increase the number of iterations (max_iter) or scale the data as shown in:\n",
            "    https://scikit-learn.org/stable/modules/preprocessing.html\n",
            "Please also refer to the documentation for alternative solver options:\n",
            "    https://scikit-learn.org/stable/modules/linear_model.html#logistic-regression\n",
            "  extra_warning_msg=_LOGISTIC_SOLVER_CONVERGENCE_MSG,\n",
            "/usr/local/lib/python3.7/dist-packages/sklearn/linear_model/_logistic.py:818: ConvergenceWarning: lbfgs failed to converge (status=1):\n",
            "STOP: TOTAL NO. of ITERATIONS REACHED LIMIT.\n",
            "\n",
            "Increase the number of iterations (max_iter) or scale the data as shown in:\n",
            "    https://scikit-learn.org/stable/modules/preprocessing.html\n",
            "Please also refer to the documentation for alternative solver options:\n",
            "    https://scikit-learn.org/stable/modules/linear_model.html#logistic-regression\n",
            "  extra_warning_msg=_LOGISTIC_SOLVER_CONVERGENCE_MSG,\n",
            "/usr/local/lib/python3.7/dist-packages/sklearn/linear_model/_logistic.py:818: ConvergenceWarning: lbfgs failed to converge (status=1):\n",
            "STOP: TOTAL NO. of ITERATIONS REACHED LIMIT.\n",
            "\n",
            "Increase the number of iterations (max_iter) or scale the data as shown in:\n",
            "    https://scikit-learn.org/stable/modules/preprocessing.html\n",
            "Please also refer to the documentation for alternative solver options:\n",
            "    https://scikit-learn.org/stable/modules/linear_model.html#logistic-regression\n",
            "  extra_warning_msg=_LOGISTIC_SOLVER_CONVERGENCE_MSG,\n",
            "/usr/local/lib/python3.7/dist-packages/sklearn/linear_model/_logistic.py:818: ConvergenceWarning: lbfgs failed to converge (status=1):\n",
            "STOP: TOTAL NO. of ITERATIONS REACHED LIMIT.\n",
            "\n",
            "Increase the number of iterations (max_iter) or scale the data as shown in:\n",
            "    https://scikit-learn.org/stable/modules/preprocessing.html\n",
            "Please also refer to the documentation for alternative solver options:\n",
            "    https://scikit-learn.org/stable/modules/linear_model.html#logistic-regression\n",
            "  extra_warning_msg=_LOGISTIC_SOLVER_CONVERGENCE_MSG,\n",
            "/usr/local/lib/python3.7/dist-packages/sklearn/linear_model/_logistic.py:818: ConvergenceWarning: lbfgs failed to converge (status=1):\n",
            "STOP: TOTAL NO. of ITERATIONS REACHED LIMIT.\n",
            "\n",
            "Increase the number of iterations (max_iter) or scale the data as shown in:\n",
            "    https://scikit-learn.org/stable/modules/preprocessing.html\n",
            "Please also refer to the documentation for alternative solver options:\n",
            "    https://scikit-learn.org/stable/modules/linear_model.html#logistic-regression\n",
            "  extra_warning_msg=_LOGISTIC_SOLVER_CONVERGENCE_MSG,\n",
            "/usr/local/lib/python3.7/dist-packages/sklearn/linear_model/_logistic.py:818: ConvergenceWarning: lbfgs failed to converge (status=1):\n",
            "STOP: TOTAL NO. of ITERATIONS REACHED LIMIT.\n",
            "\n",
            "Increase the number of iterations (max_iter) or scale the data as shown in:\n",
            "    https://scikit-learn.org/stable/modules/preprocessing.html\n",
            "Please also refer to the documentation for alternative solver options:\n",
            "    https://scikit-learn.org/stable/modules/linear_model.html#logistic-regression\n",
            "  extra_warning_msg=_LOGISTIC_SOLVER_CONVERGENCE_MSG,\n",
            "/usr/local/lib/python3.7/dist-packages/sklearn/linear_model/_logistic.py:818: ConvergenceWarning: lbfgs failed to converge (status=1):\n",
            "STOP: TOTAL NO. of ITERATIONS REACHED LIMIT.\n",
            "\n",
            "Increase the number of iterations (max_iter) or scale the data as shown in:\n",
            "    https://scikit-learn.org/stable/modules/preprocessing.html\n",
            "Please also refer to the documentation for alternative solver options:\n",
            "    https://scikit-learn.org/stable/modules/linear_model.html#logistic-regression\n",
            "  extra_warning_msg=_LOGISTIC_SOLVER_CONVERGENCE_MSG,\n",
            "/usr/local/lib/python3.7/dist-packages/sklearn/linear_model/_logistic.py:818: ConvergenceWarning: lbfgs failed to converge (status=1):\n",
            "STOP: TOTAL NO. of ITERATIONS REACHED LIMIT.\n",
            "\n",
            "Increase the number of iterations (max_iter) or scale the data as shown in:\n",
            "    https://scikit-learn.org/stable/modules/preprocessing.html\n",
            "Please also refer to the documentation for alternative solver options:\n",
            "    https://scikit-learn.org/stable/modules/linear_model.html#logistic-regression\n",
            "  extra_warning_msg=_LOGISTIC_SOLVER_CONVERGENCE_MSG,\n"
          ]
        }
      ]
    },
    {
      "cell_type": "code",
      "source": [
        "pd.set_option('max_colwidth', -1)"
      ],
      "metadata": {
        "colab": {
          "base_uri": "https://localhost:8080/"
        },
        "id": "RGVGjj8cZk58",
        "outputId": "7649228e-72ea-4d6b-ace4-744d8f7aa6c9"
      },
      "execution_count": 87,
      "outputs": [
        {
          "output_type": "stream",
          "name": "stderr",
          "text": [
            "/usr/local/lib/python3.7/dist-packages/ipykernel_launcher.py:1: FutureWarning: Passing a negative integer is deprecated in version 1.0 and will not be supported in future version. Instead, use None to not limit the column width.\n",
            "  \"\"\"Entry point for launching an IPython kernel.\n"
          ]
        }
      ]
    },
    {
      "cell_type": "code",
      "source": [
        "pd.DataFrame(scores).sort_values('f1_score', ascending=False)"
      ],
      "metadata": {
        "colab": {
          "base_uri": "https://localhost:8080/",
          "height": 426
        },
        "id": "PaDLYxOHYjpe",
        "outputId": "b903dba3-fa06-4e9c-eb1e-26c1d0a78d30"
      },
      "execution_count": 88,
      "outputs": [
        {
          "output_type": "execute_result",
          "data": {
            "text/plain": [
              "                                                                  vectorizer  \\\n",
              "1   CountVectorizer(analyzer='char', ngram_range=(1, 3))                       \n",
              "3   TfidfVectorizer(analyzer='char', ngram_range=(1, 3))                       \n",
              "10  HashingVectorizer(analyzer='char', n_features=10000, ngram_range=(1, 3))   \n",
              "11  HashingVectorizer(analyzer='char', n_features=15000, ngram_range=(1, 3))   \n",
              "9   HashingVectorizer(analyzer='char', n_features=5000, ngram_range=(1, 3))    \n",
              "8   HashingVectorizer(analyzer='char', n_features=1000, ngram_range=(1, 3))    \n",
              "0   CountVectorizer(ngram_range=(1, 3))                                        \n",
              "2   TfidfVectorizer(ngram_range=(1, 3))                                        \n",
              "7   HashingVectorizer(n_features=15000, ngram_range=(1, 3))                    \n",
              "6   HashingVectorizer(n_features=10000, ngram_range=(1, 3))                    \n",
              "5   HashingVectorizer(n_features=5000, ngram_range=(1, 3))                     \n",
              "4   HashingVectorizer(n_features=1000, ngram_range=(1, 3))                     \n",
              "\n",
              "    f1_score  accuracy  \n",
              "1   0.860490  0.866977  \n",
              "3   0.837610  0.849544  \n",
              "10  0.826014  0.839045  \n",
              "11  0.824430  0.838847  \n",
              "9   0.820969  0.834093  \n",
              "8   0.783539  0.799525  \n",
              "0   0.543662  0.508023  \n",
              "2   0.536882  0.502377  \n",
              "7   0.524233  0.508716  \n",
              "6   0.516544  0.506537  \n",
              "5   0.505150  0.503269  \n",
              "4   0.435896  0.458994  "
            ],
            "text/html": [
              "\n",
              "  <div id=\"df-f9e8bf67-8af5-477d-b89f-36740a212ed1\">\n",
              "    <div class=\"colab-df-container\">\n",
              "      <div>\n",
              "<style scoped>\n",
              "    .dataframe tbody tr th:only-of-type {\n",
              "        vertical-align: middle;\n",
              "    }\n",
              "\n",
              "    .dataframe tbody tr th {\n",
              "        vertical-align: top;\n",
              "    }\n",
              "\n",
              "    .dataframe thead th {\n",
              "        text-align: right;\n",
              "    }\n",
              "</style>\n",
              "<table border=\"1\" class=\"dataframe\">\n",
              "  <thead>\n",
              "    <tr style=\"text-align: right;\">\n",
              "      <th></th>\n",
              "      <th>vectorizer</th>\n",
              "      <th>f1_score</th>\n",
              "      <th>accuracy</th>\n",
              "    </tr>\n",
              "  </thead>\n",
              "  <tbody>\n",
              "    <tr>\n",
              "      <th>1</th>\n",
              "      <td>CountVectorizer(analyzer='char', ngram_range=(1, 3))</td>\n",
              "      <td>0.860490</td>\n",
              "      <td>0.866977</td>\n",
              "    </tr>\n",
              "    <tr>\n",
              "      <th>3</th>\n",
              "      <td>TfidfVectorizer(analyzer='char', ngram_range=(1, 3))</td>\n",
              "      <td>0.837610</td>\n",
              "      <td>0.849544</td>\n",
              "    </tr>\n",
              "    <tr>\n",
              "      <th>10</th>\n",
              "      <td>HashingVectorizer(analyzer='char', n_features=10000, ngram_range=(1, 3))</td>\n",
              "      <td>0.826014</td>\n",
              "      <td>0.839045</td>\n",
              "    </tr>\n",
              "    <tr>\n",
              "      <th>11</th>\n",
              "      <td>HashingVectorizer(analyzer='char', n_features=15000, ngram_range=(1, 3))</td>\n",
              "      <td>0.824430</td>\n",
              "      <td>0.838847</td>\n",
              "    </tr>\n",
              "    <tr>\n",
              "      <th>9</th>\n",
              "      <td>HashingVectorizer(analyzer='char', n_features=5000, ngram_range=(1, 3))</td>\n",
              "      <td>0.820969</td>\n",
              "      <td>0.834093</td>\n",
              "    </tr>\n",
              "    <tr>\n",
              "      <th>8</th>\n",
              "      <td>HashingVectorizer(analyzer='char', n_features=1000, ngram_range=(1, 3))</td>\n",
              "      <td>0.783539</td>\n",
              "      <td>0.799525</td>\n",
              "    </tr>\n",
              "    <tr>\n",
              "      <th>0</th>\n",
              "      <td>CountVectorizer(ngram_range=(1, 3))</td>\n",
              "      <td>0.543662</td>\n",
              "      <td>0.508023</td>\n",
              "    </tr>\n",
              "    <tr>\n",
              "      <th>2</th>\n",
              "      <td>TfidfVectorizer(ngram_range=(1, 3))</td>\n",
              "      <td>0.536882</td>\n",
              "      <td>0.502377</td>\n",
              "    </tr>\n",
              "    <tr>\n",
              "      <th>7</th>\n",
              "      <td>HashingVectorizer(n_features=15000, ngram_range=(1, 3))</td>\n",
              "      <td>0.524233</td>\n",
              "      <td>0.508716</td>\n",
              "    </tr>\n",
              "    <tr>\n",
              "      <th>6</th>\n",
              "      <td>HashingVectorizer(n_features=10000, ngram_range=(1, 3))</td>\n",
              "      <td>0.516544</td>\n",
              "      <td>0.506537</td>\n",
              "    </tr>\n",
              "    <tr>\n",
              "      <th>5</th>\n",
              "      <td>HashingVectorizer(n_features=5000, ngram_range=(1, 3))</td>\n",
              "      <td>0.505150</td>\n",
              "      <td>0.503269</td>\n",
              "    </tr>\n",
              "    <tr>\n",
              "      <th>4</th>\n",
              "      <td>HashingVectorizer(n_features=1000, ngram_range=(1, 3))</td>\n",
              "      <td>0.435896</td>\n",
              "      <td>0.458994</td>\n",
              "    </tr>\n",
              "  </tbody>\n",
              "</table>\n",
              "</div>\n",
              "      <button class=\"colab-df-convert\" onclick=\"convertToInteractive('df-f9e8bf67-8af5-477d-b89f-36740a212ed1')\"\n",
              "              title=\"Convert this dataframe to an interactive table.\"\n",
              "              style=\"display:none;\">\n",
              "        \n",
              "  <svg xmlns=\"http://www.w3.org/2000/svg\" height=\"24px\"viewBox=\"0 0 24 24\"\n",
              "       width=\"24px\">\n",
              "    <path d=\"M0 0h24v24H0V0z\" fill=\"none\"/>\n",
              "    <path d=\"M18.56 5.44l.94 2.06.94-2.06 2.06-.94-2.06-.94-.94-2.06-.94 2.06-2.06.94zm-11 1L8.5 8.5l.94-2.06 2.06-.94-2.06-.94L8.5 2.5l-.94 2.06-2.06.94zm10 10l.94 2.06.94-2.06 2.06-.94-2.06-.94-.94-2.06-.94 2.06-2.06.94z\"/><path d=\"M17.41 7.96l-1.37-1.37c-.4-.4-.92-.59-1.43-.59-.52 0-1.04.2-1.43.59L10.3 9.45l-7.72 7.72c-.78.78-.78 2.05 0 2.83L4 21.41c.39.39.9.59 1.41.59.51 0 1.02-.2 1.41-.59l7.78-7.78 2.81-2.81c.8-.78.8-2.07 0-2.86zM5.41 20L4 18.59l7.72-7.72 1.47 1.35L5.41 20z\"/>\n",
              "  </svg>\n",
              "      </button>\n",
              "      \n",
              "  <style>\n",
              "    .colab-df-container {\n",
              "      display:flex;\n",
              "      flex-wrap:wrap;\n",
              "      gap: 12px;\n",
              "    }\n",
              "\n",
              "    .colab-df-convert {\n",
              "      background-color: #E8F0FE;\n",
              "      border: none;\n",
              "      border-radius: 50%;\n",
              "      cursor: pointer;\n",
              "      display: none;\n",
              "      fill: #1967D2;\n",
              "      height: 32px;\n",
              "      padding: 0 0 0 0;\n",
              "      width: 32px;\n",
              "    }\n",
              "\n",
              "    .colab-df-convert:hover {\n",
              "      background-color: #E2EBFA;\n",
              "      box-shadow: 0px 1px 2px rgba(60, 64, 67, 0.3), 0px 1px 3px 1px rgba(60, 64, 67, 0.15);\n",
              "      fill: #174EA6;\n",
              "    }\n",
              "\n",
              "    [theme=dark] .colab-df-convert {\n",
              "      background-color: #3B4455;\n",
              "      fill: #D2E3FC;\n",
              "    }\n",
              "\n",
              "    [theme=dark] .colab-df-convert:hover {\n",
              "      background-color: #434B5C;\n",
              "      box-shadow: 0px 1px 3px 1px rgba(0, 0, 0, 0.15);\n",
              "      filter: drop-shadow(0px 1px 2px rgba(0, 0, 0, 0.3));\n",
              "      fill: #FFFFFF;\n",
              "    }\n",
              "  </style>\n",
              "\n",
              "      <script>\n",
              "        const buttonEl =\n",
              "          document.querySelector('#df-f9e8bf67-8af5-477d-b89f-36740a212ed1 button.colab-df-convert');\n",
              "        buttonEl.style.display =\n",
              "          google.colab.kernel.accessAllowed ? 'block' : 'none';\n",
              "\n",
              "        async function convertToInteractive(key) {\n",
              "          const element = document.querySelector('#df-f9e8bf67-8af5-477d-b89f-36740a212ed1');\n",
              "          const dataTable =\n",
              "            await google.colab.kernel.invokeFunction('convertToInteractive',\n",
              "                                                     [key], {});\n",
              "          if (!dataTable) return;\n",
              "\n",
              "          const docLinkHtml = 'Like what you see? Visit the ' +\n",
              "            '<a target=\"_blank\" href=https://colab.research.google.com/notebooks/data_table.ipynb>data table notebook</a>'\n",
              "            + ' to learn more about interactive tables.';\n",
              "          element.innerHTML = '';\n",
              "          dataTable['output_type'] = 'display_data';\n",
              "          await google.colab.output.renderOutput(dataTable, element);\n",
              "          const docLink = document.createElement('div');\n",
              "          docLink.innerHTML = docLinkHtml;\n",
              "          element.appendChild(docLink);\n",
              "        }\n",
              "      </script>\n",
              "    </div>\n",
              "  </div>\n",
              "  "
            ]
          },
          "metadata": {},
          "execution_count": 88
        }
      ]
    },
    {
      "cell_type": "markdown",
      "source": [
        "###Задание 2. Проверить, насколько хорошо работает NER\n",
        "\n",
        "Данные брать из http://www.labinform.ru/pub/named_entities/\n",
        "\n",
        "- проверить NER из nltk/spacy/deeppavlov.\n",
        "\n",
        "- написать свой NER, попробовать разные подходы.\n",
        "\n",
        "    - передаём в сетку токен и его соседей.\n",
        "\n",
        "    - передаём в сетку только токен.\n",
        "\n",
        "    - свой вариант.\n",
        "\n",
        "- сравнить свои реализованные подходы на качество — вывести precision/recall/f1_score.\n"
      ],
      "metadata": {
        "id": "F5mFg-uHAwvL"
      }
    },
    {
      "cell_type": "code",
      "source": [
        "!wget http://www.labinform.ru/pub/named_entities/collection5.zip"
      ],
      "metadata": {
        "colab": {
          "base_uri": "https://localhost:8080/"
        },
        "id": "DOA-3r5wmC2-",
        "outputId": "591399c4-93fc-4c31-ce0e-de3716e99c1c"
      },
      "execution_count": 4,
      "outputs": [
        {
          "output_type": "stream",
          "name": "stdout",
          "text": [
            "--2022-10-27 08:41:34--  http://www.labinform.ru/pub/named_entities/collection5.zip\n",
            "Resolving www.labinform.ru (www.labinform.ru)... 95.181.230.181\n",
            "Connecting to www.labinform.ru (www.labinform.ru)|95.181.230.181|:80... connected.\n",
            "HTTP request sent, awaiting response... 200 OK\n",
            "Length: 1899530 (1.8M) [application/zip]\n",
            "Saving to: ‘collection5.zip’\n",
            "\n",
            "collection5.zip     100%[===================>]   1.81M   928KB/s    in 2.0s    \n",
            "\n",
            "2022-10-27 08:41:37 (928 KB/s) - ‘collection5.zip’ saved [1899530/1899530]\n",
            "\n"
          ]
        }
      ]
    },
    {
      "cell_type": "code",
      "source": [
        "import zipfile\n",
        "with zipfile.ZipFile('/content/collection5.zip', 'r') as zip_ref:\n",
        "    zip_ref.extractall('/content/')"
      ],
      "metadata": {
        "id": "I-D-ytVfm5pA"
      },
      "execution_count": 5,
      "outputs": []
    },
    {
      "cell_type": "code",
      "source": [
        "!pip install corus"
      ],
      "metadata": {
        "colab": {
          "base_uri": "https://localhost:8080/"
        },
        "id": "GljbrDPesOn0",
        "outputId": "896e96be-ec77-4ac7-f177-eb61fc7455ce"
      },
      "execution_count": 17,
      "outputs": [
        {
          "output_type": "stream",
          "name": "stdout",
          "text": [
            "Looking in indexes: https://pypi.org/simple, https://us-python.pkg.dev/colab-wheels/public/simple/\n",
            "Collecting corus\n",
            "  Downloading corus-0.9.0-py3-none-any.whl (83 kB)\n",
            "\u001b[K     |████████████████████████████████| 83 kB 1.5 MB/s \n",
            "\u001b[?25hInstalling collected packages: corus\n",
            "Successfully installed corus-0.9.0\n"
          ]
        }
      ]
    },
    {
      "cell_type": "code",
      "source": [
        "!pip install razdel"
      ],
      "metadata": {
        "colab": {
          "base_uri": "https://localhost:8080/"
        },
        "id": "yZX0zM4LxdOw",
        "outputId": "44d18344-8d48-491e-d603-aa7b0c6a00fc"
      },
      "execution_count": 24,
      "outputs": [
        {
          "output_type": "stream",
          "name": "stdout",
          "text": [
            "Looking in indexes: https://pypi.org/simple, https://us-python.pkg.dev/colab-wheels/public/simple/\n",
            "Collecting razdel\n",
            "  Downloading razdel-0.5.0-py3-none-any.whl (21 kB)\n",
            "Installing collected packages: razdel\n",
            "Successfully installed razdel-0.5.0\n"
          ]
        }
      ]
    },
    {
      "cell_type": "code",
      "source": [
        "import nltk\n",
        "import corus\n",
        "from corus import load_ne5\n",
        "from corus import load_rudrec\n",
        "from razdel import tokenize"
      ],
      "metadata": {
        "id": "tOLgw7xHr-EP"
      },
      "execution_count": 50,
      "outputs": []
    },
    {
      "cell_type": "code",
      "source": [
        "nltk.download('punkt')\n",
        "nltk.download('averaged_perceptron_tagger')\n",
        "nltk.download('maxent_ne_chunker')\n",
        "nltk.download('words')"
      ],
      "metadata": {
        "colab": {
          "base_uri": "https://localhost:8080/"
        },
        "id": "DTBhplXnKGO5",
        "outputId": "7f92f013-2168-4b01-82c3-f1ef41a76890"
      },
      "execution_count": 58,
      "outputs": [
        {
          "output_type": "stream",
          "name": "stderr",
          "text": [
            "[nltk_data] Downloading package punkt to /root/nltk_data...\n",
            "[nltk_data]   Package punkt is already up-to-date!\n",
            "[nltk_data] Downloading package averaged_perceptron_tagger to\n",
            "[nltk_data]     /root/nltk_data...\n",
            "[nltk_data]   Package averaged_perceptron_tagger is already up-to-\n",
            "[nltk_data]       date!\n",
            "[nltk_data] Downloading package maxent_ne_chunker to\n",
            "[nltk_data]     /root/nltk_data...\n",
            "[nltk_data]   Package maxent_ne_chunker is already up-to-date!\n",
            "[nltk_data] Downloading package words to /root/nltk_data...\n",
            "[nltk_data]   Unzipping corpora/words.zip.\n"
          ]
        },
        {
          "output_type": "execute_result",
          "data": {
            "text/plain": [
              "True"
            ]
          },
          "metadata": {},
          "execution_count": 58
        }
      ]
    },
    {
      "cell_type": "code",
      "source": [
        "path = '/content/Collection5'\n",
        "records = load_ne5(path)"
      ],
      "metadata": {
        "id": "yRN2chHzs7Tx"
      },
      "execution_count": 19,
      "outputs": []
    },
    {
      "cell_type": "code",
      "source": [
        "next(records)"
      ],
      "metadata": {
        "colab": {
          "base_uri": "https://localhost:8080/"
        },
        "id": "_vbm4RfTtGyb",
        "outputId": "f561415f-ed75-4f90-9f21-bc69c6e0073a"
      },
      "execution_count": 29,
      "outputs": [
        {
          "output_type": "execute_result",
          "data": {
            "text/plain": [
              "Ne5Markup(\n",
              "    id='last_47',\n",
              "    text='\\r\\nШанцев скорректировал структуру нижегородского правительства и назначил себе новых заместителей\\r\\n\\r\\nГубернатор Валерий Шанцев внес кадровые изменения в состав правительства Нижегородской области. Как сообщает Шанцев в своем блоге, он уже подписал новую структуру правительства области.\\r\\n\\r\\n\"В нынешнем виде, за небольшими исключениями, она существует 3 года. За это время многое изменилось, появились новые вызовы - экономические, социальные. Убежден, что правительство должно оперативно и профессионально реагировать на них, должно идти в ногу со временем. В течение полугода я проводил консультации. Для повышения эффективности правительства в целом и каждого отдельного блока в частности считаю целесообразными следующие изменения.\", - пишет губернатор.\\r\\n\\r\\n\"Блок экономики и финансов. Задачами Владимира Иванова (вице-губернатор Нижегородской области) вижу планирование и формирование бюджета, экономическое планирование. С целью развития и модернизации реального сектора экономики в соответствующий блок переходит министерство промышленности и инноваций и министерство поддержки и развития малого предпринимательства. После консультаций принял решение о назначении на должность заместителя губернатора, курирующего этот блок, Евгения Люлина (генеральный директор ООО \"ЛУКОЙЛ-Энергосети\", экс-председатель Законодательного собрания Нижегородской). Это сильный, грамотный и ответственный управленец, имеющий большой опыт работы на промышленных предприятиях и хорошо знающий Нижегородскую область. В этом блоке также министерство экологии и природных ресурсов, министерство сельского хозяйства и продовольственных ресурсов, департамент лесного хозяйства и комитет государственного ветеринарного надзора\", - сообщает Шанцев.\\r\\n\\r\\nУ Натальи Казачковой (заместитель губернатора по инвестиционной политике) добавляется управление государственной службы занятости населения. У ее блока прежние функции - улучшение инвестиционного климата, привлечение инвестиций, создание высокопроизводительных рабочих мест, но в связке со службой занятости эта работа должна стать более комплексной. Президентом Владимиром Путиным поставлена новая задача по созданию в стране 25 млн. рабочих мест. Важно, ориентируясь на особенности рынка труда каждого муниципалитета, приводить инвесторов туда, где они не будут испытывать дефицита в кадрах, где есть свободная рабочая сила. А то получается, что большинство предприятий открывается в Нижнем, Дзержинске, Кстово Нужно налаживать взаимосвязь между инвестором и всеми районами. Должен быть комплекс по созданию новых рабочих мест\",- продолжил губернатор.\\r\\n\\r\\n\"Антону Аверину (заместитель губернатора) предполагаю поручить управление новым объединенным блоком. Вместо департамента транспорта и управления автомобильных дорог создается новое министерство - транспорта и автодорог. Появился Дорожный фонд, в этом году он составляет 10 млрд рублей - серьезное финансирование, поэтому должна быть серьезная работа. Задачами считаю ускорение темпов ремонта и строительства дорог, а также увеличение темпов строительства жилья. При этом рассчитываю, что объединение в одном блоке министерства ЖКХ и топливно-энергетического комплекса и министерства строительства будет способствовать более оперативной подготовке земельных участков с точки зрения инженерной инфраструктуры\", - отметил губернатор.\\r\\n\\r\\nПо его словам, в социальном блоке у Дмитрия Сватковского только одно, но важное добавление - управление госохраны объектов культурного наследия: \"Раньше строительством и охраной занимался один блок, нередко возникали вопросы. Управление госохранкультуры должно выступать как сторонний контролер, не подчиняющийся тем, кто строит и реконструирует\".\\r\\n\\r\\n\"И еще одно изменение. В последнее время в стране и у нас в регионе делается отдельный акцент на борьбу с коррупцией, антитеррористическую, антинаркотическую деятельность. Созданы соответствующие региональные комиссии, функции которых очень масштабны и ответственны. Считаю, должен быть отдельный блок, который бы комплексно готовил эти вопросы - объем работы по ним очень большой. Принял решение, что данное направление в статусе заместителя губернатора будет курировать Валерий Назаров, - сообщает Шанцев. - Это серьезный профессионал с большим опытом работы в правоохранительных структурах, более трех лет возглавлял УФСБ по Нижегородской области, являлся руководителем УФСБ в Орловской области. Он возьмет на себя координацию с правоохранительными органами, законотворческую деятельность, обеспечение деятельности мировых судей, адвокатуры и нотариата, а также организацию комплексной работы комиссий при губернаторе - антитеррористической, антинаркотической, антикоррупционной\". В завершении Шанцев выразил надежду на то, что все блоки областного правительства будут работать эффективно.\\r\\n',\n",
              "    spans=[Ne5Span(\n",
              "         index='T1',\n",
              "         type='PER',\n",
              "         start=2,\n",
              "         stop=8,\n",
              "         text='Шанцев'\n",
              "     ), Ne5Span(\n",
              "         index='T2',\n",
              "         type='PER',\n",
              "         start=112,\n",
              "         stop=126,\n",
              "         text='Валерий Шанцев'\n",
              "     ), Ne5Span(\n",
              "         index='T3',\n",
              "         type='LOC',\n",
              "         start=174,\n",
              "         stop=195,\n",
              "         text='Нижегородской области'\n",
              "     ), Ne5Span(\n",
              "         index='T4',\n",
              "         type='PER',\n",
              "         start=210,\n",
              "         stop=216,\n",
              "         text='Шанцев'\n",
              "     ), Ne5Span(\n",
              "         index='T5',\n",
              "         type='PER',\n",
              "         start=797,\n",
              "         stop=814,\n",
              "         text='Владимира Иванова'\n",
              "     ), Ne5Span(\n",
              "         index='T6',\n",
              "         type='LOC',\n",
              "         start=832,\n",
              "         stop=853,\n",
              "         text='Нижегородской области'\n",
              "     ), Ne5Span(\n",
              "         index='T7',\n",
              "         type='PER',\n",
              "         start=1230,\n",
              "         stop=1244,\n",
              "         text='Евгения Люлина'\n",
              "     ), Ne5Span(\n",
              "         index='T8',\n",
              "         type='ORG',\n",
              "         start=1267,\n",
              "         stop=1290,\n",
              "         text='ООО \"ЛУКОЙЛ-Энергосети\"'\n",
              "     ), Ne5Span(\n",
              "         index='T9',\n",
              "         type='ORG',\n",
              "         start=1309,\n",
              "         stop=1334,\n",
              "         text='Законодательного собрания'\n",
              "     ), Ne5Span(\n",
              "         index='T10',\n",
              "         type='LOC',\n",
              "         start=1335,\n",
              "         stop=1348,\n",
              "         text='Нижегородской'\n",
              "     ), Ne5Span(\n",
              "         index='T11',\n",
              "         type='LOC',\n",
              "         start=1476,\n",
              "         stop=1497,\n",
              "         text='Нижегородскую область'\n",
              "     ), Ne5Span(\n",
              "         index='T12',\n",
              "         type='PER',\n",
              "         start=1717,\n",
              "         stop=1723,\n",
              "         text='Шанцев'\n",
              "     ), Ne5Span(\n",
              "         index='T13',\n",
              "         type='PER',\n",
              "         start=1730,\n",
              "         stop=1748,\n",
              "         text='Натальи Казачковой'\n",
              "     ), Ne5Span(\n",
              "         index='T14',\n",
              "         type='PER',\n",
              "         start=2091,\n",
              "         stop=2109,\n",
              "         text='Владимиром Путиным'\n",
              "     ), Ne5Span(\n",
              "         index='T15',\n",
              "         type='LOC',\n",
              "         start=2414,\n",
              "         stop=2420,\n",
              "         text='Нижнем'\n",
              "     ), Ne5Span(\n",
              "         index='T16',\n",
              "         type='LOC',\n",
              "         start=2422,\n",
              "         stop=2432,\n",
              "         text='Дзержинске'\n",
              "     ), Ne5Span(\n",
              "         index='T17',\n",
              "         type='LOC',\n",
              "         start=2434,\n",
              "         stop=2440,\n",
              "         text='Кстово'\n",
              "     ), Ne5Span(\n",
              "         index='T18',\n",
              "         type='PER',\n",
              "         start=2586,\n",
              "         stop=2600,\n",
              "         text='Антону Аверину'\n",
              "     ), Ne5Span(\n",
              "         index='T19',\n",
              "         type='ORG',\n",
              "         start=2814,\n",
              "         stop=2827,\n",
              "         text='Дорожный фонд'\n",
              "     ), Ne5Span(\n",
              "         index='T20',\n",
              "         type='PER',\n",
              "         start=3355,\n",
              "         stop=3375,\n",
              "         text='Дмитрия Сватковского'\n",
              "     ), Ne5Span(\n",
              "         index='T21',\n",
              "         type='PER',\n",
              "         start=4142,\n",
              "         stop=4157,\n",
              "         text='Валерий Назаров'\n",
              "     ), Ne5Span(\n",
              "         index='T22',\n",
              "         type='PER',\n",
              "         start=4170,\n",
              "         stop=4176,\n",
              "         text='Шанцев'\n",
              "     ), Ne5Span(\n",
              "         index='T23',\n",
              "         type='ORG',\n",
              "         start=4290,\n",
              "         stop=4294,\n",
              "         text='УФСБ'\n",
              "     ), Ne5Span(\n",
              "         index='T24',\n",
              "         type='LOC',\n",
              "         start=4298,\n",
              "         stop=4319,\n",
              "         text='Нижегородской области'\n",
              "     ), Ne5Span(\n",
              "         index='T25',\n",
              "         type='ORG',\n",
              "         start=4343,\n",
              "         stop=4347,\n",
              "         text='УФСБ'\n",
              "     ), Ne5Span(\n",
              "         index='T26',\n",
              "         type='LOC',\n",
              "         start=4350,\n",
              "         stop=4367,\n",
              "         text='Орловской области'\n",
              "     ), Ne5Span(\n",
              "         index='T27',\n",
              "         type='PER',\n",
              "         start=4667,\n",
              "         stop=4673,\n",
              "         text='Шанцев'\n",
              "     )]\n",
              ")"
            ]
          },
          "metadata": {},
          "execution_count": 29
        }
      ]
    },
    {
      "cell_type": "markdown",
      "source": [
        "####**NLTK**"
      ],
      "metadata": {
        "id": "QusHvb6qM-7_"
      }
    },
    {
      "cell_type": "code",
      "source": [
        "document = next(load_ne5(path)).text"
      ],
      "metadata": {
        "id": "t4DB5orJGeml"
      },
      "execution_count": 48,
      "outputs": []
    },
    {
      "cell_type": "code",
      "source": [
        "document"
      ],
      "metadata": {
        "colab": {
          "base_uri": "https://localhost:8080/",
          "height": 0
        },
        "id": "sV4-WwdSKfFf",
        "outputId": "9eebc44f-e172-4219-b9f3-e2c59ce334c0"
      },
      "execution_count": 60,
      "outputs": [
        {
          "output_type": "execute_result",
          "data": {
            "text/plain": [
              "'Генеральным директором \"Мечел-Энерго\" назначен Ю.Ямпольский.\\r\\n\\r\\n06.03.2012, Москва 19:41:19 Генеральным директором ООО \"Мечел-Энерго\" (входит в группу \"Мечел\") назначен Юрий Ямпольский, который сменил на этом посту исполняющего обязанности генерального директора Анатолия Чернакова. Об этом говорится в сообщении компании. Новый глава компании будет управлять генерирующими и энергосбытовыми предприятиями, координировать работу подразделений, обеспечивать их эффективность.\\r\\n\\r\\nКак отмечается в сообщении, Ю.Ямпольский имеет многолетний практический опыт в сфере энергетики, с ноября 2010г. и до настоящего времени он занимал должность заместителя генерального директора по экономике и финансам, первого заместителя генерального директора, заместителя генерального директора ОАО \"Научно-исследовательский инжиниринговый центр межрегиональных распределительных сетевых компаний\", с 1997г. занимал руководящие должности.\\r\\n\\r\\n\"Мечел\" объединяет производителей угля, железорудного концентрата, стали, проката, ферросплавов, продукции высоких переделов, тепловой и электрической энергии. Бизнес \"Мечела\" состоит из четырех сегментов: горнодобывающего, металлургического, ферросплавного и энергетического. Группа \"Мечел\" в 2011г. увеличила выпуск концентрата коксующегося угля на 9% - до 12,5 млн т, выпуск стали - на 1% - до 6 млн 118 тыс. т. Основным бенефициаром ОАО \"Мечел\" является председатель совета директоров группы И.Зюзин, free float (ADR) составляет около 30%. Чистый убыток ОАО \"Мечел\" по российским стандартам бухгалтерского учета (РСБУ) за 2011г. составил 19,674 млрд руб. против прибыли в 42,929 млрд руб. в 2010г. Выручка компании сократилась в 5,6 раза - до 8,514 млрд руб., валовая прибыль составила 7,703 млрд руб. (сокращение в 5,2 раза).'"
            ],
            "application/vnd.google.colaboratory.intrinsic+json": {
              "type": "string"
            }
          },
          "metadata": {},
          "execution_count": 60
        }
      ]
    },
    {
      "cell_type": "code",
      "source": [
        "{(' '.join(c[0] for c in chunk), chunk.label() ) for chunk in nltk.ne_chunk(nltk.pos_tag(nltk.word_tokenize(document))) if hasattr(chunk, 'label') }"
      ],
      "metadata": {
        "colab": {
          "base_uri": "https://localhost:8080/"
        },
        "id": "HrZ5KdlbJUxS",
        "outputId": "0d26bb5c-13ec-426e-c270-9e954943d26a"
      },
      "execution_count": 59,
      "outputs": [
        {
          "output_type": "execute_result",
          "data": {
            "text/plain": [
              "{('ADR', 'ORGANIZATION'),\n",
              " ('Генеральным', 'GPE'),\n",
              " ('ОАО', 'ORGANIZATION'),\n",
              " ('Основным', 'ORGANIZATION'),\n",
              " ('РСБУ', 'ORGANIZATION')}"
            ]
          },
          "metadata": {},
          "execution_count": 59
        }
      ]
    },
    {
      "cell_type": "markdown",
      "source": [
        "####**SPACY**"
      ],
      "metadata": {
        "id": "bAmCiJs7NbgS"
      }
    },
    {
      "cell_type": "code",
      "source": [
        "!pip install -U spacy"
      ],
      "metadata": {
        "colab": {
          "base_uri": "https://localhost:8080/"
        },
        "id": "mVN9InovM9Hq",
        "outputId": "1b1b2321-93ab-450b-d445-171fb74be6dd"
      },
      "execution_count": 61,
      "outputs": [
        {
          "output_type": "stream",
          "name": "stdout",
          "text": [
            "Looking in indexes: https://pypi.org/simple, https://us-python.pkg.dev/colab-wheels/public/simple/\n",
            "Requirement already satisfied: spacy in /usr/local/lib/python3.7/dist-packages (3.4.2)\n",
            "Requirement already satisfied: catalogue<2.1.0,>=2.0.6 in /usr/local/lib/python3.7/dist-packages (from spacy) (2.0.8)\n",
            "Requirement already satisfied: typing-extensions<4.2.0,>=3.7.4 in /usr/local/lib/python3.7/dist-packages (from spacy) (4.1.1)\n",
            "Requirement already satisfied: numpy>=1.15.0 in /usr/local/lib/python3.7/dist-packages (from spacy) (1.21.6)\n",
            "Requirement already satisfied: langcodes<4.0.0,>=3.2.0 in /usr/local/lib/python3.7/dist-packages (from spacy) (3.3.0)\n",
            "Requirement already satisfied: srsly<3.0.0,>=2.4.3 in /usr/local/lib/python3.7/dist-packages (from spacy) (2.4.5)\n",
            "Requirement already satisfied: jinja2 in /usr/local/lib/python3.7/dist-packages (from spacy) (2.11.3)\n",
            "Requirement already satisfied: murmurhash<1.1.0,>=0.28.0 in /usr/local/lib/python3.7/dist-packages (from spacy) (1.0.9)\n",
            "Requirement already satisfied: preshed<3.1.0,>=3.0.2 in /usr/local/lib/python3.7/dist-packages (from spacy) (3.0.8)\n",
            "Requirement already satisfied: packaging>=20.0 in /usr/local/lib/python3.7/dist-packages (from spacy) (21.3)\n",
            "Requirement already satisfied: requests<3.0.0,>=2.13.0 in /usr/local/lib/python3.7/dist-packages (from spacy) (2.23.0)\n",
            "Requirement already satisfied: wasabi<1.1.0,>=0.9.1 in /usr/local/lib/python3.7/dist-packages (from spacy) (0.10.1)\n",
            "Requirement already satisfied: tqdm<5.0.0,>=4.38.0 in /usr/local/lib/python3.7/dist-packages (from spacy) (4.64.1)\n",
            "Requirement already satisfied: cymem<2.1.0,>=2.0.2 in /usr/local/lib/python3.7/dist-packages (from spacy) (2.0.7)\n",
            "Requirement already satisfied: pathy>=0.3.5 in /usr/local/lib/python3.7/dist-packages (from spacy) (0.6.2)\n",
            "Requirement already satisfied: typer<0.5.0,>=0.3.0 in /usr/local/lib/python3.7/dist-packages (from spacy) (0.4.2)\n",
            "Requirement already satisfied: setuptools in /usr/local/lib/python3.7/dist-packages (from spacy) (57.4.0)\n",
            "Requirement already satisfied: thinc<8.2.0,>=8.1.0 in /usr/local/lib/python3.7/dist-packages (from spacy) (8.1.5)\n",
            "Requirement already satisfied: pydantic!=1.8,!=1.8.1,<1.11.0,>=1.7.4 in /usr/local/lib/python3.7/dist-packages (from spacy) (1.10.2)\n",
            "Requirement already satisfied: spacy-loggers<2.0.0,>=1.0.0 in /usr/local/lib/python3.7/dist-packages (from spacy) (1.0.3)\n",
            "Requirement already satisfied: spacy-legacy<3.1.0,>=3.0.10 in /usr/local/lib/python3.7/dist-packages (from spacy) (3.0.10)\n",
            "Requirement already satisfied: zipp>=0.5 in /usr/local/lib/python3.7/dist-packages (from catalogue<2.1.0,>=2.0.6->spacy) (3.9.0)\n",
            "Requirement already satisfied: pyparsing!=3.0.5,>=2.0.2 in /usr/local/lib/python3.7/dist-packages (from packaging>=20.0->spacy) (3.0.9)\n",
            "Requirement already satisfied: smart-open<6.0.0,>=5.2.1 in /usr/local/lib/python3.7/dist-packages (from pathy>=0.3.5->spacy) (5.2.1)\n",
            "Requirement already satisfied: urllib3!=1.25.0,!=1.25.1,<1.26,>=1.21.1 in /usr/local/lib/python3.7/dist-packages (from requests<3.0.0,>=2.13.0->spacy) (1.24.3)\n",
            "Requirement already satisfied: idna<3,>=2.5 in /usr/local/lib/python3.7/dist-packages (from requests<3.0.0,>=2.13.0->spacy) (2.10)\n",
            "Requirement already satisfied: certifi>=2017.4.17 in /usr/local/lib/python3.7/dist-packages (from requests<3.0.0,>=2.13.0->spacy) (2022.9.24)\n",
            "Requirement already satisfied: chardet<4,>=3.0.2 in /usr/local/lib/python3.7/dist-packages (from requests<3.0.0,>=2.13.0->spacy) (3.0.4)\n",
            "Requirement already satisfied: confection<1.0.0,>=0.0.1 in /usr/local/lib/python3.7/dist-packages (from thinc<8.2.0,>=8.1.0->spacy) (0.0.3)\n",
            "Requirement already satisfied: blis<0.8.0,>=0.7.8 in /usr/local/lib/python3.7/dist-packages (from thinc<8.2.0,>=8.1.0->spacy) (0.7.9)\n",
            "Requirement already satisfied: click<9.0.0,>=7.1.1 in /usr/local/lib/python3.7/dist-packages (from typer<0.5.0,>=0.3.0->spacy) (7.1.2)\n",
            "Requirement already satisfied: MarkupSafe>=0.23 in /usr/local/lib/python3.7/dist-packages (from jinja2->spacy) (2.0.1)\n"
          ]
        }
      ]
    },
    {
      "cell_type": "code",
      "source": [
        "!python -m spacy download ru_core_news_sm"
      ],
      "metadata": {
        "colab": {
          "base_uri": "https://localhost:8080/"
        },
        "id": "HsDDitulNyBd",
        "outputId": "e9d6d1e0-ec63-42ce-9e31-728550cd0485"
      },
      "execution_count": 66,
      "outputs": [
        {
          "output_type": "stream",
          "name": "stdout",
          "text": [
            "2022-10-27 11:39:54.909385: E tensorflow/stream_executor/cuda/cuda_driver.cc:271] failed call to cuInit: CUDA_ERROR_NO_DEVICE: no CUDA-capable device is detected\n",
            "Looking in indexes: https://pypi.org/simple, https://us-python.pkg.dev/colab-wheels/public/simple/\n",
            "Collecting ru-core-news-sm==3.4.0\n",
            "  Downloading https://github.com/explosion/spacy-models/releases/download/ru_core_news_sm-3.4.0/ru_core_news_sm-3.4.0-py3-none-any.whl (15.3 MB)\n",
            "\u001b[K     |████████████████████████████████| 15.3 MB 4.3 MB/s \n",
            "\u001b[?25hRequirement already satisfied: pymorphy2>=0.9 in /usr/local/lib/python3.7/dist-packages (from ru-core-news-sm==3.4.0) (0.9.1)\n",
            "Requirement already satisfied: spacy<3.5.0,>=3.4.0 in /usr/local/lib/python3.7/dist-packages (from ru-core-news-sm==3.4.0) (3.4.2)\n",
            "Requirement already satisfied: docopt>=0.6 in /usr/local/lib/python3.7/dist-packages (from pymorphy2>=0.9->ru-core-news-sm==3.4.0) (0.6.2)\n",
            "Requirement already satisfied: pymorphy2-dicts-ru<3.0,>=2.4 in /usr/local/lib/python3.7/dist-packages (from pymorphy2>=0.9->ru-core-news-sm==3.4.0) (2.4.417127.4579844)\n",
            "Requirement already satisfied: dawg-python>=0.7.1 in /usr/local/lib/python3.7/dist-packages (from pymorphy2>=0.9->ru-core-news-sm==3.4.0) (0.7.2)\n",
            "Requirement already satisfied: numpy>=1.15.0 in /usr/local/lib/python3.7/dist-packages (from spacy<3.5.0,>=3.4.0->ru-core-news-sm==3.4.0) (1.21.6)\n",
            "Requirement already satisfied: jinja2 in /usr/local/lib/python3.7/dist-packages (from spacy<3.5.0,>=3.4.0->ru-core-news-sm==3.4.0) (2.11.3)\n",
            "Requirement already satisfied: setuptools in /usr/local/lib/python3.7/dist-packages (from spacy<3.5.0,>=3.4.0->ru-core-news-sm==3.4.0) (57.4.0)\n",
            "Requirement already satisfied: typing-extensions<4.2.0,>=3.7.4 in /usr/local/lib/python3.7/dist-packages (from spacy<3.5.0,>=3.4.0->ru-core-news-sm==3.4.0) (4.1.1)\n",
            "Requirement already satisfied: tqdm<5.0.0,>=4.38.0 in /usr/local/lib/python3.7/dist-packages (from spacy<3.5.0,>=3.4.0->ru-core-news-sm==3.4.0) (4.64.1)\n",
            "Requirement already satisfied: cymem<2.1.0,>=2.0.2 in /usr/local/lib/python3.7/dist-packages (from spacy<3.5.0,>=3.4.0->ru-core-news-sm==3.4.0) (2.0.7)\n",
            "Requirement already satisfied: wasabi<1.1.0,>=0.9.1 in /usr/local/lib/python3.7/dist-packages (from spacy<3.5.0,>=3.4.0->ru-core-news-sm==3.4.0) (0.10.1)\n",
            "Requirement already satisfied: typer<0.5.0,>=0.3.0 in /usr/local/lib/python3.7/dist-packages (from spacy<3.5.0,>=3.4.0->ru-core-news-sm==3.4.0) (0.4.2)\n",
            "Requirement already satisfied: pydantic!=1.8,!=1.8.1,<1.11.0,>=1.7.4 in /usr/local/lib/python3.7/dist-packages (from spacy<3.5.0,>=3.4.0->ru-core-news-sm==3.4.0) (1.10.2)\n",
            "Requirement already satisfied: thinc<8.2.0,>=8.1.0 in /usr/local/lib/python3.7/dist-packages (from spacy<3.5.0,>=3.4.0->ru-core-news-sm==3.4.0) (8.1.5)\n",
            "Requirement already satisfied: langcodes<4.0.0,>=3.2.0 in /usr/local/lib/python3.7/dist-packages (from spacy<3.5.0,>=3.4.0->ru-core-news-sm==3.4.0) (3.3.0)\n",
            "Requirement already satisfied: catalogue<2.1.0,>=2.0.6 in /usr/local/lib/python3.7/dist-packages (from spacy<3.5.0,>=3.4.0->ru-core-news-sm==3.4.0) (2.0.8)\n",
            "Requirement already satisfied: spacy-legacy<3.1.0,>=3.0.10 in /usr/local/lib/python3.7/dist-packages (from spacy<3.5.0,>=3.4.0->ru-core-news-sm==3.4.0) (3.0.10)\n",
            "Requirement already satisfied: murmurhash<1.1.0,>=0.28.0 in /usr/local/lib/python3.7/dist-packages (from spacy<3.5.0,>=3.4.0->ru-core-news-sm==3.4.0) (1.0.9)\n",
            "Requirement already satisfied: pathy>=0.3.5 in /usr/local/lib/python3.7/dist-packages (from spacy<3.5.0,>=3.4.0->ru-core-news-sm==3.4.0) (0.6.2)\n",
            "Requirement already satisfied: preshed<3.1.0,>=3.0.2 in /usr/local/lib/python3.7/dist-packages (from spacy<3.5.0,>=3.4.0->ru-core-news-sm==3.4.0) (3.0.8)\n",
            "Requirement already satisfied: spacy-loggers<2.0.0,>=1.0.0 in /usr/local/lib/python3.7/dist-packages (from spacy<3.5.0,>=3.4.0->ru-core-news-sm==3.4.0) (1.0.3)\n",
            "Requirement already satisfied: packaging>=20.0 in /usr/local/lib/python3.7/dist-packages (from spacy<3.5.0,>=3.4.0->ru-core-news-sm==3.4.0) (21.3)\n",
            "Requirement already satisfied: requests<3.0.0,>=2.13.0 in /usr/local/lib/python3.7/dist-packages (from spacy<3.5.0,>=3.4.0->ru-core-news-sm==3.4.0) (2.23.0)\n",
            "Requirement already satisfied: srsly<3.0.0,>=2.4.3 in /usr/local/lib/python3.7/dist-packages (from spacy<3.5.0,>=3.4.0->ru-core-news-sm==3.4.0) (2.4.5)\n",
            "Requirement already satisfied: zipp>=0.5 in /usr/local/lib/python3.7/dist-packages (from catalogue<2.1.0,>=2.0.6->spacy<3.5.0,>=3.4.0->ru-core-news-sm==3.4.0) (3.9.0)\n",
            "Requirement already satisfied: pyparsing!=3.0.5,>=2.0.2 in /usr/local/lib/python3.7/dist-packages (from packaging>=20.0->spacy<3.5.0,>=3.4.0->ru-core-news-sm==3.4.0) (3.0.9)\n",
            "Requirement already satisfied: smart-open<6.0.0,>=5.2.1 in /usr/local/lib/python3.7/dist-packages (from pathy>=0.3.5->spacy<3.5.0,>=3.4.0->ru-core-news-sm==3.4.0) (5.2.1)\n",
            "Requirement already satisfied: chardet<4,>=3.0.2 in /usr/local/lib/python3.7/dist-packages (from requests<3.0.0,>=2.13.0->spacy<3.5.0,>=3.4.0->ru-core-news-sm==3.4.0) (3.0.4)\n",
            "Requirement already satisfied: certifi>=2017.4.17 in /usr/local/lib/python3.7/dist-packages (from requests<3.0.0,>=2.13.0->spacy<3.5.0,>=3.4.0->ru-core-news-sm==3.4.0) (2022.9.24)\n",
            "Requirement already satisfied: idna<3,>=2.5 in /usr/local/lib/python3.7/dist-packages (from requests<3.0.0,>=2.13.0->spacy<3.5.0,>=3.4.0->ru-core-news-sm==3.4.0) (2.10)\n",
            "Requirement already satisfied: urllib3!=1.25.0,!=1.25.1,<1.26,>=1.21.1 in /usr/local/lib/python3.7/dist-packages (from requests<3.0.0,>=2.13.0->spacy<3.5.0,>=3.4.0->ru-core-news-sm==3.4.0) (1.24.3)\n",
            "Requirement already satisfied: confection<1.0.0,>=0.0.1 in /usr/local/lib/python3.7/dist-packages (from thinc<8.2.0,>=8.1.0->spacy<3.5.0,>=3.4.0->ru-core-news-sm==3.4.0) (0.0.3)\n",
            "Requirement already satisfied: blis<0.8.0,>=0.7.8 in /usr/local/lib/python3.7/dist-packages (from thinc<8.2.0,>=8.1.0->spacy<3.5.0,>=3.4.0->ru-core-news-sm==3.4.0) (0.7.9)\n",
            "Requirement already satisfied: click<9.0.0,>=7.1.1 in /usr/local/lib/python3.7/dist-packages (from typer<0.5.0,>=0.3.0->spacy<3.5.0,>=3.4.0->ru-core-news-sm==3.4.0) (7.1.2)\n",
            "Requirement already satisfied: MarkupSafe>=0.23 in /usr/local/lib/python3.7/dist-packages (from jinja2->spacy<3.5.0,>=3.4.0->ru-core-news-sm==3.4.0) (2.0.1)\n",
            "Installing collected packages: ru-core-news-sm\n",
            "Successfully installed ru-core-news-sm-3.4.0\n",
            "\u001b[38;5;2m✔ Download and installation successful\u001b[0m\n",
            "You can now load the package via spacy.load('ru_core_news_sm')\n"
          ]
        }
      ]
    },
    {
      "cell_type": "code",
      "source": [
        "import spacy\n",
        "from spacy import displacy"
      ],
      "metadata": {
        "id": "Quuk2a65OIFX"
      },
      "execution_count": 63,
      "outputs": []
    },
    {
      "cell_type": "code",
      "source": [
        "nlp = spacy.load('ru_core_news_sm')"
      ],
      "metadata": {
        "id": "uE63K3MpOVeE"
      },
      "execution_count": 67,
      "outputs": []
    },
    {
      "cell_type": "code",
      "source": [
        "ny_bb = document\n",
        "article = nlp(ny_bb)\n",
        "displacy.render(article, jupyter=True, style='ent')"
      ],
      "metadata": {
        "colab": {
          "base_uri": "https://localhost:8080/",
          "height": 0
        },
        "id": "B7tK4yCsOaQa",
        "outputId": "90f8d8d9-6301-477a-9938-e8b309e5d0ff"
      },
      "execution_count": 68,
      "outputs": [
        {
          "output_type": "display_data",
          "data": {
            "text/plain": [
              "<IPython.core.display.HTML object>"
            ],
            "text/html": [
              "<span class=\"tex2jax_ignore\"><div class=\"entities\" style=\"line-height: 2.5; direction: ltr\">Генеральным директором &quot;\n",
              "<mark class=\"entity\" style=\"background: #7aecec; padding: 0.45em 0.6em; margin: 0 0.25em; line-height: 1; border-radius: 0.35em;\">\n",
              "    Мечел-Энерго\n",
              "    <span style=\"font-size: 0.8em; font-weight: bold; line-height: 1; border-radius: 0.35em; vertical-align: middle; margin-left: 0.5rem\">ORG</span>\n",
              "</mark>\n",
              "&quot; назначен \n",
              "<mark class=\"entity\" style=\"background: #ddd; padding: 0.45em 0.6em; margin: 0 0.25em; line-height: 1; border-radius: 0.35em;\">\n",
              "    Ю.Ямпольский\n",
              "    <span style=\"font-size: 0.8em; font-weight: bold; line-height: 1; border-radius: 0.35em; vertical-align: middle; margin-left: 0.5rem\">PER</span>\n",
              "</mark>\n",
              ".\r</br>\r</br>06.03.2012, \n",
              "<mark class=\"entity\" style=\"background: #ff9561; padding: 0.45em 0.6em; margin: 0 0.25em; line-height: 1; border-radius: 0.35em;\">\n",
              "    Москва\n",
              "    <span style=\"font-size: 0.8em; font-weight: bold; line-height: 1; border-radius: 0.35em; vertical-align: middle; margin-left: 0.5rem\">LOC</span>\n",
              "</mark>\n",
              " 19:41:19 Генеральным директором \n",
              "<mark class=\"entity\" style=\"background: #7aecec; padding: 0.45em 0.6em; margin: 0 0.25em; line-height: 1; border-radius: 0.35em;\">\n",
              "    ООО &quot;Мечел-Энерго&quot;\n",
              "    <span style=\"font-size: 0.8em; font-weight: bold; line-height: 1; border-radius: 0.35em; vertical-align: middle; margin-left: 0.5rem\">ORG</span>\n",
              "</mark>\n",
              " (входит в группу &quot;\n",
              "<mark class=\"entity\" style=\"background: #7aecec; padding: 0.45em 0.6em; margin: 0 0.25em; line-height: 1; border-radius: 0.35em;\">\n",
              "    Мечел\n",
              "    <span style=\"font-size: 0.8em; font-weight: bold; line-height: 1; border-radius: 0.35em; vertical-align: middle; margin-left: 0.5rem\">ORG</span>\n",
              "</mark>\n",
              "&quot;) назначен \n",
              "<mark class=\"entity\" style=\"background: #ddd; padding: 0.45em 0.6em; margin: 0 0.25em; line-height: 1; border-radius: 0.35em;\">\n",
              "    Юрий Ямпольский\n",
              "    <span style=\"font-size: 0.8em; font-weight: bold; line-height: 1; border-radius: 0.35em; vertical-align: middle; margin-left: 0.5rem\">PER</span>\n",
              "</mark>\n",
              ", который сменил на этом посту исполняющего обязанности генерального директора \n",
              "<mark class=\"entity\" style=\"background: #ddd; padding: 0.45em 0.6em; margin: 0 0.25em; line-height: 1; border-radius: 0.35em;\">\n",
              "    Анатолия Чернакова\n",
              "    <span style=\"font-size: 0.8em; font-weight: bold; line-height: 1; border-radius: 0.35em; vertical-align: middle; margin-left: 0.5rem\">PER</span>\n",
              "</mark>\n",
              ". Об этом говорится в сообщении компании. Новый глава компании будет управлять генерирующими и энергосбытовыми предприятиями, координировать работу подразделений, обеспечивать их эффективность.\r</br>\r</br>Как отмечается в сообщении, \n",
              "<mark class=\"entity\" style=\"background: #ddd; padding: 0.45em 0.6em; margin: 0 0.25em; line-height: 1; border-radius: 0.35em;\">\n",
              "    Ю.Ямпольский\n",
              "    <span style=\"font-size: 0.8em; font-weight: bold; line-height: 1; border-radius: 0.35em; vertical-align: middle; margin-left: 0.5rem\">PER</span>\n",
              "</mark>\n",
              " имеет многолетний практический опыт в сфере энергетики, с ноября 2010г. и до настоящего времени он занимал должность заместителя генерального директора по экономике и финансам, первого заместителя генерального директора, заместителя генерального директора \n",
              "<mark class=\"entity\" style=\"background: #7aecec; padding: 0.45em 0.6em; margin: 0 0.25em; line-height: 1; border-radius: 0.35em;\">\n",
              "    ОАО &quot;Научно-исследовательский инжиниринговый центр межрегиональных распределительных сетевых компаний&quot;\n",
              "    <span style=\"font-size: 0.8em; font-weight: bold; line-height: 1; border-radius: 0.35em; vertical-align: middle; margin-left: 0.5rem\">ORG</span>\n",
              "</mark>\n",
              ", с 1997г. занимал руководящие должности.\r</br>\r</br>&quot;\n",
              "<mark class=\"entity\" style=\"background: #7aecec; padding: 0.45em 0.6em; margin: 0 0.25em; line-height: 1; border-radius: 0.35em;\">\n",
              "    Мечел\n",
              "    <span style=\"font-size: 0.8em; font-weight: bold; line-height: 1; border-radius: 0.35em; vertical-align: middle; margin-left: 0.5rem\">ORG</span>\n",
              "</mark>\n",
              "&quot; объединяет производителей угля, железорудного концентрата, стали, проката, ферросплавов, продукции высоких переделов, тепловой и электрической энергии. Бизнес &quot;Мечела&quot; состоит из четырех сегментов: горнодобывающего, металлургического, ферросплавного и энергетического. Группа &quot;\n",
              "<mark class=\"entity\" style=\"background: #7aecec; padding: 0.45em 0.6em; margin: 0 0.25em; line-height: 1; border-radius: 0.35em;\">\n",
              "    Мечел\n",
              "    <span style=\"font-size: 0.8em; font-weight: bold; line-height: 1; border-radius: 0.35em; vertical-align: middle; margin-left: 0.5rem\">ORG</span>\n",
              "</mark>\n",
              "&quot; в 2011г. увеличила выпуск концентрата коксующегося угля на 9% - до 12,5 млн т, выпуск стали - на 1% - до 6 млн 118 тыс. т. Основным бенефициаром \n",
              "<mark class=\"entity\" style=\"background: #7aecec; padding: 0.45em 0.6em; margin: 0 0.25em; line-height: 1; border-radius: 0.35em;\">\n",
              "    ОАО &quot;Мечел&quot;\n",
              "    <span style=\"font-size: 0.8em; font-weight: bold; line-height: 1; border-radius: 0.35em; vertical-align: middle; margin-left: 0.5rem\">ORG</span>\n",
              "</mark>\n",
              " является председатель совета директоров группы \n",
              "<mark class=\"entity\" style=\"background: #7aecec; padding: 0.45em 0.6em; margin: 0 0.25em; line-height: 1; border-radius: 0.35em;\">\n",
              "    И.Зюзин\n",
              "    <span style=\"font-size: 0.8em; font-weight: bold; line-height: 1; border-radius: 0.35em; vertical-align: middle; margin-left: 0.5rem\">ORG</span>\n",
              "</mark>\n",
              ", free float (ADR) составляет около 30%. Чистый убыток \n",
              "<mark class=\"entity\" style=\"background: #7aecec; padding: 0.45em 0.6em; margin: 0 0.25em; line-height: 1; border-radius: 0.35em;\">\n",
              "    ОАО &quot;Мечел&quot;\n",
              "    <span style=\"font-size: 0.8em; font-weight: bold; line-height: 1; border-radius: 0.35em; vertical-align: middle; margin-left: 0.5rem\">ORG</span>\n",
              "</mark>\n",
              " по российским стандартам бухгалтерского учета (РСБУ) за 2011г. составил 19,674 млрд руб. против прибыли в 42,929 млрд руб. в 2010г. \n",
              "<mark class=\"entity\" style=\"background: #ff9561; padding: 0.45em 0.6em; margin: 0 0.25em; line-height: 1; border-radius: 0.35em;\">\n",
              "    Выручка\n",
              "    <span style=\"font-size: 0.8em; font-weight: bold; line-height: 1; border-radius: 0.35em; vertical-align: middle; margin-left: 0.5rem\">LOC</span>\n",
              "</mark>\n",
              " компании сократилась в 5,6 раза - до 8,514 млрд руб., валовая прибыль составила 7,703 млрд руб. (сокращение в 5,2 раза).</div></span>"
            ]
          },
          "metadata": {}
        }
      ]
    },
    {
      "cell_type": "code",
      "source": [
        "article"
      ],
      "metadata": {
        "colab": {
          "base_uri": "https://localhost:8080/"
        },
        "id": "HJ3H_HUoZG-w",
        "outputId": "2220c450-5555-4a97-d7a2-94b200a07812"
      },
      "execution_count": 87,
      "outputs": [
        {
          "output_type": "execute_result",
          "data": {
            "text/plain": [
              "Генеральным директором \"Мечел-Энерго\" назначен Ю.Ямпольский.\n",
              "\n",
              "06.03.2012, Москва 19:41:19 Генеральным директором ООО \"Мечел-Энерго\" (входит в группу \"Мечел\") назначен Юрий Ямпольский, который сменил на этом посту исполняющего обязанности генерального директора Анатолия Чернакова. Об этом говорится в сообщении компании. Новый глава компании будет управлять генерирующими и энергосбытовыми предприятиями, координировать работу подразделений, обеспечивать их эффективность.\n",
              "\n",
              "Как отмечается в сообщении, Ю.Ямпольский имеет многолетний практический опыт в сфере энергетики, с ноября 2010г. и до настоящего времени он занимал должность заместителя генерального директора по экономике и финансам, первого заместителя генерального директора, заместителя генерального директора ОАО \"Научно-исследовательский инжиниринговый центр межрегиональных распределительных сетевых компаний\", с 1997г. занимал руководящие должности.\n",
              "\n",
              "\"Мечел\" объединяет производителей угля, железорудного концентрата, стали, проката, ферросплавов, продукции высоких переделов, тепловой и электрической энергии. Бизнес \"Мечела\" состоит из четырех сегментов: горнодобывающего, металлургического, ферросплавного и энергетического. Группа \"Мечел\" в 2011г. увеличила выпуск концентрата коксующегося угля на 9% - до 12,5 млн т, выпуск стали - на 1% - до 6 млн 118 тыс. т. Основным бенефициаром ОАО \"Мечел\" является председатель совета директоров группы И.Зюзин, free float (ADR) составляет около 30%. Чистый убыток ОАО \"Мечел\" по российским стандартам бухгалтерского учета (РСБУ) за 2011г. составил 19,674 млрд руб. против прибыли в 42,929 млрд руб. в 2010г. Выручка компании сократилась в 5,6 раза - до 8,514 млрд руб., валовая прибыль составила 7,703 млрд руб. (сокращение в 5,2 раза)."
            ]
          },
          "metadata": {},
          "execution_count": 87
        }
      ]
    },
    {
      "cell_type": "markdown",
      "source": [
        "####**TF NER**"
      ],
      "metadata": {
        "id": "KBPgis-DSkDC"
      }
    },
    {
      "cell_type": "code",
      "source": [
        "words_docs = []\n",
        "for ix, rec in enumerate(load_ne5(path)):\n",
        "    words = []\n",
        "    for token in tokenize(rec.text):\n",
        "        type_ent = 'OUT'\n",
        "        for ent in rec.spans:\n",
        "            if (token.start >= ent.start) and (token.stop <= ent.stop):\n",
        "                type_ent = ent.type\n",
        "                break\n",
        "        words.append([token.text, type_ent])\n",
        "    words_docs.extend(words)"
      ],
      "metadata": {
        "id": "fjeKY_b8S0FA"
      },
      "execution_count": 72,
      "outputs": []
    },
    {
      "cell_type": "code",
      "source": [
        "df_words = pd.DataFrame(words_docs, columns=['word', 'tag'])"
      ],
      "metadata": {
        "id": "MCWOJOxHS-0s"
      },
      "execution_count": 73,
      "outputs": []
    },
    {
      "cell_type": "code",
      "source": [
        "df_words['tag'].value_counts()"
      ],
      "metadata": {
        "colab": {
          "base_uri": "https://localhost:8080/"
        },
        "id": "euucMGGbS_5J",
        "outputId": "8daadc0e-9ed2-447d-bf2e-73e9eebf6b1a"
      },
      "execution_count": 74,
      "outputs": [
        {
          "output_type": "execute_result",
          "data": {
            "text/plain": [
              "OUT         219214\n",
              "PER          21200\n",
              "ORG          13651\n",
              "LOC           4568\n",
              "GEOPOLIT      4356\n",
              "MEDIA         2482\n",
              "Name: tag, dtype: int64"
            ]
          },
          "metadata": {},
          "execution_count": 74
        }
      ]
    },
    {
      "cell_type": "code",
      "source": [
        "df_words.head(10)"
      ],
      "metadata": {
        "colab": {
          "base_uri": "https://localhost:8080/",
          "height": 363
        },
        "id": "LmEYSeHTTB3a",
        "outputId": "d956ea93-de85-4bc2-aa6f-42d6cacace33"
      },
      "execution_count": 76,
      "outputs": [
        {
          "output_type": "execute_result",
          "data": {
            "text/plain": [
              "           word  tag\n",
              "0   Генеральным  OUT\n",
              "1    директором  OUT\n",
              "2             \"  OUT\n",
              "3  Мечел-Энерго  ORG\n",
              "4             \"  OUT\n",
              "5      назначен  OUT\n",
              "6             Ю  PER\n",
              "7             .  PER\n",
              "8    Ямпольский  PER\n",
              "9             .  OUT"
            ],
            "text/html": [
              "\n",
              "  <div id=\"df-b6e7b199-8f4d-4fe2-a2f5-604a8f888161\">\n",
              "    <div class=\"colab-df-container\">\n",
              "      <div>\n",
              "<style scoped>\n",
              "    .dataframe tbody tr th:only-of-type {\n",
              "        vertical-align: middle;\n",
              "    }\n",
              "\n",
              "    .dataframe tbody tr th {\n",
              "        vertical-align: top;\n",
              "    }\n",
              "\n",
              "    .dataframe thead th {\n",
              "        text-align: right;\n",
              "    }\n",
              "</style>\n",
              "<table border=\"1\" class=\"dataframe\">\n",
              "  <thead>\n",
              "    <tr style=\"text-align: right;\">\n",
              "      <th></th>\n",
              "      <th>word</th>\n",
              "      <th>tag</th>\n",
              "    </tr>\n",
              "  </thead>\n",
              "  <tbody>\n",
              "    <tr>\n",
              "      <th>0</th>\n",
              "      <td>Генеральным</td>\n",
              "      <td>OUT</td>\n",
              "    </tr>\n",
              "    <tr>\n",
              "      <th>1</th>\n",
              "      <td>директором</td>\n",
              "      <td>OUT</td>\n",
              "    </tr>\n",
              "    <tr>\n",
              "      <th>2</th>\n",
              "      <td>\"</td>\n",
              "      <td>OUT</td>\n",
              "    </tr>\n",
              "    <tr>\n",
              "      <th>3</th>\n",
              "      <td>Мечел-Энерго</td>\n",
              "      <td>ORG</td>\n",
              "    </tr>\n",
              "    <tr>\n",
              "      <th>4</th>\n",
              "      <td>\"</td>\n",
              "      <td>OUT</td>\n",
              "    </tr>\n",
              "    <tr>\n",
              "      <th>5</th>\n",
              "      <td>назначен</td>\n",
              "      <td>OUT</td>\n",
              "    </tr>\n",
              "    <tr>\n",
              "      <th>6</th>\n",
              "      <td>Ю</td>\n",
              "      <td>PER</td>\n",
              "    </tr>\n",
              "    <tr>\n",
              "      <th>7</th>\n",
              "      <td>.</td>\n",
              "      <td>PER</td>\n",
              "    </tr>\n",
              "    <tr>\n",
              "      <th>8</th>\n",
              "      <td>Ямпольский</td>\n",
              "      <td>PER</td>\n",
              "    </tr>\n",
              "    <tr>\n",
              "      <th>9</th>\n",
              "      <td>.</td>\n",
              "      <td>OUT</td>\n",
              "    </tr>\n",
              "  </tbody>\n",
              "</table>\n",
              "</div>\n",
              "      <button class=\"colab-df-convert\" onclick=\"convertToInteractive('df-b6e7b199-8f4d-4fe2-a2f5-604a8f888161')\"\n",
              "              title=\"Convert this dataframe to an interactive table.\"\n",
              "              style=\"display:none;\">\n",
              "        \n",
              "  <svg xmlns=\"http://www.w3.org/2000/svg\" height=\"24px\"viewBox=\"0 0 24 24\"\n",
              "       width=\"24px\">\n",
              "    <path d=\"M0 0h24v24H0V0z\" fill=\"none\"/>\n",
              "    <path d=\"M18.56 5.44l.94 2.06.94-2.06 2.06-.94-2.06-.94-.94-2.06-.94 2.06-2.06.94zm-11 1L8.5 8.5l.94-2.06 2.06-.94-2.06-.94L8.5 2.5l-.94 2.06-2.06.94zm10 10l.94 2.06.94-2.06 2.06-.94-2.06-.94-.94-2.06-.94 2.06-2.06.94z\"/><path d=\"M17.41 7.96l-1.37-1.37c-.4-.4-.92-.59-1.43-.59-.52 0-1.04.2-1.43.59L10.3 9.45l-7.72 7.72c-.78.78-.78 2.05 0 2.83L4 21.41c.39.39.9.59 1.41.59.51 0 1.02-.2 1.41-.59l7.78-7.78 2.81-2.81c.8-.78.8-2.07 0-2.86zM5.41 20L4 18.59l7.72-7.72 1.47 1.35L5.41 20z\"/>\n",
              "  </svg>\n",
              "      </button>\n",
              "      \n",
              "  <style>\n",
              "    .colab-df-container {\n",
              "      display:flex;\n",
              "      flex-wrap:wrap;\n",
              "      gap: 12px;\n",
              "    }\n",
              "\n",
              "    .colab-df-convert {\n",
              "      background-color: #E8F0FE;\n",
              "      border: none;\n",
              "      border-radius: 50%;\n",
              "      cursor: pointer;\n",
              "      display: none;\n",
              "      fill: #1967D2;\n",
              "      height: 32px;\n",
              "      padding: 0 0 0 0;\n",
              "      width: 32px;\n",
              "    }\n",
              "\n",
              "    .colab-df-convert:hover {\n",
              "      background-color: #E2EBFA;\n",
              "      box-shadow: 0px 1px 2px rgba(60, 64, 67, 0.3), 0px 1px 3px 1px rgba(60, 64, 67, 0.15);\n",
              "      fill: #174EA6;\n",
              "    }\n",
              "\n",
              "    [theme=dark] .colab-df-convert {\n",
              "      background-color: #3B4455;\n",
              "      fill: #D2E3FC;\n",
              "    }\n",
              "\n",
              "    [theme=dark] .colab-df-convert:hover {\n",
              "      background-color: #434B5C;\n",
              "      box-shadow: 0px 1px 3px 1px rgba(0, 0, 0, 0.15);\n",
              "      filter: drop-shadow(0px 1px 2px rgba(0, 0, 0, 0.3));\n",
              "      fill: #FFFFFF;\n",
              "    }\n",
              "  </style>\n",
              "\n",
              "      <script>\n",
              "        const buttonEl =\n",
              "          document.querySelector('#df-b6e7b199-8f4d-4fe2-a2f5-604a8f888161 button.colab-df-convert');\n",
              "        buttonEl.style.display =\n",
              "          google.colab.kernel.accessAllowed ? 'block' : 'none';\n",
              "\n",
              "        async function convertToInteractive(key) {\n",
              "          const element = document.querySelector('#df-b6e7b199-8f4d-4fe2-a2f5-604a8f888161');\n",
              "          const dataTable =\n",
              "            await google.colab.kernel.invokeFunction('convertToInteractive',\n",
              "                                                     [key], {});\n",
              "          if (!dataTable) return;\n",
              "\n",
              "          const docLinkHtml = 'Like what you see? Visit the ' +\n",
              "            '<a target=\"_blank\" href=https://colab.research.google.com/notebooks/data_table.ipynb>data table notebook</a>'\n",
              "            + ' to learn more about interactive tables.';\n",
              "          element.innerHTML = '';\n",
              "          dataTable['output_type'] = 'display_data';\n",
              "          await google.colab.output.renderOutput(dataTable, element);\n",
              "          const docLink = document.createElement('div');\n",
              "          docLink.innerHTML = docLinkHtml;\n",
              "          element.appendChild(docLink);\n",
              "        }\n",
              "      </script>\n",
              "    </div>\n",
              "  </div>\n",
              "  "
            ]
          },
          "metadata": {},
          "execution_count": 76
        }
      ]
    },
    {
      "cell_type": "code",
      "source": [
        "import tensorflow as tf\n",
        "\n",
        "from tensorflow.keras import Sequential\n",
        "from tensorflow.keras.layers import Dense, Embedding, GlobalAveragePooling1D, GlobalMaxPooling1D, Conv1D, GRU, LSTM, Dropout, Input\n",
        "from tensorflow.keras.layers.experimental.preprocessing import TextVectorization"
      ],
      "metadata": {
        "id": "FpE1QfNVTfO_"
      },
      "execution_count": 77,
      "outputs": []
    },
    {
      "cell_type": "code",
      "source": [
        "from sklearn import model_selection, preprocessing, linear_model\n",
        "\n",
        "train_x, valid_x, train_y, valid_y = model_selection.train_test_split(df_words['word'], df_words['tag'])\n",
        "\n",
        "# labelEncode целевую переменную\n",
        "encoder = preprocessing.LabelEncoder()\n",
        "train_y = encoder.fit_transform(train_y)\n",
        "valid_y = encoder.fit_transform(valid_y)"
      ],
      "metadata": {
        "id": "xa9dc-2uTgZw"
      },
      "execution_count": 78,
      "outputs": []
    },
    {
      "cell_type": "code",
      "source": [
        "train_data = tf.data.Dataset.from_tensor_slices((train_x, train_y))\n",
        "valid_data = tf.data.Dataset.from_tensor_slices((valid_x, valid_y))\n",
        "\n",
        "train_data = train_data.batch(16)\n",
        "valid_data = valid_data.batch(16)"
      ],
      "metadata": {
        "id": "WlIgCK2aTrJb"
      },
      "execution_count": 79,
      "outputs": []
    },
    {
      "cell_type": "code",
      "source": [
        "AUTOTUNE = tf.data.AUTOTUNE\n",
        "\n",
        "train_data = train_data.cache().prefetch(buffer_size=AUTOTUNE)\n",
        "valid_data = valid_data.cache().prefetch(buffer_size=AUTOTUNE)"
      ],
      "metadata": {
        "id": "rIhUIynWUArk"
      },
      "execution_count": 80,
      "outputs": []
    },
    {
      "cell_type": "code",
      "source": [
        "def custom_standardization(input_data):\n",
        "    return input_data\n",
        "\n",
        "vocab_size = 30000\n",
        "seq_len = 10\n",
        "\n",
        "vectorize_layer = TextVectorization(\n",
        "    standardize=custom_standardization,\n",
        "    max_tokens=vocab_size,\n",
        "    output_mode='int',\n",
        "    #ngrams=(1, 3),\n",
        "    output_sequence_length=seq_len)\n",
        "\n",
        "# Make a text-only dataset (no labels) and call adapt to build the vocabulary.\n",
        "text_data = train_data.map(lambda x, y: x)\n",
        "vectorize_layer.adapt(text_data)"
      ],
      "metadata": {
        "id": "wv0LlAmBUBcN"
      },
      "execution_count": 81,
      "outputs": []
    },
    {
      "cell_type": "code",
      "source": [
        "len(vectorize_layer.get_vocabulary())"
      ],
      "metadata": {
        "colab": {
          "base_uri": "https://localhost:8080/"
        },
        "id": "hDBWYbdGUHyn",
        "outputId": "c0f24bc8-cfed-4f1d-9145-c99de8d4c558"
      },
      "execution_count": 90,
      "outputs": [
        {
          "output_type": "execute_result",
          "data": {
            "text/plain": [
              "29927"
            ]
          },
          "metadata": {},
          "execution_count": 90
        }
      ]
    },
    {
      "cell_type": "code",
      "source": [
        "embedding_dim = 64\n",
        "\n",
        "class modelNER(tf.keras.Model):\n",
        "    def __init__(self):\n",
        "        super(modelNER, self).__init__()\n",
        "        self.emb = Embedding(vocab_size, embedding_dim)\n",
        "        self.gPool = GlobalMaxPooling1D()\n",
        "        self.fc1 = Dense(300, activation='relu')\n",
        "        self.fc2 = Dense(50, activation='relu')\n",
        "        self.fc3 = Dense(6, activation='softmax')\n",
        "\n",
        "    def call(self, x):\n",
        "        x = vectorize_layer(x)\n",
        "        x = self.emb(x)\n",
        "        pool_x = self.gPool(x)\n",
        "        \n",
        "        fc_x = self.fc1(pool_x)\n",
        "        fc_x = self.fc2(fc_x)\n",
        "        \n",
        "        concat_x = tf.concat([pool_x, fc_x], axis=1)\n",
        "        prob = self.fc3(concat_x)\n",
        "        return prob"
      ],
      "metadata": {
        "id": "hbvDGUZCUKTg"
      },
      "execution_count": 83,
      "outputs": []
    },
    {
      "cell_type": "code",
      "source": [
        "mmodel = modelNER()"
      ],
      "metadata": {
        "id": "AnvhGLweUOHm"
      },
      "execution_count": 84,
      "outputs": []
    },
    {
      "cell_type": "code",
      "source": [
        "mmodel.compile(optimizer='adam',\n",
        "              loss=tf.keras.losses.SparseCategoricalCrossentropy(),\n",
        "              metrics=['accuracy'])"
      ],
      "metadata": {
        "id": "bC0BaT6dUQCU"
      },
      "execution_count": 85,
      "outputs": []
    },
    {
      "cell_type": "code",
      "source": [
        "mmodel.fit(train_data, validation_data=valid_data, epochs=3)"
      ],
      "metadata": {
        "colab": {
          "base_uri": "https://localhost:8080/"
        },
        "id": "VXtAJe_fUSm4",
        "outputId": "16491279-2d18-4d1b-8844-eb3388c5741c"
      },
      "execution_count": 86,
      "outputs": [
        {
          "output_type": "stream",
          "name": "stdout",
          "text": [
            "Epoch 1/3\n",
            "12444/12444 [==============================] - 302s 24ms/step - loss: 0.2960 - accuracy: 0.9137 - val_loss: 0.2138 - val_accuracy: 0.9370\n",
            "Epoch 2/3\n",
            "12444/12444 [==============================] - 297s 24ms/step - loss: 0.1265 - accuracy: 0.9625 - val_loss: 0.2222 - val_accuracy: 0.9400\n",
            "Epoch 3/3\n",
            "12444/12444 [==============================] - 307s 25ms/step - loss: 0.1100 - accuracy: 0.9653 - val_loss: 0.2746 - val_accuracy: 0.9402\n"
          ]
        },
        {
          "output_type": "execute_result",
          "data": {
            "text/plain": [
              "<keras.callbacks.History at 0x7fcc8bb30690>"
            ]
          },
          "metadata": {},
          "execution_count": 86
        }
      ]
    },
    {
      "cell_type": "code",
      "source": [
        "pred = mmodel.predict(valid_data)"
      ],
      "metadata": {
        "colab": {
          "base_uri": "https://localhost:8080/"
        },
        "id": "xxVmM1gFiBND",
        "outputId": "9121aba8-4b74-4a4c-a1de-aba2f32376b3"
      },
      "execution_count": 93,
      "outputs": [
        {
          "output_type": "stream",
          "name": "stdout",
          "text": [
            "4148/4148 [==============================] - 7s 2ms/step\n"
          ]
        }
      ]
    },
    {
      "cell_type": "code",
      "source": [
        "pred_y = np.array([np.argmax(x) for x in pred])"
      ],
      "metadata": {
        "id": "dA2a8uUoppIx"
      },
      "execution_count": 120,
      "outputs": []
    },
    {
      "cell_type": "code",
      "source": [
        "report = classification_report(valid_y, np.array(pred_y))\n",
        "print(report)"
      ],
      "metadata": {
        "colab": {
          "base_uri": "https://localhost:8080/"
        },
        "id": "NnRr14xho5El",
        "outputId": "b511e21f-f1ee-4f54-91b7-8379430dd2b8"
      },
      "execution_count": 121,
      "outputs": [
        {
          "output_type": "stream",
          "name": "stdout",
          "text": [
            "              precision    recall  f1-score   support\n",
            "\n",
            "           0       0.89      0.89      0.89      1086\n",
            "           1       0.86      0.79      0.83      1189\n",
            "           2       0.92      0.77      0.84       615\n",
            "           3       0.88      0.55      0.68      3407\n",
            "           4       0.94      0.99      0.97     54793\n",
            "           5       0.99      0.69      0.82      5278\n",
            "\n",
            "    accuracy                           0.94     66368\n",
            "   macro avg       0.91      0.78      0.84     66368\n",
            "weighted avg       0.94      0.94      0.94     66368\n",
            "\n"
          ]
        }
      ]
    },
    {
      "cell_type": "code",
      "source": [
        "vectorize_layer = TextVectorization(\n",
        "    standardize=custom_standardization,\n",
        "    max_tokens=vocab_size,\n",
        "    output_mode='int',\n",
        "    ngrams=(1, 3),\n",
        "    output_sequence_length=seq_len)\n",
        "\n",
        "# Make a text-only dataset (no labels) and call adapt to build the vocabulary.\n",
        "text_data = train_data.map(lambda x, y: x)\n",
        "vectorize_layer.adapt(text_data)"
      ],
      "metadata": {
        "id": "y-HUm72LqWvt"
      },
      "execution_count": 122,
      "outputs": []
    },
    {
      "cell_type": "code",
      "source": [
        "mmodel = modelNER()"
      ],
      "metadata": {
        "id": "zFkYf74dqhOX"
      },
      "execution_count": 123,
      "outputs": []
    },
    {
      "cell_type": "code",
      "source": [
        "mmodel.compile(optimizer='adam',\n",
        "              loss=tf.keras.losses.SparseCategoricalCrossentropy(),\n",
        "              metrics=['accuracy'])"
      ],
      "metadata": {
        "id": "v1reoQYkqj3U"
      },
      "execution_count": 124,
      "outputs": []
    },
    {
      "cell_type": "code",
      "source": [
        "mmodel.fit(train_data, validation_data=valid_data, epochs=3)"
      ],
      "metadata": {
        "colab": {
          "base_uri": "https://localhost:8080/"
        },
        "id": "sdeLKJibqnef",
        "outputId": "5d9c4f1f-ee51-448f-e240-5636b98796b6"
      },
      "execution_count": 125,
      "outputs": [
        {
          "output_type": "stream",
          "name": "stdout",
          "text": [
            "Epoch 1/3\n",
            "12444/12444 [==============================] - 306s 24ms/step - loss: 0.2929 - accuracy: 0.9146 - val_loss: 0.2121 - val_accuracy: 0.9367\n",
            "Epoch 2/3\n",
            "12444/12444 [==============================] - 301s 24ms/step - loss: 0.1252 - accuracy: 0.9629 - val_loss: 0.2299 - val_accuracy: 0.9397\n",
            "Epoch 3/3\n",
            "12444/12444 [==============================] - 298s 24ms/step - loss: 0.1096 - accuracy: 0.9654 - val_loss: 0.2570 - val_accuracy: 0.9398\n"
          ]
        },
        {
          "output_type": "execute_result",
          "data": {
            "text/plain": [
              "<keras.callbacks.History at 0x7fcc89054dd0>"
            ]
          },
          "metadata": {},
          "execution_count": 125
        }
      ]
    },
    {
      "cell_type": "code",
      "source": [
        "pred = mmodel.predict(valid_data)\n",
        "pred_y = np.array([np.argmax(x) for x in pred])\n",
        "report = classification_report(valid_y, np.array(pred_y))\n",
        "print(report)"
      ],
      "metadata": {
        "colab": {
          "base_uri": "https://localhost:8080/"
        },
        "id": "--uuhNOMqr8-",
        "outputId": "691af1ba-0152-4a6b-bc02-4aaa02c47b8a"
      },
      "execution_count": 126,
      "outputs": [
        {
          "output_type": "stream",
          "name": "stdout",
          "text": [
            "4148/4148 [==============================] - 7s 2ms/step\n",
            "              precision    recall  f1-score   support\n",
            "\n",
            "           0       0.88      0.88      0.88      1086\n",
            "           1       0.86      0.79      0.82      1189\n",
            "           2       0.91      0.77      0.83       615\n",
            "           3       0.88      0.55      0.68      3407\n",
            "           4       0.94      0.99      0.97     54793\n",
            "           5       0.99      0.69      0.81      5278\n",
            "\n",
            "    accuracy                           0.94     66368\n",
            "   macro avg       0.91      0.78      0.83     66368\n",
            "weighted avg       0.94      0.94      0.93     66368\n",
            "\n"
          ]
        }
      ]
    }
  ]
}