{
  "cells": [
    {
      "cell_type": "markdown",
      "metadata": {
        "id": "J0Qjg6vuaHNt"
      },
      "source": [
        "**Тема “Перевод с механизмом внимания”**\n",
        "\n",
        "Разобраться с моделькой перевода (с механизмом внимания) как она устроена, запустить для перевода с русского на английский (при желании можно взять другие пары языков)\n"
      ]
    },
    {
      "cell_type": "code",
      "execution_count": 1,
      "metadata": {
        "id": "tnxXKDjq3jEL"
      },
      "outputs": [],
      "source": [
        "import tensorflow as tf\n",
        "\n",
        "import matplotlib.pyplot as plt\n",
        "import matplotlib.ticker as ticker\n",
        "from sklearn.model_selection import train_test_split\n",
        "\n",
        "import unicodedata\n",
        "import re\n",
        "import numpy as np\n",
        "import os\n",
        "import io\n",
        "import time"
      ]
    },
    {
      "cell_type": "code",
      "execution_count": 2,
      "metadata": {
        "colab": {
          "base_uri": "https://localhost:8080/"
        },
        "id": "CNvjhDyAKk3U",
        "outputId": "5a06ef3a-3a62-4536-edf2-c081e27f4033"
      },
      "outputs": [
        {
          "output_type": "stream",
          "name": "stdout",
          "text": [
            "--2022-11-29 12:05:51--  http://www.manythings.org/anki/rus-eng.zip\n",
            "Resolving www.manythings.org (www.manythings.org)... 173.254.30.110\n",
            "Connecting to www.manythings.org (www.manythings.org)|173.254.30.110|:80... connected.\n",
            "HTTP request sent, awaiting response... 200 OK\n",
            "Length: 15011848 (14M) [application/zip]\n",
            "Saving to: ‘rus-eng.zip’\n",
            "\n",
            "rus-eng.zip         100%[===================>]  14.32M  9.43MB/s    in 1.5s    \n",
            "\n",
            "2022-11-29 12:05:53 (9.43 MB/s) - ‘rus-eng.zip’ saved [15011848/15011848]\n",
            "\n"
          ]
        }
      ],
      "source": [
        "!wget http://www.manythings.org/anki/rus-eng.zip"
      ]
    },
    {
      "cell_type": "code",
      "execution_count": 3,
      "metadata": {
        "colab": {
          "base_uri": "https://localhost:8080/"
        },
        "id": "83bg17Lr-7XK",
        "outputId": "34c06ec5-e4d4-4750-f3d3-5fc77e4a95fc"
      },
      "outputs": [
        {
          "output_type": "stream",
          "name": "stdout",
          "text": [
            "Archive:  rus-eng.zip\n",
            "  inflating: rus-eng/rus.txt         \n",
            "  inflating: rus-eng/_about.txt      \n"
          ]
        }
      ],
      "source": [
        "!mkdir rus-eng\n",
        "!unzip rus-eng.zip -d rus-eng/"
      ]
    },
    {
      "cell_type": "code",
      "execution_count": 4,
      "metadata": {
        "colab": {
          "base_uri": "https://localhost:8080/"
        },
        "id": "7o5L92efMMhf",
        "outputId": "0b402a10-7799-43c1-f639-68078543445c"
      },
      "outputs": [
        {
          "output_type": "stream",
          "name": "stdout",
          "text": [
            "total 72M\n",
            "drwxr-xr-x 2 root root 4.0K Nov 29 12:05 .\n",
            "drwxr-xr-x 1 root root 4.0K Nov 29 12:05 ..\n",
            "-rw-r--r-- 1 root root 1.5K Sep  6 03:10 _about.txt\n",
            "-rw-r--r-- 1 root root  72M Sep  6 03:10 rus.txt\n"
          ]
        }
      ],
      "source": [
        "!ls /content/rus-eng/ -lah"
      ]
    },
    {
      "cell_type": "code",
      "execution_count": 5,
      "metadata": {
        "id": "kRVATYOgJs1b"
      },
      "outputs": [],
      "source": [
        "path_to_file = \"/content/rus-eng/rus.txt\""
      ]
    },
    {
      "cell_type": "code",
      "execution_count": 6,
      "metadata": {
        "id": "rd0jw-eC3jEh"
      },
      "outputs": [],
      "source": [
        "def preprocess_sentence(w):\n",
        "  w = w.lower().strip()\n",
        "  w = re.sub(r\"([?.!,])\", r\" \\1 \", w)\n",
        "  w = re.sub(r'[\" \"]+', \" \", w)\n",
        "  w = re.sub(r\"[^a-zA-Zа-яА-Я?.!,']+\", \" \", w)\n",
        "  w = w.strip()\n",
        "  w = '<start> ' + w + ' <end>'\n",
        "  return w"
      ]
    },
    {
      "cell_type": "code",
      "execution_count": 7,
      "metadata": {
        "colab": {
          "base_uri": "https://localhost:8080/",
          "height": 36
        },
        "id": "yV9lZXQXNbnH",
        "outputId": "ea7a5fcd-e7c1-47a8-eef1-b49303b6dc6d"
      },
      "outputs": [
        {
          "output_type": "execute_result",
          "data": {
            "text/plain": [
              "\"<start> i can't go . <end>\""
            ],
            "application/vnd.google.colaboratory.intrinsic+json": {
              "type": "string"
            }
          },
          "metadata": {},
          "execution_count": 7
        }
      ],
      "source": [
        "preprocess_sentence(\"I can't go.\")"
      ]
    },
    {
      "cell_type": "code",
      "execution_count": 8,
      "metadata": {
        "id": "OHn4Dct23jEm"
      },
      "outputs": [],
      "source": [
        "def create_dataset(path, num_examples):\n",
        "  lines = io.open(path, encoding='UTF-8').read().strip().split('\\n')\n",
        "\n",
        "  word_pairs = [[preprocess_sentence(w) for w in l.split('\\t')[:2]]  for l in lines[:num_examples]]\n",
        "\n",
        "  return zip(*word_pairs)"
      ]
    },
    {
      "cell_type": "code",
      "execution_count": 9,
      "metadata": {
        "colab": {
          "base_uri": "https://localhost:8080/"
        },
        "id": "cTbSbBz55QtF",
        "outputId": "468a2a94-1faf-4304-84f0-18de9dfb38ce"
      },
      "outputs": [
        {
          "output_type": "stream",
          "name": "stdout",
          "text": [
            "<start> doubtless there exists in this world precisely the right woman for any given man to marry and vice versa but when you consider that a human being has the opportunity of being acquainted with only a few hundred people , and out of the few hundred that there are but a dozen or less whom he knows intimately , and out of the dozen , one or two friends at most , it will easily be seen , when we remember the number of millions who inhabit this world , that probably , since the earth was created , the right man has never yet met the right woman . <end>\n",
            "<start> несомненно , для каждого мужчины в этом мире где то есть подходящая женщина , которая может стать ему женой , обратное верно и для женщин . но если учесть , что у человека может быть максимум несколько сотен знакомых , из которых лишь дюжина , а то и меньше , тех , кого он знает близко , а из этой дюжины у него один или от силы два друга , то можно легко увидеть , что с уч том миллионов живущих на земле людей , ни один подходящий мужчина , возможно , ещ не встретил подходящую женщину . <end>\n"
          ]
        }
      ],
      "source": [
        "en, ru = create_dataset(path_to_file, None)\n",
        "print(en[-1])\n",
        "print(ru[-1])"
      ]
    },
    {
      "cell_type": "code",
      "execution_count": 10,
      "metadata": {
        "id": "bIOn8RCNDJXG"
      },
      "outputs": [],
      "source": [
        "def tokenize(lang):\n",
        "  lang_tokenizer = tf.keras.preprocessing.text.Tokenizer(\n",
        "      filters='')\n",
        "  lang_tokenizer.fit_on_texts(lang)\n",
        "\n",
        "  tensor = lang_tokenizer.texts_to_sequences(lang)\n",
        "\n",
        "  tensor = tf.keras.preprocessing.sequence.pad_sequences(tensor,\n",
        "                                                         padding='post')\n",
        "\n",
        "  return tensor, lang_tokenizer"
      ]
    },
    {
      "cell_type": "code",
      "execution_count": 11,
      "metadata": {
        "id": "eAY9k49G3jE_"
      },
      "outputs": [],
      "source": [
        "def load_dataset(path, num_examples=None):\n",
        "  targ_lang, inp_lang = create_dataset(path, num_examples)\n",
        "\n",
        "  input_tensor, inp_lang_tokenizer = tokenize(inp_lang)\n",
        "  target_tensor, targ_lang_tokenizer = tokenize(targ_lang)\n",
        "\n",
        "  return input_tensor, target_tensor, inp_lang_tokenizer, targ_lang_tokenizer"
      ]
    },
    {
      "cell_type": "code",
      "execution_count": 12,
      "metadata": {
        "colab": {
          "base_uri": "https://localhost:8080/"
        },
        "id": "C8j9g9AnIeZV",
        "outputId": "bd52a53d-24c5-4ad1-f215-7f5d3101a7f1"
      },
      "outputs": [
        {
          "output_type": "execute_result",
          "data": {
            "text/plain": [
              "(451436, 451436)"
            ]
          },
          "metadata": {},
          "execution_count": 12
        }
      ],
      "source": [
        "len(en), len(ru)"
      ]
    },
    {
      "cell_type": "code",
      "execution_count": 13,
      "metadata": {
        "id": "cnxC7q-j3jFD"
      },
      "outputs": [],
      "source": [
        "num_examples = 100000\n",
        "input_tensor, target_tensor, inp_lang, targ_lang = load_dataset(path_to_file, num_examples)\n",
        "\n",
        "max_length_targ, max_length_inp = target_tensor.shape[1], input_tensor.shape[1]"
      ]
    },
    {
      "cell_type": "code",
      "execution_count": 14,
      "metadata": {
        "colab": {
          "base_uri": "https://localhost:8080/"
        },
        "id": "4QILQkOs3jFG",
        "outputId": "2d1e30b9-a37f-4126-b403-f20daa21f0ff"
      },
      "outputs": [
        {
          "output_type": "stream",
          "name": "stdout",
          "text": [
            "80000 80000 20000 20000\n"
          ]
        }
      ],
      "source": [
        "input_tensor_train, input_tensor_val, target_tensor_train, target_tensor_val = train_test_split(input_tensor, target_tensor, test_size=0.2)\n",
        "\n",
        "print(len(input_tensor_train), len(target_tensor_train), len(input_tensor_val), len(target_tensor_val))"
      ]
    },
    {
      "cell_type": "code",
      "execution_count": 15,
      "metadata": {
        "id": "lJPmLZGMeD5q"
      },
      "outputs": [],
      "source": [
        "def convert(lang, tensor):\n",
        "  for t in tensor:\n",
        "    if t!=0:\n",
        "      print (\"%d ----> %s\" % (t, lang.index_word[t]))"
      ]
    },
    {
      "cell_type": "code",
      "execution_count": 16,
      "metadata": {
        "colab": {
          "base_uri": "https://localhost:8080/"
        },
        "id": "VXukARTDd7MT",
        "outputId": "13ee8e16-efb2-41e6-a2af-777c7028602f"
      },
      "outputs": [
        {
          "output_type": "stream",
          "name": "stdout",
          "text": [
            "Input Language; index to word mapping\n",
            "1 ----> <start>\n",
            "4 ----> я\n",
            "87 ----> сказал\n",
            "9 ----> ,\n",
            "908 ----> уходите\n",
            "3 ----> .\n",
            "2 ----> <end>\n",
            "\n",
            "Target Language; index to word mapping\n",
            "1 ----> <start>\n",
            "4 ----> i\n",
            "148 ----> said\n",
            "27 ----> go\n",
            "168 ----> away\n",
            "3 ----> .\n",
            "2 ----> <end>\n"
          ]
        }
      ],
      "source": [
        "print (\"Input Language; index to word mapping\")\n",
        "convert(inp_lang, input_tensor_train[0])\n",
        "print ()\n",
        "print (\"Target Language; index to word mapping\")\n",
        "convert(targ_lang, target_tensor_train[0])"
      ]
    },
    {
      "cell_type": "code",
      "execution_count": 17,
      "metadata": {
        "id": "TqHsArVZ3jFS"
      },
      "outputs": [],
      "source": [
        "BUFFER_SIZE = len(input_tensor_train)\n",
        "BATCH_SIZE = 64\n",
        "steps_per_epoch = len(input_tensor_train)//BATCH_SIZE\n",
        "embedding_dim = 256\n",
        "units = 1024\n",
        "vocab_inp_size = len(inp_lang.word_index)+1\n",
        "vocab_tar_size = len(targ_lang.word_index)+1\n",
        "\n",
        "dataset = tf.data.Dataset.from_tensor_slices((input_tensor_train, target_tensor_train)).shuffle(BUFFER_SIZE)\n",
        "dataset = dataset.batch(BATCH_SIZE, drop_remainder=True)"
      ]
    },
    {
      "cell_type": "code",
      "execution_count": 18,
      "metadata": {
        "colab": {
          "base_uri": "https://localhost:8080/"
        },
        "id": "qc6-NK1GtWQt",
        "outputId": "d4e9d1fa-4a63-4aec-e166-077596d173f7"
      },
      "outputs": [
        {
          "output_type": "execute_result",
          "data": {
            "text/plain": [
              "(TensorShape([64, 15]), TensorShape([64, 11]))"
            ]
          },
          "metadata": {},
          "execution_count": 18
        }
      ],
      "source": [
        "example_input_batch, example_target_batch = next(iter(dataset))\n",
        "example_input_batch.shape, example_target_batch.shape"
      ]
    },
    {
      "cell_type": "code",
      "execution_count": 19,
      "metadata": {
        "id": "nZ2rI24i3jFg"
      },
      "outputs": [],
      "source": [
        "class Encoder(tf.keras.Model):\n",
        "  def __init__(self, vocab_size, embedding_dim, enc_units, batch_sz):\n",
        "    super(Encoder, self).__init__()\n",
        "    self.batch_sz = batch_sz\n",
        "    self.enc_units = enc_units\n",
        "    self.embedding = tf.keras.layers.Embedding(vocab_size, embedding_dim)\n",
        "    self.gru = tf.keras.layers.GRU(self.enc_units,\n",
        "                                   return_sequences=True,\n",
        "                                   return_state=True,\n",
        "                                   recurrent_initializer='glorot_uniform')\n",
        "\n",
        "  def call(self, x, hidden):\n",
        "    x = self.embedding(x)\n",
        "    output, state = self.gru(x, initial_state = hidden)\n",
        "    return output, state\n",
        "\n",
        "  def initialize_hidden_state(self):\n",
        "    return tf.zeros((self.batch_sz, self.enc_units))"
      ]
    },
    {
      "cell_type": "code",
      "execution_count": 20,
      "metadata": {
        "colab": {
          "base_uri": "https://localhost:8080/"
        },
        "id": "60gSVh05Jl6l",
        "outputId": "7aca0d39-0f1c-4e68-803a-25fb5c80a75d"
      },
      "outputs": [
        {
          "output_type": "stream",
          "name": "stdout",
          "text": [
            "Encoder output shape: (batch size, sequence length, units) (64, 15, 1024)\n",
            "Encoder Hidden state shape: (batch size, units) (64, 1024)\n"
          ]
        }
      ],
      "source": [
        "encoder = Encoder(vocab_inp_size, embedding_dim, units, BATCH_SIZE)\n",
        "\n",
        "sample_hidden = encoder.initialize_hidden_state()\n",
        "sample_output, sample_hidden = encoder(example_input_batch, sample_hidden)\n",
        "print ('Encoder output shape: (batch size, sequence length, units) {}'.format(sample_output.shape))\n",
        "print ('Encoder Hidden state shape: (batch size, units) {}'.format(sample_hidden.shape))"
      ]
    },
    {
      "cell_type": "code",
      "execution_count": 21,
      "metadata": {
        "id": "YTyhL28Niqk1"
      },
      "outputs": [],
      "source": [
        "class BahdanauAttention(tf.keras.layers.Layer):\n",
        "  def __init__(self, units):\n",
        "    super(BahdanauAttention, self).__init__()\n",
        "    self.W1 = tf.keras.layers.Dense(units)\n",
        "    self.W2 = tf.keras.layers.Dense(units)\n",
        "    self.V = tf.keras.layers.Dense(1)\n",
        "\n",
        "  def call(self, query, values):\n",
        "    query_with_time_axis = tf.expand_dims(query, 1)\n",
        "    score = self.V(tf.nn.tanh(\n",
        "        self.W1(query_with_time_axis) + self.W2(values)))\n",
        "\n",
        "    attention_weights = tf.nn.softmax(score, axis=1)\n",
        "\n",
        "    context_vector = attention_weights * values\n",
        "    context_vector = tf.reduce_sum(context_vector, axis=1)\n",
        "\n",
        "    return context_vector, attention_weights"
      ]
    },
    {
      "cell_type": "code",
      "execution_count": 22,
      "metadata": {
        "colab": {
          "base_uri": "https://localhost:8080/"
        },
        "id": "XUqssWcci1XJ",
        "outputId": "2ae13f6b-4eaa-4ce0-84ab-acc6edfdbe89"
      },
      "outputs": [
        {
          "output_type": "stream",
          "name": "stdout",
          "text": [
            "Attention result shape: (batch size, units) (64, 1024)\n",
            "Attention weights shape: (batch_size, sequence_length, 1) (64, 15, 1)\n"
          ]
        }
      ],
      "source": [
        "attention_layer = BahdanauAttention(10)\n",
        "attention_result, attention_weights = attention_layer(sample_hidden, sample_output)\n",
        "\n",
        "print(\"Attention result shape: (batch size, units) {}\".format(attention_result.shape))\n",
        "print(\"Attention weights shape: (batch_size, sequence_length, 1) {}\".format(attention_weights.shape))"
      ]
    },
    {
      "cell_type": "code",
      "execution_count": 23,
      "metadata": {
        "id": "yJ_B3mhW3jFk"
      },
      "outputs": [],
      "source": [
        "class Decoder(tf.keras.Model):\n",
        "  def __init__(self, vocab_size, embedding_dim, dec_units, batch_sz):\n",
        "    super(Decoder, self).__init__()\n",
        "    self.batch_sz = batch_sz\n",
        "    self.dec_units = dec_units\n",
        "    self.embedding = tf.keras.layers.Embedding(vocab_size, embedding_dim)\n",
        "    self.gru = tf.keras.layers.GRU(self.dec_units,\n",
        "                                   return_sequences=True,\n",
        "                                   return_state=True,\n",
        "                                   recurrent_initializer='glorot_uniform')\n",
        "    self.fc = tf.keras.layers.Dense(vocab_size)\n",
        "\n",
        "    self.attention = BahdanauAttention(self.dec_units)\n",
        "\n",
        "  def call(self, x, hidden, enc_output):\n",
        "    context_vector, attention_weights = self.attention(hidden, enc_output)\n",
        "    x = self.embedding(x)\n",
        "    x = tf.concat([tf.expand_dims(context_vector, 1), x], axis=-1)\n",
        "    output, state = self.gru(x)\n",
        "    output = tf.reshape(output, (-1, output.shape[2]))\n",
        "    x = self.fc(output)\n",
        "\n",
        "    return x, state, attention_weights"
      ]
    },
    {
      "cell_type": "code",
      "execution_count": 24,
      "metadata": {
        "colab": {
          "base_uri": "https://localhost:8080/"
        },
        "id": "P5UY8wko3jFp",
        "outputId": "93507db2-7f82-4992-df2a-5d03292ad65a"
      },
      "outputs": [
        {
          "output_type": "stream",
          "name": "stdout",
          "text": [
            "Decoder output shape: (batch_size, vocab size) (64, 7335)\n"
          ]
        }
      ],
      "source": [
        "decoder = Decoder(vocab_tar_size, embedding_dim, units, BATCH_SIZE)\n",
        "\n",
        "sample_decoder_output, _, _ = decoder(tf.random.uniform((BATCH_SIZE, 1)),\n",
        "                                      sample_hidden, sample_output)\n",
        "\n",
        "print ('Decoder output shape: (batch_size, vocab size) {}'.format(sample_decoder_output.shape))"
      ]
    },
    {
      "cell_type": "code",
      "execution_count": 25,
      "metadata": {
        "id": "WmTHr5iV3jFr"
      },
      "outputs": [],
      "source": [
        "optimizer = tf.keras.optimizers.Adam()\n",
        "loss_object = tf.keras.losses.SparseCategoricalCrossentropy(\n",
        "    from_logits=True, reduction='none')\n",
        "\n",
        "def loss_function(real, pred):\n",
        "  mask = tf.math.logical_not(tf.math.equal(real, 0))\n",
        "  loss_ = loss_object(real, pred)\n",
        "\n",
        "  mask = tf.cast(mask, dtype=loss_.dtype)\n",
        "  loss_ *= mask\n",
        "\n",
        "  return tf.reduce_mean(loss_)"
      ]
    },
    {
      "cell_type": "code",
      "execution_count": 26,
      "metadata": {
        "id": "Zj8bXQTgNwrF"
      },
      "outputs": [],
      "source": [
        "checkpoint_dir = './training_attention_checkpoints'\n",
        "checkpoint_prefix = os.path.join(checkpoint_dir, \"ckpt\")\n",
        "checkpoint = tf.train.Checkpoint(optimizer=optimizer,\n",
        "                                 encoder=encoder,\n",
        "                                 decoder=decoder)"
      ]
    },
    {
      "cell_type": "code",
      "execution_count": 27,
      "metadata": {
        "id": "sC9ArXSsVfqn"
      },
      "outputs": [],
      "source": [
        "@tf.function\n",
        "def train_step(inp, targ, enc_hidden):\n",
        "  loss = 0\n",
        "\n",
        "  with tf.GradientTape() as tape:\n",
        "    enc_output, enc_hidden = encoder(inp, enc_hidden)\n",
        "\n",
        "    dec_hidden = enc_hidden\n",
        "\n",
        "    dec_input = tf.expand_dims([targ_lang.word_index['<start>']] * BATCH_SIZE, 1)\n",
        "\n",
        "    for t in range(1, targ.shape[1]):\n",
        "      predictions, dec_hidden, _ = decoder(dec_input, dec_hidden, enc_output)\n",
        "\n",
        "      loss += loss_function(targ[:, t], predictions)\n",
        "\n",
        "      dec_input = tf.expand_dims(targ[:, t], 1)\n",
        "\n",
        "  batch_loss = (loss / int(targ.shape[1]))\n",
        "\n",
        "  variables = encoder.trainable_variables + decoder.trainable_variables\n",
        "\n",
        "  gradients = tape.gradient(loss, variables)\n",
        "\n",
        "  optimizer.apply_gradients(zip(gradients, variables))\n",
        "\n",
        "  return batch_loss"
      ]
    },
    {
      "cell_type": "code",
      "execution_count": 28,
      "metadata": {
        "colab": {
          "base_uri": "https://localhost:8080/"
        },
        "id": "ddefjBMa3jF0",
        "outputId": "b658be42-ac16-4a47-8c46-239f333944dc"
      },
      "outputs": [
        {
          "output_type": "stream",
          "name": "stdout",
          "text": [
            "Epoch 1 Batch 0 Loss 4.6148\n",
            "Epoch 1 Batch 100 Loss 2.1127\n",
            "Epoch 1 Batch 200 Loss 1.8875\n",
            "Epoch 1 Batch 300 Loss 1.7123\n",
            "Epoch 1 Batch 400 Loss 1.6433\n",
            "Epoch 1 Batch 500 Loss 1.4719\n",
            "Epoch 1 Batch 600 Loss 1.4174\n",
            "Epoch 1 Batch 700 Loss 1.2852\n",
            "Epoch 1 Batch 800 Loss 1.3653\n",
            "Epoch 1 Batch 900 Loss 1.1980\n",
            "Epoch 1 Batch 1000 Loss 1.0484\n",
            "Epoch 1 Batch 1100 Loss 0.9845\n",
            "Epoch 1 Batch 1200 Loss 0.9002\n",
            "Epoch 1 Loss 1.4613\n",
            "Time taken for 1 epoch 110.89002633094788 sec\n",
            "\n",
            "Epoch 2 Batch 0 Loss 0.8289\n",
            "Epoch 2 Batch 100 Loss 0.9077\n",
            "Epoch 2 Batch 200 Loss 0.8194\n",
            "Epoch 2 Batch 300 Loss 0.8244\n",
            "Epoch 2 Batch 400 Loss 0.7925\n",
            "Epoch 2 Batch 500 Loss 0.6876\n",
            "Epoch 2 Batch 600 Loss 0.7592\n",
            "Epoch 2 Batch 700 Loss 0.5544\n",
            "Epoch 2 Batch 800 Loss 0.5877\n",
            "Epoch 2 Batch 900 Loss 0.4851\n",
            "Epoch 2 Batch 1000 Loss 0.6301\n",
            "Epoch 2 Batch 1100 Loss 0.4154\n",
            "Epoch 2 Batch 1200 Loss 0.5797\n",
            "Epoch 2 Loss 0.6434\n",
            "Time taken for 1 epoch 99.35423469543457 sec\n",
            "\n",
            "Epoch 3 Batch 0 Loss 0.4111\n",
            "Epoch 3 Batch 100 Loss 0.3514\n",
            "Epoch 3 Batch 200 Loss 0.3499\n",
            "Epoch 3 Batch 300 Loss 0.3920\n",
            "Epoch 3 Batch 400 Loss 0.4180\n",
            "Epoch 3 Batch 500 Loss 0.3699\n",
            "Epoch 3 Batch 600 Loss 0.3147\n",
            "Epoch 3 Batch 700 Loss 0.3008\n",
            "Epoch 3 Batch 800 Loss 0.3642\n",
            "Epoch 3 Batch 900 Loss 0.4158\n",
            "Epoch 3 Batch 1000 Loss 0.2610\n",
            "Epoch 3 Batch 1100 Loss 0.3422\n",
            "Epoch 3 Batch 1200 Loss 0.3374\n",
            "Epoch 3 Loss 0.3400\n",
            "Time taken for 1 epoch 98.2322793006897 sec\n",
            "\n",
            "Epoch 4 Batch 0 Loss 0.1766\n",
            "Epoch 4 Batch 100 Loss 0.2314\n",
            "Epoch 4 Batch 200 Loss 0.2011\n",
            "Epoch 4 Batch 300 Loss 0.2251\n",
            "Epoch 4 Batch 400 Loss 0.2741\n",
            "Epoch 4 Batch 500 Loss 0.1893\n",
            "Epoch 4 Batch 600 Loss 0.2059\n",
            "Epoch 4 Batch 700 Loss 0.1938\n",
            "Epoch 4 Batch 800 Loss 0.2100\n",
            "Epoch 4 Batch 900 Loss 0.2081\n",
            "Epoch 4 Batch 1000 Loss 0.2331\n",
            "Epoch 4 Batch 1100 Loss 0.2543\n",
            "Epoch 4 Batch 1200 Loss 0.1999\n",
            "Epoch 4 Loss 0.2116\n",
            "Time taken for 1 epoch 99.28360748291016 sec\n",
            "\n",
            "Epoch 5 Batch 0 Loss 0.1769\n",
            "Epoch 5 Batch 100 Loss 0.1433\n",
            "Epoch 5 Batch 200 Loss 0.1071\n",
            "Epoch 5 Batch 300 Loss 0.1454\n",
            "Epoch 5 Batch 400 Loss 0.1505\n",
            "Epoch 5 Batch 500 Loss 0.1153\n",
            "Epoch 5 Batch 600 Loss 0.1479\n",
            "Epoch 5 Batch 700 Loss 0.1709\n",
            "Epoch 5 Batch 800 Loss 0.1546\n",
            "Epoch 5 Batch 900 Loss 0.1891\n",
            "Epoch 5 Batch 1000 Loss 0.0969\n",
            "Epoch 5 Batch 1100 Loss 0.1460\n",
            "Epoch 5 Batch 1200 Loss 0.1180\n",
            "Epoch 5 Loss 0.1504\n",
            "Time taken for 1 epoch 98.40529775619507 sec\n",
            "\n",
            "Epoch 6 Batch 0 Loss 0.1134\n",
            "Epoch 6 Batch 100 Loss 0.1422\n",
            "Epoch 6 Batch 200 Loss 0.1066\n",
            "Epoch 6 Batch 300 Loss 0.0902\n",
            "Epoch 6 Batch 400 Loss 0.1075\n",
            "Epoch 6 Batch 500 Loss 0.0906\n",
            "Epoch 6 Batch 600 Loss 0.1357\n",
            "Epoch 6 Batch 700 Loss 0.1263\n",
            "Epoch 6 Batch 800 Loss 0.1150\n",
            "Epoch 6 Batch 900 Loss 0.1063\n",
            "Epoch 6 Batch 1000 Loss 0.1831\n",
            "Epoch 6 Batch 1100 Loss 0.1486\n",
            "Epoch 6 Batch 1200 Loss 0.1366\n",
            "Epoch 6 Loss 0.1189\n",
            "Time taken for 1 epoch 99.3948278427124 sec\n",
            "\n",
            "Epoch 7 Batch 0 Loss 0.0929\n",
            "Epoch 7 Batch 100 Loss 0.0982\n",
            "Epoch 7 Batch 200 Loss 0.0955\n",
            "Epoch 7 Batch 300 Loss 0.0888\n",
            "Epoch 7 Batch 400 Loss 0.1040\n",
            "Epoch 7 Batch 500 Loss 0.0903\n",
            "Epoch 7 Batch 600 Loss 0.0905\n",
            "Epoch 7 Batch 700 Loss 0.1104\n",
            "Epoch 7 Batch 800 Loss 0.0811\n",
            "Epoch 7 Batch 900 Loss 0.0890\n",
            "Epoch 7 Batch 1000 Loss 0.1041\n",
            "Epoch 7 Batch 1100 Loss 0.1398\n",
            "Epoch 7 Batch 1200 Loss 0.1217\n",
            "Epoch 7 Loss 0.1007\n",
            "Time taken for 1 epoch 98.43382477760315 sec\n",
            "\n",
            "Epoch 8 Batch 0 Loss 0.0549\n",
            "Epoch 8 Batch 100 Loss 0.0727\n",
            "Epoch 8 Batch 200 Loss 0.0540\n",
            "Epoch 8 Batch 300 Loss 0.0589\n",
            "Epoch 8 Batch 400 Loss 0.0485\n",
            "Epoch 8 Batch 500 Loss 0.0941\n",
            "Epoch 8 Batch 600 Loss 0.0875\n",
            "Epoch 8 Batch 700 Loss 0.1084\n",
            "Epoch 8 Batch 800 Loss 0.0857\n",
            "Epoch 8 Batch 900 Loss 0.0927\n",
            "Epoch 8 Batch 1000 Loss 0.1077\n",
            "Epoch 8 Batch 1100 Loss 0.0773\n",
            "Epoch 8 Batch 1200 Loss 0.1080\n",
            "Epoch 8 Loss 0.0896\n",
            "Time taken for 1 epoch 99.07340431213379 sec\n",
            "\n",
            "Epoch 9 Batch 0 Loss 0.0800\n",
            "Epoch 9 Batch 100 Loss 0.0808\n",
            "Epoch 9 Batch 200 Loss 0.0705\n",
            "Epoch 9 Batch 300 Loss 0.0585\n",
            "Epoch 9 Batch 400 Loss 0.0847\n",
            "Epoch 9 Batch 500 Loss 0.0925\n",
            "Epoch 9 Batch 600 Loss 0.0692\n",
            "Epoch 9 Batch 700 Loss 0.0990\n",
            "Epoch 9 Batch 800 Loss 0.0715\n",
            "Epoch 9 Batch 900 Loss 0.0920\n",
            "Epoch 9 Batch 1000 Loss 0.0863\n",
            "Epoch 9 Batch 1100 Loss 0.1302\n",
            "Epoch 9 Batch 1200 Loss 0.0895\n",
            "Epoch 9 Loss 0.0826\n",
            "Time taken for 1 epoch 98.29510188102722 sec\n",
            "\n",
            "Epoch 10 Batch 0 Loss 0.0685\n",
            "Epoch 10 Batch 100 Loss 0.0778\n",
            "Epoch 10 Batch 200 Loss 0.0656\n",
            "Epoch 10 Batch 300 Loss 0.0627\n",
            "Epoch 10 Batch 400 Loss 0.1351\n",
            "Epoch 10 Batch 500 Loss 0.0580\n",
            "Epoch 10 Batch 600 Loss 0.0717\n",
            "Epoch 10 Batch 700 Loss 0.0765\n",
            "Epoch 10 Batch 800 Loss 0.1009\n",
            "Epoch 10 Batch 900 Loss 0.0658\n",
            "Epoch 10 Batch 1000 Loss 0.0646\n",
            "Epoch 10 Batch 1100 Loss 0.0993\n",
            "Epoch 10 Batch 1200 Loss 0.0838\n",
            "Epoch 10 Loss 0.0768\n",
            "Time taken for 1 epoch 99.3659257888794 sec\n",
            "\n",
            "Epoch 11 Batch 0 Loss 0.0452\n",
            "Epoch 11 Batch 100 Loss 0.0537\n",
            "Epoch 11 Batch 200 Loss 0.0711\n",
            "Epoch 11 Batch 300 Loss 0.0611\n",
            "Epoch 11 Batch 400 Loss 0.0579\n",
            "Epoch 11 Batch 500 Loss 0.0605\n",
            "Epoch 11 Batch 600 Loss 0.0496\n",
            "Epoch 11 Batch 700 Loss 0.0965\n",
            "Epoch 11 Batch 800 Loss 0.0665\n",
            "Epoch 11 Batch 900 Loss 0.0541\n",
            "Epoch 11 Batch 1000 Loss 0.0691\n",
            "Epoch 11 Batch 1100 Loss 0.1040\n",
            "Epoch 11 Batch 1200 Loss 0.0871\n",
            "Epoch 11 Loss 0.0742\n",
            "Time taken for 1 epoch 98.48453402519226 sec\n",
            "\n",
            "Epoch 12 Batch 0 Loss 0.0737\n",
            "Epoch 12 Batch 100 Loss 0.0593\n",
            "Epoch 12 Batch 200 Loss 0.0599\n",
            "Epoch 12 Batch 300 Loss 0.0654\n",
            "Epoch 12 Batch 400 Loss 0.0985\n",
            "Epoch 12 Batch 500 Loss 0.0693\n",
            "Epoch 12 Batch 600 Loss 0.0551\n",
            "Epoch 12 Batch 700 Loss 0.0704\n",
            "Epoch 12 Batch 800 Loss 0.0791\n",
            "Epoch 12 Batch 900 Loss 0.1259\n",
            "Epoch 12 Batch 1000 Loss 0.0719\n",
            "Epoch 12 Batch 1100 Loss 0.0978\n",
            "Epoch 12 Batch 1200 Loss 0.1004\n",
            "Epoch 12 Loss 0.0700\n",
            "Time taken for 1 epoch 99.3637969493866 sec\n",
            "\n",
            "Epoch 13 Batch 0 Loss 0.0518\n",
            "Epoch 13 Batch 100 Loss 0.0470\n",
            "Epoch 13 Batch 200 Loss 0.0570\n",
            "Epoch 13 Batch 300 Loss 0.0359\n",
            "Epoch 13 Batch 400 Loss 0.0504\n",
            "Epoch 13 Batch 500 Loss 0.0546\n",
            "Epoch 13 Batch 600 Loss 0.0627\n",
            "Epoch 13 Batch 700 Loss 0.0525\n",
            "Epoch 13 Batch 800 Loss 0.0375\n",
            "Epoch 13 Batch 900 Loss 0.0860\n",
            "Epoch 13 Batch 1000 Loss 0.0755\n",
            "Epoch 13 Batch 1100 Loss 0.0687\n",
            "Epoch 13 Batch 1200 Loss 0.0479\n",
            "Epoch 13 Loss 0.0667\n",
            "Time taken for 1 epoch 98.40311598777771 sec\n",
            "\n",
            "Epoch 14 Batch 0 Loss 0.0442\n",
            "Epoch 14 Batch 100 Loss 0.0446\n",
            "Epoch 14 Batch 200 Loss 0.0470\n",
            "Epoch 14 Batch 300 Loss 0.0344\n",
            "Epoch 14 Batch 400 Loss 0.0719\n",
            "Epoch 14 Batch 500 Loss 0.0806\n",
            "Epoch 14 Batch 600 Loss 0.0782\n",
            "Epoch 14 Batch 700 Loss 0.0835\n",
            "Epoch 14 Batch 800 Loss 0.0505\n",
            "Epoch 14 Batch 900 Loss 0.0353\n",
            "Epoch 14 Batch 1000 Loss 0.0699\n",
            "Epoch 14 Batch 1100 Loss 0.0674\n",
            "Epoch 14 Batch 1200 Loss 0.0614\n",
            "Epoch 14 Loss 0.0644\n",
            "Time taken for 1 epoch 99.32834053039551 sec\n",
            "\n",
            "Epoch 15 Batch 0 Loss 0.0449\n",
            "Epoch 15 Batch 100 Loss 0.0456\n",
            "Epoch 15 Batch 200 Loss 0.0366\n",
            "Epoch 15 Batch 300 Loss 0.0405\n",
            "Epoch 15 Batch 400 Loss 0.0273\n",
            "Epoch 15 Batch 500 Loss 0.0938\n",
            "Epoch 15 Batch 600 Loss 0.0860\n",
            "Epoch 15 Batch 700 Loss 0.0600\n",
            "Epoch 15 Batch 800 Loss 0.0826\n",
            "Epoch 15 Batch 900 Loss 0.0845\n",
            "Epoch 15 Batch 1000 Loss 0.0635\n",
            "Epoch 15 Batch 1100 Loss 0.0945\n",
            "Epoch 15 Batch 1200 Loss 0.0604\n",
            "Epoch 15 Loss 0.0620\n",
            "Time taken for 1 epoch 98.29324793815613 sec\n",
            "\n",
            "Epoch 16 Batch 0 Loss 0.0540\n",
            "Epoch 16 Batch 100 Loss 0.0465\n",
            "Epoch 16 Batch 200 Loss 0.0534\n",
            "Epoch 16 Batch 300 Loss 0.0651\n",
            "Epoch 16 Batch 400 Loss 0.0257\n",
            "Epoch 16 Batch 500 Loss 0.0720\n",
            "Epoch 16 Batch 600 Loss 0.0593\n",
            "Epoch 16 Batch 700 Loss 0.0871\n",
            "Epoch 16 Batch 800 Loss 0.0644\n",
            "Epoch 16 Batch 900 Loss 0.0643\n",
            "Epoch 16 Batch 1000 Loss 0.0794\n",
            "Epoch 16 Batch 1100 Loss 0.0996\n",
            "Epoch 16 Batch 1200 Loss 0.0918\n",
            "Epoch 16 Loss 0.0612\n",
            "Time taken for 1 epoch 99.1372389793396 sec\n",
            "\n",
            "Epoch 17 Batch 0 Loss 0.0376\n",
            "Epoch 17 Batch 100 Loss 0.0268\n",
            "Epoch 17 Batch 200 Loss 0.0497\n",
            "Epoch 17 Batch 300 Loss 0.0648\n",
            "Epoch 17 Batch 400 Loss 0.0581\n",
            "Epoch 17 Batch 500 Loss 0.0394\n",
            "Epoch 17 Batch 600 Loss 0.0641\n",
            "Epoch 17 Batch 700 Loss 0.0699\n",
            "Epoch 17 Batch 800 Loss 0.0636\n",
            "Epoch 17 Batch 900 Loss 0.0769\n",
            "Epoch 17 Batch 1000 Loss 0.0732\n",
            "Epoch 17 Batch 1100 Loss 0.0444\n",
            "Epoch 17 Batch 1200 Loss 0.1051\n",
            "Epoch 17 Loss 0.0601\n",
            "Time taken for 1 epoch 98.36241579055786 sec\n",
            "\n",
            "Epoch 18 Batch 0 Loss 0.0464\n",
            "Epoch 18 Batch 100 Loss 0.0585\n",
            "Epoch 18 Batch 200 Loss 0.0471\n",
            "Epoch 18 Batch 300 Loss 0.0596\n",
            "Epoch 18 Batch 400 Loss 0.0575\n",
            "Epoch 18 Batch 500 Loss 0.0394\n",
            "Epoch 18 Batch 600 Loss 0.0529\n",
            "Epoch 18 Batch 700 Loss 0.0601\n",
            "Epoch 18 Batch 800 Loss 0.0556\n",
            "Epoch 18 Batch 900 Loss 0.0773\n",
            "Epoch 18 Batch 1000 Loss 0.0537\n",
            "Epoch 18 Batch 1100 Loss 0.0347\n",
            "Epoch 18 Batch 1200 Loss 0.0837\n",
            "Epoch 18 Loss 0.0568\n",
            "Time taken for 1 epoch 99.18017888069153 sec\n",
            "\n",
            "Epoch 19 Batch 0 Loss 0.0522\n",
            "Epoch 19 Batch 100 Loss 0.0447\n",
            "Epoch 19 Batch 200 Loss 0.0639\n",
            "Epoch 19 Batch 300 Loss 0.0307\n",
            "Epoch 19 Batch 400 Loss 0.0444\n",
            "Epoch 19 Batch 500 Loss 0.0565\n",
            "Epoch 19 Batch 600 Loss 0.0354\n",
            "Epoch 19 Batch 700 Loss 0.0471\n",
            "Epoch 19 Batch 800 Loss 0.0523\n",
            "Epoch 19 Batch 900 Loss 0.0520\n",
            "Epoch 19 Batch 1000 Loss 0.0762\n",
            "Epoch 19 Batch 1100 Loss 0.0659\n",
            "Epoch 19 Batch 1200 Loss 0.0512\n",
            "Epoch 19 Loss 0.0550\n",
            "Time taken for 1 epoch 98.27338767051697 sec\n",
            "\n",
            "Epoch 20 Batch 0 Loss 0.0228\n",
            "Epoch 20 Batch 100 Loss 0.0658\n",
            "Epoch 20 Batch 200 Loss 0.0606\n",
            "Epoch 20 Batch 300 Loss 0.0473\n",
            "Epoch 20 Batch 400 Loss 0.0464\n",
            "Epoch 20 Batch 500 Loss 0.0488\n",
            "Epoch 20 Batch 600 Loss 0.0427\n",
            "Epoch 20 Batch 700 Loss 0.0617\n",
            "Epoch 20 Batch 800 Loss 0.0572\n",
            "Epoch 20 Batch 900 Loss 0.0640\n",
            "Epoch 20 Batch 1000 Loss 0.0799\n",
            "Epoch 20 Batch 1100 Loss 0.0909\n",
            "Epoch 20 Batch 1200 Loss 0.0670\n",
            "Epoch 20 Loss 0.0545\n",
            "Time taken for 1 epoch 99.19052481651306 sec\n",
            "\n",
            "Epoch 21 Batch 0 Loss 0.0492\n",
            "Epoch 21 Batch 100 Loss 0.0564\n",
            "Epoch 21 Batch 200 Loss 0.0353\n",
            "Epoch 21 Batch 300 Loss 0.0689\n",
            "Epoch 21 Batch 400 Loss 0.0510\n",
            "Epoch 21 Batch 500 Loss 0.0772\n",
            "Epoch 21 Batch 600 Loss 0.0446\n",
            "Epoch 21 Batch 700 Loss 0.0425\n",
            "Epoch 21 Batch 800 Loss 0.0635\n",
            "Epoch 21 Batch 900 Loss 0.0490\n",
            "Epoch 21 Batch 1000 Loss 0.0798\n",
            "Epoch 21 Batch 1100 Loss 0.0477\n",
            "Epoch 21 Batch 1200 Loss 0.1248\n",
            "Epoch 21 Loss 0.0541\n",
            "Time taken for 1 epoch 98.35591006278992 sec\n",
            "\n",
            "Epoch 22 Batch 0 Loss 0.0275\n",
            "Epoch 22 Batch 100 Loss 0.0378\n",
            "Epoch 22 Batch 200 Loss 0.0537\n",
            "Epoch 22 Batch 300 Loss 0.0467\n",
            "Epoch 22 Batch 400 Loss 0.0719\n",
            "Epoch 22 Batch 500 Loss 0.0484\n",
            "Epoch 22 Batch 600 Loss 0.0460\n",
            "Epoch 22 Batch 700 Loss 0.0417\n",
            "Epoch 22 Batch 800 Loss 0.0686\n",
            "Epoch 22 Batch 900 Loss 0.0581\n",
            "Epoch 22 Batch 1000 Loss 0.0452\n",
            "Epoch 22 Batch 1100 Loss 0.0556\n",
            "Epoch 22 Batch 1200 Loss 0.0363\n",
            "Epoch 22 Loss 0.0523\n",
            "Time taken for 1 epoch 99.19249653816223 sec\n",
            "\n",
            "Epoch 23 Batch 0 Loss 0.0386\n",
            "Epoch 23 Batch 100 Loss 0.0494\n",
            "Epoch 23 Batch 200 Loss 0.0489\n",
            "Epoch 23 Batch 300 Loss 0.0582\n",
            "Epoch 23 Batch 400 Loss 0.0478\n",
            "Epoch 23 Batch 500 Loss 0.0584\n",
            "Epoch 23 Batch 600 Loss 0.0508\n",
            "Epoch 23 Batch 700 Loss 0.0791\n",
            "Epoch 23 Batch 800 Loss 0.0556\n",
            "Epoch 23 Batch 900 Loss 0.0576\n",
            "Epoch 23 Batch 1000 Loss 0.0450\n",
            "Epoch 23 Batch 1100 Loss 0.0469\n",
            "Epoch 23 Batch 1200 Loss 0.0394\n",
            "Epoch 23 Loss 0.0517\n",
            "Time taken for 1 epoch 98.34390950202942 sec\n",
            "\n",
            "Epoch 24 Batch 0 Loss 0.0402\n",
            "Epoch 24 Batch 100 Loss 0.0260\n",
            "Epoch 24 Batch 200 Loss 0.0565\n",
            "Epoch 24 Batch 300 Loss 0.0241\n",
            "Epoch 24 Batch 400 Loss 0.0614\n",
            "Epoch 24 Batch 500 Loss 0.0428\n",
            "Epoch 24 Batch 600 Loss 0.0507\n",
            "Epoch 24 Batch 700 Loss 0.0723\n",
            "Epoch 24 Batch 800 Loss 0.0507\n",
            "Epoch 24 Batch 900 Loss 0.0577\n",
            "Epoch 24 Batch 1000 Loss 0.0353\n",
            "Epoch 24 Batch 1100 Loss 0.0779\n",
            "Epoch 24 Batch 1200 Loss 0.0552\n",
            "Epoch 24 Loss 0.0504\n",
            "Time taken for 1 epoch 99.06300568580627 sec\n",
            "\n",
            "Epoch 25 Batch 0 Loss 0.0453\n",
            "Epoch 25 Batch 100 Loss 0.0229\n",
            "Epoch 25 Batch 200 Loss 0.0816\n",
            "Epoch 25 Batch 300 Loss 0.0415\n",
            "Epoch 25 Batch 400 Loss 0.0449\n",
            "Epoch 25 Batch 500 Loss 0.0381\n",
            "Epoch 25 Batch 600 Loss 0.0548\n",
            "Epoch 25 Batch 700 Loss 0.0634\n",
            "Epoch 25 Batch 800 Loss 0.0267\n",
            "Epoch 25 Batch 900 Loss 0.0367\n",
            "Epoch 25 Batch 1000 Loss 0.0411\n",
            "Epoch 25 Batch 1100 Loss 0.0411\n",
            "Epoch 25 Batch 1200 Loss 0.0722\n",
            "Epoch 25 Loss 0.0495\n",
            "Time taken for 1 epoch 98.25112891197205 sec\n",
            "\n",
            "Epoch 26 Batch 0 Loss 0.0251\n",
            "Epoch 26 Batch 100 Loss 0.0285\n",
            "Epoch 26 Batch 200 Loss 0.0435\n",
            "Epoch 26 Batch 300 Loss 0.0425\n",
            "Epoch 26 Batch 400 Loss 0.0298\n",
            "Epoch 26 Batch 500 Loss 0.0363\n",
            "Epoch 26 Batch 600 Loss 0.0654\n",
            "Epoch 26 Batch 700 Loss 0.0423\n",
            "Epoch 26 Batch 800 Loss 0.0901\n",
            "Epoch 26 Batch 900 Loss 0.0418\n",
            "Epoch 26 Batch 1000 Loss 0.0417\n",
            "Epoch 26 Batch 1100 Loss 0.0461\n",
            "Epoch 26 Batch 1200 Loss 0.0558\n",
            "Epoch 26 Loss 0.0493\n",
            "Time taken for 1 epoch 99.1427013874054 sec\n",
            "\n",
            "Epoch 27 Batch 0 Loss 0.0504\n",
            "Epoch 27 Batch 100 Loss 0.0195\n",
            "Epoch 27 Batch 200 Loss 0.0538\n",
            "Epoch 27 Batch 300 Loss 0.0320\n",
            "Epoch 27 Batch 400 Loss 0.0700\n",
            "Epoch 27 Batch 500 Loss 0.0859\n",
            "Epoch 27 Batch 600 Loss 0.0390\n",
            "Epoch 27 Batch 700 Loss 0.0462\n",
            "Epoch 27 Batch 800 Loss 0.0271\n",
            "Epoch 27 Batch 900 Loss 0.0555\n",
            "Epoch 27 Batch 1000 Loss 0.0638\n",
            "Epoch 27 Batch 1100 Loss 0.0320\n",
            "Epoch 27 Batch 1200 Loss 0.0539\n",
            "Epoch 27 Loss 0.0501\n",
            "Time taken for 1 epoch 98.36642861366272 sec\n",
            "\n",
            "Epoch 28 Batch 0 Loss 0.0481\n",
            "Epoch 28 Batch 100 Loss 0.0383\n",
            "Epoch 28 Batch 200 Loss 0.0738\n",
            "Epoch 28 Batch 300 Loss 0.0371\n",
            "Epoch 28 Batch 400 Loss 0.0321\n",
            "Epoch 28 Batch 500 Loss 0.0475\n",
            "Epoch 28 Batch 600 Loss 0.0664\n",
            "Epoch 28 Batch 700 Loss 0.0566\n",
            "Epoch 28 Batch 800 Loss 0.0281\n",
            "Epoch 28 Batch 900 Loss 0.0553\n",
            "Epoch 28 Batch 1000 Loss 0.0244\n",
            "Epoch 28 Batch 1100 Loss 0.0225\n",
            "Epoch 28 Batch 1200 Loss 0.0465\n",
            "Epoch 28 Loss 0.0467\n",
            "Time taken for 1 epoch 99.24047446250916 sec\n",
            "\n",
            "Epoch 29 Batch 0 Loss 0.0479\n",
            "Epoch 29 Batch 100 Loss 0.0422\n",
            "Epoch 29 Batch 200 Loss 0.0380\n",
            "Epoch 29 Batch 300 Loss 0.0175\n",
            "Epoch 29 Batch 400 Loss 0.0584\n",
            "Epoch 29 Batch 500 Loss 0.0725\n",
            "Epoch 29 Batch 600 Loss 0.0462\n",
            "Epoch 29 Batch 700 Loss 0.0545\n",
            "Epoch 29 Batch 800 Loss 0.0577\n",
            "Epoch 29 Batch 900 Loss 0.0615\n",
            "Epoch 29 Batch 1000 Loss 0.0476\n",
            "Epoch 29 Batch 1100 Loss 0.0600\n",
            "Epoch 29 Batch 1200 Loss 0.0694\n",
            "Epoch 29 Loss 0.0462\n",
            "Time taken for 1 epoch 98.36082625389099 sec\n",
            "\n",
            "Epoch 30 Batch 0 Loss 0.0630\n",
            "Epoch 30 Batch 100 Loss 0.0387\n",
            "Epoch 30 Batch 200 Loss 0.0197\n",
            "Epoch 30 Batch 300 Loss 0.0279\n",
            "Epoch 30 Batch 400 Loss 0.0347\n",
            "Epoch 30 Batch 500 Loss 0.0613\n",
            "Epoch 30 Batch 600 Loss 0.0434\n",
            "Epoch 30 Batch 700 Loss 0.0621\n",
            "Epoch 30 Batch 800 Loss 0.0598\n",
            "Epoch 30 Batch 900 Loss 0.0405\n",
            "Epoch 30 Batch 1000 Loss 0.0488\n",
            "Epoch 30 Batch 1100 Loss 0.0491\n",
            "Epoch 30 Batch 1200 Loss 0.0737\n",
            "Epoch 30 Loss 0.0468\n",
            "Time taken for 1 epoch 98.93504405021667 sec\n",
            "\n",
            "Epoch 31 Batch 0 Loss 0.0539\n",
            "Epoch 31 Batch 100 Loss 0.0291\n",
            "Epoch 31 Batch 200 Loss 0.0442\n",
            "Epoch 31 Batch 300 Loss 0.0323\n",
            "Epoch 31 Batch 400 Loss 0.0448\n",
            "Epoch 31 Batch 500 Loss 0.0407\n",
            "Epoch 31 Batch 600 Loss 0.0667\n",
            "Epoch 31 Batch 700 Loss 0.0694\n",
            "Epoch 31 Batch 800 Loss 0.0350\n",
            "Epoch 31 Batch 900 Loss 0.0561\n",
            "Epoch 31 Batch 1000 Loss 0.0749\n",
            "Epoch 31 Batch 1100 Loss 0.0430\n",
            "Epoch 31 Batch 1200 Loss 0.0257\n",
            "Epoch 31 Loss 0.0459\n",
            "Time taken for 1 epoch 98.35738062858582 sec\n",
            "\n",
            "Epoch 32 Batch 0 Loss 0.0466\n",
            "Epoch 32 Batch 100 Loss 0.0401\n",
            "Epoch 32 Batch 200 Loss 0.0208\n",
            "Epoch 32 Batch 300 Loss 0.0283\n",
            "Epoch 32 Batch 400 Loss 0.0437\n",
            "Epoch 32 Batch 500 Loss 0.0408\n",
            "Epoch 32 Batch 600 Loss 0.0388\n",
            "Epoch 32 Batch 700 Loss 0.0343\n",
            "Epoch 32 Batch 800 Loss 0.0529\n",
            "Epoch 32 Batch 900 Loss 0.0390\n",
            "Epoch 32 Batch 1000 Loss 0.0466\n",
            "Epoch 32 Batch 1100 Loss 0.0415\n",
            "Epoch 32 Batch 1200 Loss 0.0445\n",
            "Epoch 32 Loss 0.0454\n",
            "Time taken for 1 epoch 99.23749089241028 sec\n",
            "\n",
            "Epoch 33 Batch 0 Loss 0.0330\n",
            "Epoch 33 Batch 100 Loss 0.0431\n",
            "Epoch 33 Batch 200 Loss 0.0167\n",
            "Epoch 33 Batch 300 Loss 0.0305\n",
            "Epoch 33 Batch 400 Loss 0.0528\n",
            "Epoch 33 Batch 500 Loss 0.0691\n",
            "Epoch 33 Batch 600 Loss 0.0550\n",
            "Epoch 33 Batch 700 Loss 0.0531\n",
            "Epoch 33 Batch 800 Loss 0.0425\n",
            "Epoch 33 Batch 900 Loss 0.0408\n",
            "Epoch 33 Batch 1000 Loss 0.0404\n",
            "Epoch 33 Batch 1100 Loss 0.0520\n",
            "Epoch 33 Batch 1200 Loss 0.0345\n",
            "Epoch 33 Loss 0.0456\n",
            "Time taken for 1 epoch 98.29556012153625 sec\n",
            "\n",
            "Epoch 34 Batch 0 Loss 0.0292\n",
            "Epoch 34 Batch 100 Loss 0.0263\n",
            "Epoch 34 Batch 200 Loss 0.0323\n",
            "Epoch 34 Batch 300 Loss 0.0646\n",
            "Epoch 34 Batch 400 Loss 0.0814\n",
            "Epoch 34 Batch 500 Loss 0.0512\n",
            "Epoch 34 Batch 600 Loss 0.0578\n",
            "Epoch 34 Batch 700 Loss 0.0322\n",
            "Epoch 34 Batch 800 Loss 0.0455\n",
            "Epoch 34 Batch 900 Loss 0.0733\n",
            "Epoch 34 Batch 1000 Loss 0.0468\n",
            "Epoch 34 Batch 1100 Loss 0.0451\n",
            "Epoch 34 Batch 1200 Loss 0.0568\n",
            "Epoch 34 Loss 0.0443\n",
            "Time taken for 1 epoch 99.1482789516449 sec\n",
            "\n",
            "Epoch 35 Batch 0 Loss 0.0232\n",
            "Epoch 35 Batch 100 Loss 0.0576\n",
            "Epoch 35 Batch 200 Loss 0.0412\n",
            "Epoch 35 Batch 300 Loss 0.0448\n",
            "Epoch 35 Batch 400 Loss 0.0269\n",
            "Epoch 35 Batch 500 Loss 0.0352\n",
            "Epoch 35 Batch 600 Loss 0.0668\n",
            "Epoch 35 Batch 700 Loss 0.0434\n",
            "Epoch 35 Batch 800 Loss 0.0553\n",
            "Epoch 35 Batch 900 Loss 0.0419\n",
            "Epoch 35 Batch 1000 Loss 0.0903\n",
            "Epoch 35 Batch 1100 Loss 0.0412\n",
            "Epoch 35 Batch 1200 Loss 0.0464\n",
            "Epoch 35 Loss 0.0436\n",
            "Time taken for 1 epoch 98.29166984558105 sec\n",
            "\n",
            "Epoch 36 Batch 0 Loss 0.0349\n",
            "Epoch 36 Batch 100 Loss 0.0308\n",
            "Epoch 36 Batch 200 Loss 0.0211\n",
            "Epoch 36 Batch 300 Loss 0.0309\n",
            "Epoch 36 Batch 400 Loss 0.0366\n",
            "Epoch 36 Batch 500 Loss 0.0285\n",
            "Epoch 36 Batch 600 Loss 0.0568\n",
            "Epoch 36 Batch 700 Loss 0.0421\n",
            "Epoch 36 Batch 800 Loss 0.0454\n",
            "Epoch 36 Batch 900 Loss 0.0469\n",
            "Epoch 36 Batch 1000 Loss 0.0606\n",
            "Epoch 36 Batch 1100 Loss 0.0443\n",
            "Epoch 36 Batch 1200 Loss 0.0535\n",
            "Epoch 36 Loss 0.0435\n",
            "Time taken for 1 epoch 99.1878924369812 sec\n",
            "\n",
            "Epoch 37 Batch 0 Loss 0.0281\n",
            "Epoch 37 Batch 100 Loss 0.0309\n",
            "Epoch 37 Batch 200 Loss 0.0451\n",
            "Epoch 37 Batch 300 Loss 0.0474\n",
            "Epoch 37 Batch 400 Loss 0.0362\n",
            "Epoch 37 Batch 500 Loss 0.0350\n",
            "Epoch 37 Batch 600 Loss 0.0577\n",
            "Epoch 37 Batch 700 Loss 0.0446\n",
            "Epoch 37 Batch 800 Loss 0.0535\n",
            "Epoch 37 Batch 900 Loss 0.0540\n",
            "Epoch 37 Batch 1000 Loss 0.0380\n",
            "Epoch 37 Batch 1100 Loss 0.0332\n",
            "Epoch 37 Batch 1200 Loss 0.0221\n",
            "Epoch 37 Loss 0.0428\n",
            "Time taken for 1 epoch 98.30239510536194 sec\n",
            "\n",
            "Epoch 38 Batch 0 Loss 0.0168\n",
            "Epoch 38 Batch 100 Loss 0.0339\n",
            "Epoch 38 Batch 200 Loss 0.0322\n",
            "Epoch 38 Batch 300 Loss 0.0397\n",
            "Epoch 38 Batch 400 Loss 0.0342\n",
            "Epoch 38 Batch 500 Loss 0.0534\n",
            "Epoch 38 Batch 600 Loss 0.0350\n",
            "Epoch 38 Batch 700 Loss 0.0451\n",
            "Epoch 38 Batch 800 Loss 0.0378\n",
            "Epoch 38 Batch 900 Loss 0.0369\n",
            "Epoch 38 Batch 1000 Loss 0.0322\n",
            "Epoch 38 Batch 1100 Loss 0.0614\n",
            "Epoch 38 Batch 1200 Loss 0.0425\n",
            "Epoch 38 Loss 0.0431\n",
            "Time taken for 1 epoch 98.96124792098999 sec\n",
            "\n",
            "Epoch 39 Batch 0 Loss 0.0336\n",
            "Epoch 39 Batch 100 Loss 0.0354\n",
            "Epoch 39 Batch 200 Loss 0.0406\n",
            "Epoch 39 Batch 300 Loss 0.0338\n",
            "Epoch 39 Batch 400 Loss 0.0192\n",
            "Epoch 39 Batch 500 Loss 0.0327\n",
            "Epoch 39 Batch 600 Loss 0.0405\n",
            "Epoch 39 Batch 700 Loss 0.0547\n",
            "Epoch 39 Batch 800 Loss 0.0356\n",
            "Epoch 39 Batch 900 Loss 0.0612\n",
            "Epoch 39 Batch 1000 Loss 0.0558\n",
            "Epoch 39 Batch 1100 Loss 0.0450\n",
            "Epoch 39 Batch 1200 Loss 0.0705\n",
            "Epoch 39 Loss 0.0426\n",
            "Time taken for 1 epoch 98.1753282546997 sec\n",
            "\n",
            "Epoch 40 Batch 0 Loss 0.0245\n",
            "Epoch 40 Batch 100 Loss 0.0225\n",
            "Epoch 40 Batch 200 Loss 0.0454\n",
            "Epoch 40 Batch 300 Loss 0.0406\n",
            "Epoch 40 Batch 400 Loss 0.0332\n",
            "Epoch 40 Batch 500 Loss 0.0371\n",
            "Epoch 40 Batch 600 Loss 0.0292\n",
            "Epoch 40 Batch 700 Loss 0.0288\n",
            "Epoch 40 Batch 800 Loss 0.0397\n",
            "Epoch 40 Batch 900 Loss 0.0469\n",
            "Epoch 40 Batch 1000 Loss 0.0955\n",
            "Epoch 40 Batch 1100 Loss 0.0449\n",
            "Epoch 40 Batch 1200 Loss 0.0685\n",
            "Epoch 40 Loss 0.0415\n",
            "Time taken for 1 epoch 99.08193874359131 sec\n",
            "\n",
            "Epoch 41 Batch 0 Loss 0.0438\n",
            "Epoch 41 Batch 100 Loss 0.0257\n",
            "Epoch 41 Batch 200 Loss 0.0168\n",
            "Epoch 41 Batch 300 Loss 0.0649\n",
            "Epoch 41 Batch 400 Loss 0.0331\n",
            "Epoch 41 Batch 500 Loss 0.0285\n",
            "Epoch 41 Batch 600 Loss 0.0453\n",
            "Epoch 41 Batch 700 Loss 0.0397\n",
            "Epoch 41 Batch 800 Loss 0.0427\n",
            "Epoch 41 Batch 900 Loss 0.0477\n",
            "Epoch 41 Batch 1000 Loss 0.0278\n",
            "Epoch 41 Batch 1100 Loss 0.0504\n",
            "Epoch 41 Batch 1200 Loss 0.0410\n",
            "Epoch 41 Loss 0.0423\n",
            "Time taken for 1 epoch 98.16840100288391 sec\n",
            "\n",
            "Epoch 42 Batch 0 Loss 0.0392\n",
            "Epoch 42 Batch 100 Loss 0.0100\n",
            "Epoch 42 Batch 200 Loss 0.0291\n",
            "Epoch 42 Batch 300 Loss 0.0546\n",
            "Epoch 42 Batch 400 Loss 0.0426\n",
            "Epoch 42 Batch 500 Loss 0.0309\n",
            "Epoch 42 Batch 600 Loss 0.0572\n",
            "Epoch 42 Batch 700 Loss 0.0364\n",
            "Epoch 42 Batch 800 Loss 0.0642\n",
            "Epoch 42 Batch 900 Loss 0.0468\n",
            "Epoch 42 Batch 1000 Loss 0.0413\n",
            "Epoch 42 Batch 1100 Loss 0.0487\n",
            "Epoch 42 Batch 1200 Loss 0.0322\n",
            "Epoch 42 Loss 0.0422\n",
            "Time taken for 1 epoch 99.07035660743713 sec\n",
            "\n",
            "Epoch 43 Batch 0 Loss 0.0469\n",
            "Epoch 43 Batch 100 Loss 0.0328\n",
            "Epoch 43 Batch 200 Loss 0.0387\n",
            "Epoch 43 Batch 300 Loss 0.0272\n",
            "Epoch 43 Batch 400 Loss 0.0660\n",
            "Epoch 43 Batch 500 Loss 0.0332\n",
            "Epoch 43 Batch 600 Loss 0.0426\n",
            "Epoch 43 Batch 700 Loss 0.0460\n",
            "Epoch 43 Batch 800 Loss 0.0403\n",
            "Epoch 43 Batch 900 Loss 0.0738\n",
            "Epoch 43 Batch 1000 Loss 0.0378\n",
            "Epoch 43 Batch 1100 Loss 0.0543\n",
            "Epoch 43 Batch 1200 Loss 0.0360\n",
            "Epoch 43 Loss 0.0405\n",
            "Time taken for 1 epoch 98.27456474304199 sec\n",
            "\n",
            "Epoch 44 Batch 0 Loss 0.0527\n",
            "Epoch 44 Batch 100 Loss 0.0317\n",
            "Epoch 44 Batch 200 Loss 0.0309\n",
            "Epoch 44 Batch 300 Loss 0.0388\n",
            "Epoch 44 Batch 400 Loss 0.0332\n",
            "Epoch 44 Batch 500 Loss 0.0446\n",
            "Epoch 44 Batch 600 Loss 0.0436\n",
            "Epoch 44 Batch 700 Loss 0.0438\n",
            "Epoch 44 Batch 800 Loss 0.0365\n",
            "Epoch 44 Batch 900 Loss 0.0449\n",
            "Epoch 44 Batch 1000 Loss 0.0576\n",
            "Epoch 44 Batch 1100 Loss 0.0304\n",
            "Epoch 44 Batch 1200 Loss 0.0484\n",
            "Epoch 44 Loss 0.0403\n",
            "Time taken for 1 epoch 99.06493425369263 sec\n",
            "\n",
            "Epoch 45 Batch 0 Loss 0.0309\n",
            "Epoch 45 Batch 100 Loss 0.0458\n",
            "Epoch 45 Batch 200 Loss 0.0242\n",
            "Epoch 45 Batch 300 Loss 0.0478\n",
            "Epoch 45 Batch 400 Loss 0.0374\n",
            "Epoch 45 Batch 500 Loss 0.0523\n",
            "Epoch 45 Batch 600 Loss 0.0324\n",
            "Epoch 45 Batch 700 Loss 0.0451\n",
            "Epoch 45 Batch 800 Loss 0.0445\n",
            "Epoch 45 Batch 900 Loss 0.0436\n",
            "Epoch 45 Batch 1000 Loss 0.0621\n",
            "Epoch 45 Batch 1100 Loss 0.0300\n",
            "Epoch 45 Batch 1200 Loss 0.0537\n",
            "Epoch 45 Loss 0.0408\n",
            "Time taken for 1 epoch 98.18101048469543 sec\n",
            "\n",
            "Epoch 46 Batch 0 Loss 0.0454\n",
            "Epoch 46 Batch 100 Loss 0.0243\n",
            "Epoch 46 Batch 200 Loss 0.0315\n",
            "Epoch 46 Batch 300 Loss 0.0292\n",
            "Epoch 46 Batch 400 Loss 0.0354\n",
            "Epoch 46 Batch 500 Loss 0.0526\n",
            "Epoch 46 Batch 600 Loss 0.0422\n",
            "Epoch 46 Batch 700 Loss 0.0561\n",
            "Epoch 46 Batch 800 Loss 0.0229\n",
            "Epoch 46 Batch 900 Loss 0.0281\n",
            "Epoch 46 Batch 1000 Loss 0.0497\n",
            "Epoch 46 Batch 1100 Loss 0.0326\n",
            "Epoch 46 Batch 1200 Loss 0.0715\n",
            "Epoch 46 Loss 0.0404\n",
            "Time taken for 1 epoch 98.86584377288818 sec\n",
            "\n",
            "Epoch 47 Batch 0 Loss 0.0318\n",
            "Epoch 47 Batch 100 Loss 0.0348\n",
            "Epoch 47 Batch 200 Loss 0.0477\n",
            "Epoch 47 Batch 300 Loss 0.0225\n",
            "Epoch 47 Batch 400 Loss 0.0274\n",
            "Epoch 47 Batch 500 Loss 0.0477\n",
            "Epoch 47 Batch 600 Loss 0.0543\n",
            "Epoch 47 Batch 700 Loss 0.0552\n",
            "Epoch 47 Batch 800 Loss 0.0436\n",
            "Epoch 47 Batch 900 Loss 0.0554\n",
            "Epoch 47 Batch 1000 Loss 0.0445\n",
            "Epoch 47 Batch 1100 Loss 0.0427\n",
            "Epoch 47 Batch 1200 Loss 0.0322\n",
            "Epoch 47 Loss 0.0406\n",
            "Time taken for 1 epoch 98.2445228099823 sec\n",
            "\n",
            "Epoch 48 Batch 0 Loss 0.0378\n",
            "Epoch 48 Batch 100 Loss 0.0245\n",
            "Epoch 48 Batch 200 Loss 0.0207\n",
            "Epoch 48 Batch 300 Loss 0.0462\n",
            "Epoch 48 Batch 400 Loss 0.0181\n",
            "Epoch 48 Batch 500 Loss 0.0483\n",
            "Epoch 48 Batch 600 Loss 0.0316\n",
            "Epoch 48 Batch 700 Loss 0.0378\n",
            "Epoch 48 Batch 800 Loss 0.0288\n",
            "Epoch 48 Batch 900 Loss 0.0438\n",
            "Epoch 48 Batch 1000 Loss 0.0375\n",
            "Epoch 48 Batch 1100 Loss 0.0758\n",
            "Epoch 48 Batch 1200 Loss 0.0315\n",
            "Epoch 48 Loss 0.0393\n",
            "Time taken for 1 epoch 99.12655782699585 sec\n",
            "\n",
            "Epoch 49 Batch 0 Loss 0.0370\n",
            "Epoch 49 Batch 100 Loss 0.0300\n",
            "Epoch 49 Batch 200 Loss 0.0378\n",
            "Epoch 49 Batch 300 Loss 0.0514\n",
            "Epoch 49 Batch 400 Loss 0.0338\n",
            "Epoch 49 Batch 500 Loss 0.0437\n",
            "Epoch 49 Batch 600 Loss 0.0613\n",
            "Epoch 49 Batch 700 Loss 0.0298\n",
            "Epoch 49 Batch 800 Loss 0.0283\n",
            "Epoch 49 Batch 900 Loss 0.0528\n",
            "Epoch 49 Batch 1000 Loss 0.0814\n",
            "Epoch 49 Batch 1100 Loss 0.0594\n",
            "Epoch 49 Batch 1200 Loss 0.0490\n",
            "Epoch 49 Loss 0.0390\n",
            "Time taken for 1 epoch 98.21785259246826 sec\n",
            "\n",
            "Epoch 50 Batch 0 Loss 0.0121\n",
            "Epoch 50 Batch 100 Loss 0.0286\n",
            "Epoch 50 Batch 200 Loss 0.0201\n",
            "Epoch 50 Batch 300 Loss 0.0222\n",
            "Epoch 50 Batch 400 Loss 0.0527\n",
            "Epoch 50 Batch 500 Loss 0.0444\n",
            "Epoch 50 Batch 600 Loss 0.0370\n",
            "Epoch 50 Batch 700 Loss 0.0508\n",
            "Epoch 50 Batch 800 Loss 0.0459\n",
            "Epoch 50 Batch 900 Loss 0.0339\n",
            "Epoch 50 Batch 1000 Loss 0.0490\n",
            "Epoch 50 Batch 1100 Loss 0.0518\n",
            "Epoch 50 Batch 1200 Loss 0.0289\n",
            "Epoch 50 Loss 0.0399\n",
            "Time taken for 1 epoch 99.06124567985535 sec\n",
            "\n"
          ]
        }
      ],
      "source": [
        "EPOCHS = 50\n",
        "\n",
        "for epoch in range(EPOCHS):\n",
        "  start = time.time()\n",
        "\n",
        "  enc_hidden = encoder.initialize_hidden_state()\n",
        "  total_loss = 0\n",
        "\n",
        "  for (batch, (inp, targ)) in enumerate(dataset.take(steps_per_epoch)):\n",
        "    batch_loss = train_step(inp, targ, enc_hidden)\n",
        "    total_loss += batch_loss\n",
        "\n",
        "    if batch % 100 == 0:\n",
        "      print('Epoch {} Batch {} Loss {:.4f}'.format(epoch + 1,\n",
        "                                                   batch,\n",
        "                                                   batch_loss.numpy()))\n",
        "  if (epoch + 1) % 2 == 0:\n",
        "    checkpoint.save(file_prefix = checkpoint_prefix)\n",
        "\n",
        "  print('Epoch {} Loss {:.4f}'.format(epoch + 1,\n",
        "                                      total_loss / steps_per_epoch))\n",
        "  print('Time taken for 1 epoch {} sec\\n'.format(time.time() - start))"
      ]
    },
    {
      "cell_type": "code",
      "execution_count": 29,
      "metadata": {
        "id": "EbQpyYs13jF_"
      },
      "outputs": [],
      "source": [
        "def evaluate(sentence):\n",
        "  attention_plot = np.zeros((max_length_targ, max_length_inp))\n",
        "\n",
        "  sentence = preprocess_sentence(sentence)\n",
        "\n",
        "  inputs = [inp_lang.word_index[i] for i in sentence.split(' ')]\n",
        "  inputs = tf.keras.preprocessing.sequence.pad_sequences([inputs],\n",
        "                                                         maxlen=max_length_inp,\n",
        "                                                         padding='post')\n",
        "  inputs = tf.convert_to_tensor(inputs)\n",
        "\n",
        "  result = ''\n",
        "\n",
        "  hidden = [tf.zeros((1, units))]\n",
        "  enc_out, enc_hidden = encoder(inputs, hidden)\n",
        "\n",
        "  dec_hidden = enc_hidden\n",
        "  dec_input = tf.expand_dims([targ_lang.word_index['<start>']], 0)\n",
        "\n",
        "  for t in range(max_length_targ):\n",
        "    predictions, dec_hidden, attention_weights = decoder(dec_input,\n",
        "                                                         dec_hidden,\n",
        "                                                         enc_out)\n",
        "\n",
        "    attention_weights = tf.reshape(attention_weights, (-1, ))\n",
        "    attention_plot[t] = attention_weights.numpy()\n",
        "\n",
        "    predicted_id = tf.argmax(predictions[0]).numpy()\n",
        "\n",
        "    result += targ_lang.index_word[predicted_id] + ' '\n",
        "\n",
        "    if targ_lang.index_word[predicted_id] == '<end>':\n",
        "      return result, sentence, attention_plot\n",
        "\n",
        "    dec_input = tf.expand_dims([predicted_id], 0)\n",
        "\n",
        "  return result, sentence, attention_plot"
      ]
    },
    {
      "cell_type": "code",
      "execution_count": 30,
      "metadata": {
        "id": "Qjy26Fe8Bv5d"
      },
      "outputs": [],
      "source": [
        "def plot_attention(attention, sentence, predicted_sentence):\n",
        "  fig = plt.figure(figsize=(10,10))\n",
        "  ax = fig.add_subplot(1, 1, 1)\n",
        "  ax.matshow(attention, cmap='viridis')\n",
        "\n",
        "  fontdict = {'fontsize': 14}\n",
        "\n",
        "  ax.set_xticklabels([''] + sentence, fontdict=fontdict, rotation=90)\n",
        "  ax.set_yticklabels([''] + predicted_sentence, fontdict=fontdict)\n",
        "\n",
        "  ax.xaxis.set_major_locator(ticker.MultipleLocator(1))\n",
        "  ax.yaxis.set_major_locator(ticker.MultipleLocator(1))\n",
        "\n",
        "  plt.show()"
      ]
    },
    {
      "cell_type": "code",
      "execution_count": 31,
      "metadata": {
        "id": "sl9zUHzg3jGI"
      },
      "outputs": [],
      "source": [
        "def translate(sentence):\n",
        "  result, sentence, attention_plot = evaluate(sentence)\n",
        "\n",
        "  print('Input: %s' % (sentence))\n",
        "  print('Predicted translation: {}'.format(result))\n",
        "\n",
        "  attention_plot = attention_plot[:len(result.split(' ')), :len(sentence.split(' '))]\n",
        "  plot_attention(attention_plot, sentence.split(' '), result.split(' '))"
      ]
    },
    {
      "cell_type": "code",
      "execution_count": 32,
      "metadata": {
        "colab": {
          "base_uri": "https://localhost:8080/"
        },
        "id": "UJpT9D5_OgP6",
        "outputId": "81269504-30a7-4c07-dd0c-57a7cfa9a49c"
      },
      "outputs": [
        {
          "output_type": "execute_result",
          "data": {
            "text/plain": [
              "<tensorflow.python.training.tracking.util.CheckpointLoadStatus at 0x7f8b32792850>"
            ]
          },
          "metadata": {},
          "execution_count": 32
        }
      ],
      "source": [
        "checkpoint.restore(tf.train.latest_checkpoint(checkpoint_dir))"
      ]
    },
    {
      "cell_type": "code",
      "execution_count": 33,
      "metadata": {
        "colab": {
          "base_uri": "https://localhost:8080/",
          "height": 676
        },
        "id": "WrAM0FDomq3E",
        "outputId": "196369a9-ed47-4ffe-877c-dd408feb854e"
      },
      "outputs": [
        {
          "output_type": "stream",
          "name": "stdout",
          "text": [
            "Input: <start> здесь хорошо . <end>\n",
            "Predicted translation: that's fine here . <end> \n"
          ]
        },
        {
          "output_type": "display_data",
          "data": {
            "text/plain": [
              "<Figure size 720x720 with 1 Axes>"
            ],
            "image/png": "[encoded data removed]"
          },
          "metadata": {
            "needs_background": "light"
          }
        }
      ],
      "source": [
        "translate('Здесь хорошо.')"
      ]
    },
    {
      "cell_type": "code",
      "execution_count": 34,
      "metadata": {
        "colab": {
          "base_uri": "https://localhost:8080/",
          "height": 614
        },
        "id": "5bhFfwcIMX5i",
        "outputId": "d755b506-43b0-4d5d-a913-d1070824d061"
      },
      "outputs": [
        {
          "output_type": "stream",
          "name": "stdout",
          "text": [
            "Input: <start> я не смогу поехать . <end>\n",
            "Predicted translation: i can't go . <end> \n"
          ]
        },
        {
          "output_type": "display_data",
          "data": {
            "text/plain": [
              "<Figure size 720x720 with 1 Axes>"
            ],
            "image/png": "[encoded data removed]"
          },
          "metadata": {
            "needs_background": "light"
          }
        }
      ],
      "source": [
        "translate('Я не смогу поехать.')"
      ]
    },
    {
      "cell_type": "code",
      "execution_count": 35,
      "metadata": {
        "colab": {
          "base_uri": "https://localhost:8080/",
          "height": 676
        },
        "id": "zSx2iM36EZQZ",
        "outputId": "6f40f873-a45e-43e9-d3de-0c6df3a25b31"
      },
      "outputs": [
        {
          "output_type": "stream",
          "name": "stdout",
          "text": [
            "Input: <start> вы еще дома ? <end>\n",
            "Predicted translation: are you still at home ? <end> \n"
          ]
        },
        {
          "output_type": "display_data",
          "data": {
            "text/plain": [
              "<Figure size 720x720 with 1 Axes>"
            ],
            "image/png": "[encoded data removed]"
          },
          "metadata": {
            "needs_background": "light"
          }
        }
      ],
      "source": [
        "translate(u'Вы еще дома?')"
      ]
    },
    {
      "cell_type": "code",
      "execution_count": 36,
      "metadata": {
        "colab": {
          "base_uri": "https://localhost:8080/",
          "height": 676
        },
        "id": "A3LLCx3ZE0Ls",
        "outputId": "3e0c3790-fa0a-433a-d416-69089bf4f7af"
      },
      "outputs": [
        {
          "output_type": "stream",
          "name": "stdout",
          "text": [
            "Input: <start> вы все еще дома ? <end>\n",
            "Predicted translation: are you still at home ? <end> \n"
          ]
        },
        {
          "output_type": "display_data",
          "data": {
            "text/plain": [
              "<Figure size 720x720 with 1 Axes>"
            ],
            "image/png": "[encoded data removed]"
          },
          "metadata": {
            "needs_background": "light"
          }
        }
      ],
      "source": [
        "translate(u'Вы все еще дома?')"
      ]
    },
    {
      "cell_type": "code",
      "execution_count": 37,
      "metadata": {
        "colab": {
          "base_uri": "https://localhost:8080/",
          "height": 690
        },
        "id": "DUQVLVqUE1YW",
        "outputId": "d33799c9-a2b8-438e-8c94-6b7ba60127e5"
      },
      "outputs": [
        {
          "output_type": "stream",
          "name": "stdout",
          "text": [
            "Input: <start> попробуй сделать это . <end>\n",
            "Predicted translation: try to do it . <end> \n"
          ]
        },
        {
          "output_type": "display_data",
          "data": {
            "text/plain": [
              "<Figure size 720x720 with 1 Axes>"
            ],
            "image/png": "[encoded data removed]"
          },
          "metadata": {
            "needs_background": "light"
          }
        }
      ],
      "source": [
        "translate(u'Попробуй сделать это.')"
      ]
    },
    {
      "cell_type": "code",
      "execution_count": 38,
      "metadata": {
        "colab": {
          "base_uri": "https://localhost:8080/",
          "height": 523
        },
        "id": "f09_hUFx9EJh",
        "outputId": "4a043d4b-fcc9-43b5-8cff-2c8c4da5c022"
      },
      "outputs": [
        {
          "output_type": "stream",
          "name": "stdout",
          "text": [
            "Input: <start> я не люблю , когда идет снег . <end>\n",
            "Predicted translation: i don't waste hot . <end> \n"
          ]
        },
        {
          "output_type": "display_data",
          "data": {
            "text/plain": [
              "<Figure size 720x720 with 1 Axes>"
            ],
            "image/png": "[encoded data removed]"
          },
          "metadata": {
            "needs_background": "light"
          }
        }
      ],
      "source": [
        "translate(u'Я не люблю, когда идет снег.')"
      ]
    },
    {
      "cell_type": "code",
      "execution_count": 39,
      "metadata": {
        "colab": {
          "base_uri": "https://localhost:8080/",
          "height": 638
        },
        "id": "e7c5p8rmkHQG",
        "outputId": "2d102a39-2063-4f82-e7f9-9c434dc3b80b"
      },
      "outputs": [
        {
          "output_type": "stream",
          "name": "stdout",
          "text": [
            "Input: <start> мы можем поехать в отпуск на машине . <end>\n",
            "Predicted translation: we can go in a car . <end> \n"
          ]
        },
        {
          "output_type": "display_data",
          "data": {
            "text/plain": [
              "<Figure size 720x720 with 1 Axes>"
            ],
            "image/png": "[encoded data removed]"
          },
          "metadata": {
            "needs_background": "light"
          }
        }
      ],
      "source": [
        "translate(u'Мы можем поехать в отпуск на машине.')"
      ]
    },
    {
      "cell_type": "markdown",
      "source": [
        "Относительно модели без механизма внимания качество заметно не повысилось"
      ],
      "metadata": {
        "id": "OzBGCMgfnSZL"
      }
    }
  ],
  "metadata": {
    "accelerator": "GPU",
    "colab": {
      "provenance": []
    },
    "kernelspec": {
      "display_name": "Python 3",
      "language": "python",
      "name": "python3"
    },
    "language_info": {
      "codemirror_mode": {
        "name": "ipython",
        "version": 3
      },
      "file_extension": ".py",
      "mimetype": "text/x-python",
      "name": "python",
      "nbconvert_exporter": "python",
      "pygments_lexer": "ipython3",
      "version": "3.8.8"
    }
  },
  "nbformat": 4,
  "nbformat_minor": 0
}